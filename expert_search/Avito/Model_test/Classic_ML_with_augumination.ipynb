{
 "cells": [
  {
   "cell_type": "code",
   "execution_count": null,
   "metadata": {
    "colab": {
     "base_uri": "https://localhost:8080/",
     "height": 86,
     "referenced_widgets": [
      "fc02addfb09a4af1a7aea510e1201e3b",
      "b4f1f7af9f584bf8a1a15cb01ac2f926",
      "5b5a551415144f3eb2b066013d09d9e2",
      "4e2d4adea9c34d8893b69b47efa135d4",
      "b046059b9da8447eb121871f91a13b33",
      "10acde955fbb44acafe82567b18287ba",
      "475dd6fd3f114f8497c91802ca102560",
      "e89d33d62d064c58b3d3f5104641ae30",
      "5e7aed02e8a94d44b2eef945fa9b4e2d",
      "6978618c02474b1383cfa2d3822d410d",
      "9960c9b7e4454535bf593fe4d1303a47"
     ]
    },
    "executionInfo": {
     "elapsed": 5170,
     "status": "ok",
     "timestamp": 1747229976283,
     "user": {
      "displayName": "Татьяна Бушуева",
      "userId": "14369899420098124992"
     },
     "user_tz": -180
    },
    "id": "HSouzwDv5Zkh",
    "outputId": "a95da2ca-5e84-4473-e1b1-eb32907669fa"
   },
   "outputs": [],
   "source": [
    "import pandas as pd\n",
    "import numpy as np\n",
    "from sklearn.model_selection import train_test_split\n",
    "import re\n",
    "import string\n",
    "import emoji\n",
    "from transformers import AutoTokenizer, AutoModel\n",
    "from torch import cuda\n",
    "from tqdm import tqdm\n",
    "import torch.nn.functional as F\n",
    "import torch\n",
    "from xgboost import XGBClassifier\n",
    "from sklearn.feature_extraction.text import TfidfVectorizer\n",
    "from sklearn.linear_model import LogisticRegression\n",
    "from sklearn.pipeline import Pipeline\n",
    "from transformers import AutoTokenizer, AutoModel\n",
    "from sklearn.compose import ColumnTransformer\n",
    "from sklearn.datasets import fetch_openml\n",
    "from sklearn.feature_selection import SelectPercentile, chi2\n",
    "from sklearn.impute import SimpleImputer\n",
    "from sklearn.linear_model import LogisticRegression\n",
    "from sklearn.model_selection import RandomizedSearchCV, train_test_split\n",
    "from sklearn.preprocessing import OneHotEncoder, StandardScaler\n",
    "from sklearn.metrics import balanced_accuracy_score,f1_score,accuracy_score,confusion_matrix\n",
    "import optuna\n",
    "from tqdm import tqdm\n",
    "import os\n",
    "from matplotlib import pyplot as plt\n",
    "np.random.seed(0)"
   ]
  },
  {
   "cell_type": "code",
   "execution_count": null,
   "metadata": {
    "id": "GfF2lshYkhZw"
   },
   "outputs": [],
   "source": [
    "data_train = pd.read_csv('/content/drive/MyDrive/Znatno_personal/Отчетность ВКР/Артефакты/Parsing_avito/Model for benchmark/data/train - train (3).csv')"
   ]
  },
  {
   "cell_type": "code",
   "execution_count": null,
   "metadata": {
    "id": "nFIF7NVL2T33"
   },
   "outputs": [],
   "source": [
    "data_test = pd.read_csv('/content/drive/MyDrive/Znatno_personal/Отчетность ВКР/Артефакты/Parsing_avito/Model for benchmark/data/test_data.csv')"
   ]
  },
  {
   "cell_type": "code",
   "execution_count": null,
   "metadata": {
    "id": "U7XJqGYk3nxZ"
   },
   "outputs": [],
   "source": [
    "X = data_train['message.text']\n",
    "y = data_train['Оценка']\n",
    "X_test = data_test['message.text']\n",
    "y_test = data_test['Оценка']"
   ]
  },
  {
   "cell_type": "markdown",
   "metadata": {
    "id": "YOnrzvsa3wQY"
   },
   "source": [
    "# Предобработка"
   ]
  },
  {
   "cell_type": "code",
   "execution_count": null,
   "metadata": {
    "id": "UGUXIQ8jV9k4"
   },
   "outputs": [],
   "source": [
    "def convert_emojis_to_words(text):\n",
    "\n",
    "    # Convert emojis to words\n",
    "    text = emoji.demojize(text, delimiters=(\" \", \" \"))\n",
    "\n",
    "    # Remove the : from the words and replace _ with space\n",
    "    text = text.replace(\"_\", \" \")\n",
    "\n",
    "    return text"
   ]
  },
  {
   "cell_type": "code",
   "execution_count": null,
   "metadata": {
    "id": "3TBvnkRid1YS"
   },
   "outputs": [],
   "source": [
    "symbols_pattern = re.compile(pattern = \"[\"\n",
    "    \"@_!#$%^&*()<>?/\\|}{~√•—\"\n",
    "                       \"]+\", flags = re.UNICODE) #спецсимволы\n",
    "# двойные пробелы\n",
    "space_pattern = re.compile('\\s+')\n",
    "#exclude = set(string.punctuation) # удаление пунктуации\n",
    "def clear_text(text):\n",
    "    \"\"\" Функция удаления спецсимволов\"\"\"\n",
    "    # удаление спецсимволов и emoji\n",
    "    pre = symbols_pattern.sub(r'',text)\n",
    "    pre = re.sub(r'http\\S+', '', pre)\n",
    "    pre = convert_emojis_to_words(pre)\n",
    "\n",
    "\n",
    "    return space_pattern.sub(' ', pre)"
   ]
  },
  {
   "cell_type": "code",
   "execution_count": null,
   "metadata": {
    "id": "FLsxUHScd5XC"
   },
   "outputs": [],
   "source": [
    "def preprocess_text(text):\n",
    "    \"\"\" Финальная функция для обработки \"\"\"\n",
    "    # srip + lower + punctuation\n",
    "    sentence = (\n",
    "        ''.join([x for x in str(text).strip().lower()])\n",
    "    )\n",
    "\n",
    "    return clear_text(sentence)"
   ]
  },
  {
   "cell_type": "code",
   "execution_count": null,
   "metadata": {
    "id": "nuFdQdov4ZjX"
   },
   "outputs": [],
   "source": [
    "X = X.apply(preprocess_text)"
   ]
  },
  {
   "cell_type": "code",
   "execution_count": null,
   "metadata": {
    "id": "5VS3vVSs4aKL"
   },
   "outputs": [],
   "source": [
    "X_test = X_test.apply(preprocess_text)"
   ]
  },
  {
   "cell_type": "code",
   "execution_count": null,
   "metadata": {
    "id": "Qx5L-C3K3qOM"
   },
   "outputs": [],
   "source": [
    "X_train, X_val, y_train, y_val = train_test_split(X, y, test_size=0.1, random_state = 0)"
   ]
  },
  {
   "cell_type": "markdown",
   "metadata": {
    "id": "Mwu6_atsASlb"
   },
   "source": [
    "# **TF-IDF + LogisticRegression**"
   ]
  },
  {
   "cell_type": "code",
   "execution_count": null,
   "metadata": {
    "id": "-ImXpCWC6XV5"
   },
   "outputs": [],
   "source": [
    "numeric_features = [\"Стаж работы\",\"Возраст\"]\n",
    "numeric_transformer = Pipeline(\n",
    "    steps=[(\"imputer\", SimpleImputer(strategy=\"median\")), (\"scaler\", StandardScaler())]\n",
    ")\n",
    "\n",
    "categorical_features = [\"Тип занятости\", \"Сфера деятельности\", \"Образование\", \"Пол\"]\n",
    "categorical_transformer = Pipeline(\n",
    "    steps=[\n",
    "        (\"encoder\", OneHotEncoder(handle_unknown=\"ignore\")),\n",
    "        (\"selector\", SelectPercentile(chi2, percentile=50)),\n",
    "    ]\n",
    ")\n",
    "text_transformer = Pipeline(\n",
    "    steps = [\n",
    "        (\"vectorizer\", TfidfVectorizer())\n",
    "    ]\n",
    ")\n",
    "\n",
    "preprocessor = ColumnTransformer(\n",
    "    transformers=[\n",
    "        (\"num\", numeric_transformer, numeric_features),\n",
    "        (\"cat\", categorical_transformer, categorical_features),\n",
    "        (\"text\", text_transformer,'user_text_info')\n",
    "    ]\n",
    ")"
   ]
  },
  {
   "cell_type": "code",
   "execution_count": null,
   "metadata": {
    "colab": {
     "base_uri": "https://localhost:8080/"
    },
    "executionInfo": {
     "elapsed": 11015,
     "status": "ok",
     "timestamp": 1740658807708,
     "user": {
      "displayName": "Татьяна Бушуева",
      "userId": "14369899420098124992"
     },
     "user_tz": -420
    },
    "id": "sFLZahrB6fUU",
    "outputId": "07af584e-d04f-4cfd-dc5e-30ff8b323231"
   },
   "outputs": [],
   "source": [
    "clf = Pipeline(\n",
    "    steps=[(\"preprocessor\", preprocessor), (\"classifier\", LogisticRegression(max_iter=2000))]\n",
    ")\n",
    "\n",
    "\n",
    "clf.fit(X_train, y_train)\n",
    "print(\"Accuracy score: %.3f\" % clf.score(X_test, y_test))"
   ]
  },
  {
   "cell_type": "code",
   "execution_count": null,
   "metadata": {
    "id": "s6G3gWrV6gHH"
   },
   "outputs": [],
   "source": [
    "pred = clf.predict(X_test)"
   ]
  },
  {
   "cell_type": "code",
   "execution_count": null,
   "metadata": {
    "colab": {
     "base_uri": "https://localhost:8080/"
    },
    "executionInfo": {
     "elapsed": 121,
     "status": "ok",
     "timestamp": 1740658817890,
     "user": {
      "displayName": "Татьяна Бушуева",
      "userId": "14369899420098124992"
     },
     "user_tz": -420
    },
    "id": "gQiKGkxh6kGX",
    "outputId": "cbf9a715-9ead-4abf-b400-5871186ba49c"
   },
   "outputs": [],
   "source": [
    "balanced_accuracy = balanced_accuracy_score(y_test, pred)\n",
    "print(\"Balanced Accuracy:\", balanced_accuracy)"
   ]
  },
  {
   "cell_type": "code",
   "execution_count": null,
   "metadata": {
    "colab": {
     "base_uri": "https://localhost:8080/"
    },
    "executionInfo": {
     "elapsed": 18,
     "status": "ok",
     "timestamp": 1740658822662,
     "user": {
      "displayName": "Татьяна Бушуева",
      "userId": "14369899420098124992"
     },
     "user_tz": -420
    },
    "id": "mVzYbHLmC1p_",
    "outputId": "df769b64-edcc-4913-ab2c-0c6cb9e5f8bb"
   },
   "outputs": [],
   "source": [
    "f1_ = f1_score(y_test, pred, average='weighted')\n",
    "print(\"F1 score:\", f1_)"
   ]
  },
  {
   "cell_type": "markdown",
   "metadata": {
    "id": "Hazlj10SAlZl"
   },
   "source": [
    "# **Multilingual-e5-large-instruct**"
   ]
  },
  {
   "cell_type": "code",
   "execution_count": null,
   "metadata": {
    "colab": {
     "base_uri": "https://localhost:8080/",
     "height": 35
    },
    "executionInfo": {
     "elapsed": 4,
     "status": "ok",
     "timestamp": 1747228620786,
     "user": {
      "displayName": "Татьяна Бушуева",
      "userId": "14369899420098124992"
     },
     "user_tz": -180
    },
    "id": "42-Sh9T0OAbw",
    "outputId": "a7313b32-0555-4250-fd62-5588ba012a96"
   },
   "outputs": [],
   "source": [
    "device = 'cuda' if cuda.is_available() else 'cpu'\n",
    "device"
   ]
  },
  {
   "cell_type": "code",
   "execution_count": null,
   "metadata": {
    "colab": {
     "base_uri": "https://localhost:8080/",
     "height": 1000,
     "referenced_widgets": [
      "868759cb47344fb7b9da375ccdc1b785",
      "23e7a3bc7e874a1daa6547fc04a9aaad",
      "30ceeb1c95c141be8f1f56e90a3af477",
      "3195ccf52b9542a0accc9836b9d9ba79",
      "6bb411540a824c0f80223d4d69348829",
      "8a173d36984d4d43a538d832155cae76",
      "f81ec55455654c6cae8cfffb0dbb0579",
      "7d908ea7e7bb4d669d471a165018c078",
      "21705b9e66ec4e68baebbc1b7045d570",
      "6d8c8201d55544abbc2e38562f8d65aa",
      "9e0ede7bec744280b40ee9bfe0762810",
      "359278ca10794555a0503dbcfd235b9a",
      "a16354fbf06741c18f194f6462ed477f",
      "9b9ede1bb890462d9758180e3c6fa43d",
      "ba7bc034f5024cba87c65f813864c75d",
      "bf12592d4f6e4a9896abb3830ce477d9",
      "1865cac8750e424790ba022107c22545",
      "3ac37697e6044b5dab18e559bddcc8d9",
      "a2ecc0a2567a4e4a868e8b62c9bdd992",
      "fa4770eda2be4dd78a0a02ac153a3daf",
      "35fba553e6c245fb8b8f971986483b2e",
      "58ab5bb3258d45bea0573f477fe7de4b",
      "091533a7a1fb4391be51e8f9536c99c4",
      "ff5f4b90694e4c60b91b488fbf57690e",
      "415630b49d9a4c38a87caad878bb690d",
      "6294cdda9bfa41f49ad93ae8be49db6a",
      "efeeec9fc074463c8431eecd6406d48c",
      "8247dba894fe4a0680dc382db2b33633",
      "24898918fc474e8eba06f5f86a12d338",
      "8cabba73de4e489eb200a676be7c17e6",
      "8e9157ed5f94497c8c1d10e360e53f30",
      "87cb465a5d584c918bbbf48d530d4a49",
      "e2dd1fbb4dc5459ea2c3cf59108418fd",
      "fe23de6d53e34c5a856ef6dd391cec38",
      "49928792c2924b59a15885aab3c5fb3d",
      "de092c2e07e9494fba9876d73eabf86d",
      "d1f4a69803434a68905517cf0c82101c",
      "376990003cae4c7fa2b6348ae4917d75",
      "afe9581ca75049c4b13ab67e524681f8",
      "45f40d66f07e45529647e8296141ae74",
      "ddcb5911ab9d4355bf3d21ca148ac253",
      "e5cdf8c0d78947f19b3fe8e64ed1911f",
      "f96c9d3ff7ba448a9b64d12c9fc5288c",
      "cc7c27ea175f49ee999ad89e243d7136",
      "5fc9a89995a24063868752c3c1247fd1",
      "b378de66b29744d1936afb3b106da543",
      "464789198b474b45b306fafe37178a9b",
      "8874839493f04262ae80872a501f99df",
      "3853c21b778f460a84acfab93589d5cf",
      "47650980c42f4887985e662a170e3849",
      "209f937309ad4b27a947f897bed87906",
      "155f6a151850459496c138ca930c8992",
      "170466d7d35c4ba9acdfa974a962d036",
      "b7d8f143575a448d9cc8a3de70ca390a",
      "e21c0d40740b43f88da5c9092533a62a",
      "ee60366f49b748558723346bc8cbc857",
      "b4134f22730e493cb8efe93df9ca0c0b",
      "fbefed5c18d443dfae03d5f919be4aa1",
      "71f38a2f9d0a4363867a52fc75a7b2e7",
      "201a8deba453434bb987ae586e3f6410",
      "6535553b1a1645db8fe9bede2e5a032f",
      "2df30b37176341bb9cfd3b54376eb96a",
      "aa0615b17f394b539bfe81f37fd61de8",
      "262ba10cd41a497298e6bac0219ff6bb",
      "d2045bc828804982be7d6c312e67b633",
      "c518f1fbc65a4fa79350fde8806a1d52"
     ]
    },
    "executionInfo": {
     "elapsed": 16107,
     "status": "ok",
     "timestamp": 1747228637593,
     "user": {
      "displayName": "Татьяна Бушуева",
      "userId": "14369899420098124992"
     },
     "user_tz": -180
    },
    "id": "34CWA5hhCKRP",
    "outputId": "a7ba3e87-d83a-48cf-b04c-c30b1df9f38a"
   },
   "outputs": [],
   "source": [
    "tokenizer = AutoTokenizer.from_pretrained(\"intfloat/multilingual-e5-large-instruct\")\n",
    "model = AutoModel.from_pretrained(\"intfloat/multilingual-e5-large-instruct\")\n",
    "model.to(device)"
   ]
  },
  {
   "cell_type": "code",
   "execution_count": null,
   "metadata": {
    "id": "OLNaAJSxVuJj"
   },
   "outputs": [],
   "source": [
    "def embed_text(text):\n",
    "    t = tokenizer(text, padding= True, truncation=True, max_length=512,  return_tensors='pt' )\n",
    "    with torch.no_grad():\n",
    "      model_output = model(**{k: v.to(model.device) for k, v in t.items()})\n",
    "    embeddings = model_output.last_hidden_state[:, 0, :]\n",
    "    embeddings = torch.nn.functional.normalize(embeddings)\n",
    "    return embeddings[0].cpu().numpy()"
   ]
  },
  {
   "cell_type": "code",
   "execution_count": null,
   "metadata": {
    "id": "FSQjtrPI03Uh"
   },
   "outputs": [],
   "source": [
    "x = np.zeros((len(X_train), 1024))\n",
    "y =np.array(y_train)\n"
   ]
  },
  {
   "cell_type": "code",
   "execution_count": null,
   "metadata": {
    "colab": {
     "base_uri": "https://localhost:8080/"
    },
    "executionInfo": {
     "elapsed": 58313,
     "status": "ok",
     "timestamp": 1747228699112,
     "user": {
      "displayName": "Татьяна Бушуева",
      "userId": "14369899420098124992"
     },
     "user_tz": -180
    },
    "id": "ZL5jlD4R09_c",
    "outputId": "6c95c40a-4dfb-4836-8d2d-04c4f785913f"
   },
   "outputs": [],
   "source": [
    "for ind, sent in enumerate(tqdm(X_train)):\n",
    "   x[ind] = embed_text(sent)"
   ]
  },
  {
   "cell_type": "code",
   "execution_count": null,
   "metadata": {
    "id": "l8gE-7xF2S_A"
   },
   "outputs": [],
   "source": [
    "x_test = np.zeros((len(X_test), 1024))\n",
    "y_test =np.array(y_test)"
   ]
  },
  {
   "cell_type": "code",
   "execution_count": null,
   "metadata": {
    "colab": {
     "base_uri": "https://localhost:8080/"
    },
    "executionInfo": {
     "elapsed": 14467,
     "status": "ok",
     "timestamp": 1747228713612,
     "user": {
      "displayName": "Татьяна Бушуева",
      "userId": "14369899420098124992"
     },
     "user_tz": -180
    },
    "id": "hYuZUeZn2X-2",
    "outputId": "b3897ee7-9621-480d-e039-0dd65a7fcb23"
   },
   "outputs": [],
   "source": [
    "for ind, sent in enumerate(tqdm(X_test)):\n",
    "  x_test[ind] = embed_text(sent)"
   ]
  },
  {
   "cell_type": "code",
   "execution_count": null,
   "metadata": {
    "id": "oU687F8a9jQW"
   },
   "outputs": [],
   "source": [
    "x_val = np.zeros((len(X_val), 1024))\n",
    "y_val =np.array(y_val)"
   ]
  },
  {
   "cell_type": "code",
   "execution_count": null,
   "metadata": {
    "colab": {
     "base_uri": "https://localhost:8080/"
    },
    "executionInfo": {
     "elapsed": 6474,
     "status": "ok",
     "timestamp": 1747228720094,
     "user": {
      "displayName": "Татьяна Бушуева",
      "userId": "14369899420098124992"
     },
     "user_tz": -180
    },
    "id": "0vwO0ZaC9r5H",
    "outputId": "6067c0f2-f9f1-4591-b188-e8b5cad6ef73"
   },
   "outputs": [],
   "source": [
    "for ind, sent in enumerate(tqdm(X_val)):\n",
    "  x_val[ind] = embed_text(sent)"
   ]
  },
  {
   "cell_type": "markdown",
   "metadata": {
    "id": "bIICJLDZA-9v"
   },
   "source": [
    "## LogisticRegression"
   ]
  },
  {
   "cell_type": "code",
   "execution_count": null,
   "metadata": {
    "colab": {
     "base_uri": "https://localhost:8080/",
     "height": 80
    },
    "executionInfo": {
     "elapsed": 7803,
     "status": "ok",
     "timestamp": 1747228727902,
     "user": {
      "displayName": "Татьяна Бушуева",
      "userId": "14369899420098124992"
     },
     "user_tz": -180
    },
    "id": "-R4YdjGeJGER",
    "outputId": "dada55ea-f9db-4361-ae4e-5238ac2afcf5"
   },
   "outputs": [],
   "source": [
    "logistic_reg = LogisticRegression(max_iter=2000)\n",
    "logistic_reg.fit(x, y)"
   ]
  },
  {
   "cell_type": "code",
   "execution_count": null,
   "metadata": {
    "id": "Bvy_gjUfSsUU"
   },
   "outputs": [],
   "source": [
    "pred = logistic_reg.predict(x_test)"
   ]
  },
  {
   "cell_type": "code",
   "execution_count": null,
   "metadata": {
    "colab": {
     "base_uri": "https://localhost:8080/"
    },
    "executionInfo": {
     "elapsed": 34,
     "status": "ok",
     "timestamp": 1747228727904,
     "user": {
      "displayName": "Татьяна Бушуева",
      "userId": "14369899420098124992"
     },
     "user_tz": -180
    },
    "id": "iUEZW9YASyRC",
    "outputId": "1d678c30-3d44-4e07-db55-5f2b35a6cd12"
   },
   "outputs": [],
   "source": [
    "accuracy = accuracy_score(y_test, pred)\n",
    "print(\"Accuracy for Logistic Regression:\", accuracy_score(y_test, pred))\n",
    "print(\"F1 score for Logistic Regression:\",f1_score(y_test, pred, average='weighted'))\n",
    "print(\"Balanced accuracy for Logistic Regression:\", balanced_accuracy_score(y_test,pred))"
   ]
  },
  {
   "cell_type": "code",
   "execution_count": null,
   "metadata": {
    "id": "o8p4KjVA8ZDX"
   },
   "outputs": [],
   "source": [
    "def conf_matrix(y_test, pred):\n",
    "  cm = confusion_matrix(y_test, pred, labels=np.unique(y_test))\n",
    "\n",
    "  fig, ax = plt.subplots(figsize=(6,6))\n",
    "  im = ax.imshow(cm, interpolation='nearest', aspect='auto')\n",
    "  unique_labels = np.unique(y_test).astype(int)\n",
    "  ax.set_xticks(range(9))\n",
    "  ax.set_yticks(range(9))\n",
    "  ax.set_xticklabels(unique_labels, rotation=45)\n",
    "  ax.set_yticklabels(unique_labels)\n",
    "  ax.set_ylabel('Истинный класс')\n",
    "  ax.set_xlabel('Предсказанный класс')\n",
    "  fig.colorbar(im, ax=ax)\n",
    "  plt.tight_layout()\n",
    "  plt.show()"
   ]
  },
  {
   "cell_type": "code",
   "execution_count": null,
   "metadata": {
    "id": "tQdtRdcK8kk3"
   },
   "outputs": [],
   "source": [
    "def get_metrics_per_class(y_test, pred):\n",
    "  classes = np.unique(y_test)\n",
    "\n",
    "  # 1) F1-score по классам\n",
    "  f1_per_class = f1_score(y_test, pred, labels=classes, average=None, zero_division=0)\n",
    "\n",
    "  # 2) «Точность по классу» как доля правильно предсказанных среди всех примеров этого класса\n",
    "  #    (этот показатель в мультиклассе эквивалентен recall для данного класса)\n",
    "  accuracy_per_class = np.array([\n",
    "      np.mean(pred[y_test == cls] == cls)\n",
    "      for cls in classes\n",
    "  ])\n",
    "\n",
    "  # 3) Собираем всё в DataFrame\n",
    "  df = pd.DataFrame({\n",
    "      'class': classes.astype(str),\n",
    "      'accuracy': accuracy_per_class,\n",
    "      'f1_score': f1_per_class\n",
    "  }).set_index('class')\n",
    "  return df"
   ]
  },
  {
   "cell_type": "code",
   "execution_count": null,
   "metadata": {
    "colab": {
     "base_uri": "https://localhost:8080/",
     "height": 607
    },
    "executionInfo": {
     "elapsed": 246,
     "status": "ok",
     "timestamp": 1747228775720,
     "user": {
      "displayName": "Татьяна Бушуева",
      "userId": "14369899420098124992"
     },
     "user_tz": -180
    },
    "id": "ojkAyJX38wF4",
    "outputId": "97e8f4a0-afde-4e06-eeac-fd089539625d"
   },
   "outputs": [],
   "source": [
    "conf_matrix(y_test, pred)"
   ]
  },
  {
   "cell_type": "code",
   "execution_count": null,
   "metadata": {
    "colab": {
     "base_uri": "https://localhost:8080/",
     "height": 362
    },
    "executionInfo": {
     "elapsed": 32,
     "status": "ok",
     "timestamp": 1747228801011,
     "user": {
      "displayName": "Татьяна Бушуева",
      "userId": "14369899420098124992"
     },
     "user_tz": -180
    },
    "id": "Vo3DU2o281kZ",
    "outputId": "88960987-ff88-4bf9-acb7-fa2b3d93aad1"
   },
   "outputs": [],
   "source": [
    "get_metrics_per_class(y_test, pred)"
   ]
  },
  {
   "cell_type": "markdown",
   "metadata": {
    "id": "h-O3vstUBEtL"
   },
   "source": [
    "## XGB"
   ]
  },
  {
   "cell_type": "code",
   "execution_count": null,
   "metadata": {
    "colab": {
     "base_uri": "https://localhost:8080/",
     "height": 211
    },
    "executionInfo": {
     "elapsed": 157,
     "status": "error",
     "timestamp": 1742038218462,
     "user": {
      "displayName": "Татьяна Бушуева",
      "userId": "14369899420098124992"
     },
     "user_tz": -420
    },
    "id": "wI1H9vvPn17v",
    "outputId": "4e6fac24-77be-45d8-bdda-751df651a1e5"
   },
   "outputs": [],
   "source": [
    "def objective(trial):\n",
    "    params = {\n",
    "        \"objective\": \"multi:softmax\",\n",
    "        \"num_class\": 9,\n",
    "        \"eval_metric\": \"mlogloss\",\n",
    "        \"learning_rate\": trial.suggest_loguniform(\"learning_rate\", 0.0001, 0.3),\n",
    "        \"max_depth\": trial.suggest_int(\"max_depth\", 3, 100),\n",
    "        \"n_estimators\": trial.suggest_int(\"n_estimators\", 50, 2000),\n",
    "        \"subsample\": trial.suggest_float(\"subsample\", 0.5, 1.0),\n",
    "        \"colsample_bytree\": trial.suggest_float(\"colsample_bytree\", 0.05, 1.0)\n",
    "    }\n",
    "\n",
    "    model = XGBClassifier(**params)\n",
    "    model.fit(x, y)\n",
    "\n",
    "    y_pred = model.predict(x_val)\n",
    "    return accuracy_score(y_val, y_pred)\n",
    "\n",
    "# Запуск оптимизации\n",
    "study = optuna.create_study(direction=\"maximize\")  # Ищем max accuracy\n",
    "study.optimize(objective, n_trials=50)\n",
    "\n",
    "# Лучшие параметры\n",
    "print(\"Лучшие параметры:\", study.best_params)"
   ]
  },
  {
   "cell_type": "code",
   "execution_count": null,
   "metadata": {
    "colab": {
     "base_uri": "https://localhost:8080/"
    },
    "executionInfo": {
     "elapsed": 135864,
     "status": "ok",
     "timestamp": 1747228944130,
     "user": {
      "displayName": "Татьяна Бушуева",
      "userId": "14369899420098124992"
     },
     "user_tz": -180
    },
    "id": "GYLk8GtPrEjS",
    "outputId": "c1bed032-b159-43ff-9829-ba2e21b93bac"
   },
   "outputs": [],
   "source": [
    "xgb = XGBClassifier(objective=\"multi:softmax\", num_class=9, eval_metric=\"mlogloss\", learning_rate=0.07078025811321921, max_depth=46, n_estimators = 1284, subsample=0.5458605221291573, colsample_bytree= 0.15268221810604315)\n",
    "xgb.fit(x, y)\n",
    "# Предсказания и оценка\n",
    "y_pred = xgb.predict(x_test)\n",
    "print(\"Accuracy for XGB:\", accuracy_score(y_test, y_pred))\n",
    "print(\"F1 score for XGB:\",f1_score(y_test, y_pred, average='weighted'))\n",
    "print(\"Balanced accuracy for XGB:\",balanced_accuracy_score(y_test,y_pred))"
   ]
  },
  {
   "cell_type": "code",
   "execution_count": null,
   "metadata": {
    "colab": {
     "base_uri": "https://localhost:8080/",
     "height": 607
    },
    "executionInfo": {
     "elapsed": 153,
     "status": "ok",
     "timestamp": 1747228944285,
     "user": {
      "displayName": "Татьяна Бушуева",
      "userId": "14369899420098124992"
     },
     "user_tz": -180
    },
    "id": "_LhlcYCi893o",
    "outputId": "0f520aa2-9813-4648-ebbf-25a7f5306599"
   },
   "outputs": [],
   "source": [
    "conf_matrix(y_test, y_pred)"
   ]
  },
  {
   "cell_type": "code",
   "execution_count": null,
   "metadata": {
    "colab": {
     "base_uri": "https://localhost:8080/",
     "height": 362
    },
    "executionInfo": {
     "elapsed": 37,
     "status": "ok",
     "timestamp": 1747229471720,
     "user": {
      "displayName": "Татьяна Бушуева",
      "userId": "14369899420098124992"
     },
     "user_tz": -180
    },
    "id": "GZPJAp5j9Bn-",
    "outputId": "de45b467-8449-4212-830e-cd545ed69d90"
   },
   "outputs": [],
   "source": [
    "get_metrics_per_class(y_test, y_pred)"
   ]
  },
  {
   "cell_type": "markdown",
   "metadata": {
    "id": "qW3yyNmu9BsR"
   },
   "source": [
    "# GigaChat"
   ]
  },
  {
   "cell_type": "code",
   "execution_count": null,
   "metadata": {
    "colab": {
     "base_uri": "https://localhost:8080/",
     "height": 35
    },
    "executionInfo": {
     "elapsed": 4,
     "status": "ok",
     "timestamp": 1747230022278,
     "user": {
      "displayName": "Татьяна Бушуева",
      "userId": "14369899420098124992"
     },
     "user_tz": -180
    },
    "id": "hwBU9j0Q9OLN",
    "outputId": "271e87bc-4b8f-4200-93b5-202984b041b6"
   },
   "outputs": [],
   "source": [
    "device = 'cuda' if cuda.is_available() else 'cpu'\n",
    "device"
   ]
  },
  {
   "cell_type": "code",
   "execution_count": null,
   "metadata": {
    "colab": {
     "base_uri": "https://localhost:8080/",
     "height": 777
    },
    "executionInfo": {
     "elapsed": 10575,
     "status": "ok",
     "timestamp": 1747229961236,
     "user": {
      "displayName": "Татьяна Бушуева",
      "userId": "14369899420098124992"
     },
     "user_tz": -180
    },
    "id": "tvM21NmXBQuL",
    "outputId": "f0922d63-2244-4f07-c4e5-11fcaf7a3910"
   },
   "outputs": [],
   "source": [
    "!pip install transformers==4.46.0"
   ]
  },
  {
   "cell_type": "code",
   "execution_count": null,
   "metadata": {
    "colab": {
     "base_uri": "https://localhost:8080/",
     "height": 269,
     "referenced_widgets": [
      "cf8d5eb3e2604a628027a35a30b07155",
      "615cebca06b54026bbef2845f33011bf",
      "1b470e1023c24f8486d0b1017a35a5b5",
      "a4b87eeabb3343ad9b1f698a48c39160",
      "fad01e43168b4ad5a42c0fff953b530d",
      "7a5498e7197749aab117832f74fc37ea",
      "ad985fc87c594203b2326cb25a990124",
      "53f377a6695242c4a5fd2149326a93b8",
      "52c55ef4fe2f4298a77653d39c9371ef",
      "c3a188b29109477eb2c27bf2ee267e81",
      "f63b6cd35bd94b258017987ce8f2ce4d",
      "f6e81a6b8afd4a25bd0b2829d09b3d62",
      "8595e224ffbc427cb320dff37ffc936a",
      "9ae76f80535f47709e2a6bc53ce4e62d",
      "0364f2bfcfd549149660ff588b4178eb",
      "0572ce7438c24d2288fb0a5c0cbc36cc",
      "1ce4472dece54743b15d57349d2f38af",
      "18aee8aa4f87419a90d118257830dd78",
      "e47a8f64291c4ee9816314e146c865df",
      "f90b3bbbcfe649deb9e8fef0ed9c1d97",
      "515c2075b2144218a5d4b88aca5e401b",
      "8e2e7fde391a4e36a9596e8c6e1d2897",
      "eef97f6f1939424683a8f8ad6ebd97cc",
      "333a799674714798aeaa96871847c1c5",
      "49bbc6f47b5f46a58abb3b1164bd764b",
      "cd2f4d115e82480d862c839b4d3e13f3",
      "c9f40ce8e48c4ef7a445954e9a68388e",
      "690d886c01df4423abccca4b4cac4c7b",
      "ac052e1f55af42fe9879c6e9f3689188",
      "b7d0a4ac887a4ef7aeb57e7bd43bb05b",
      "3fa10eee9e2448348aceb6e35659eb0c",
      "e3736395d9d54ac5bcde775be5ddbd22",
      "35b2b84baba646999fcac1f664e22d59",
      "49c50699511d44868c5f132fc9badbcb",
      "c7cf918a018841a2842789290d3e4489",
      "701411ad1fe7457781220b1336483eb0",
      "c05ea9ab302a49a58074633476238060",
      "63a699453ef74cb8adc5e996caf5d2b8",
      "142cbd0e115e4ec69aea0b7c4e998672",
      "069f402ea5574ad18ddc301feb057aec",
      "72fac5018ab14c4d842266688b54d092",
      "1a748ef62a304371a8fc0f100eb3d557",
      "93f6ede6248847d2bdceeaf4e7ca368c",
      "f9bc6b3a3ea44ea399a3d04296a7e5f5"
     ]
    },
    "executionInfo": {
     "elapsed": 10200,
     "status": "ok",
     "timestamp": 1747230014896,
     "user": {
      "displayName": "Татьяна Бушуева",
      "userId": "14369899420098124992"
     },
     "user_tz": -180
    },
    "id": "Ad9_dd_n9SZm",
    "outputId": "e833e8ba-553a-4e32-a0c9-c8aea1e08337"
   },
   "outputs": [],
   "source": [
    "model1 = AutoModel.from_pretrained('ai-sage/Giga-Embeddings-instruct', trust_remote_code=True)"
   ]
  },
  {
   "cell_type": "code",
   "execution_count": null,
   "metadata": {
    "colab": {
     "base_uri": "https://localhost:8080/"
    },
    "executionInfo": {
     "elapsed": 2727,
     "status": "ok",
     "timestamp": 1747230027584,
     "user": {
      "displayName": "Татьяна Бушуева",
      "userId": "14369899420098124992"
     },
     "user_tz": -180
    },
    "id": "6P21xhw49d8T",
    "outputId": "7364bee7-0908-49da-9558-f30e3c767eeb"
   },
   "outputs": [],
   "source": [
    "model1.to(device)"
   ]
  },
  {
   "cell_type": "code",
   "execution_count": null,
   "metadata": {
    "id": "4C1jl0U99ghq"
   },
   "outputs": [],
   "source": [
    "def get_embeddings(text):\n",
    "  task_name_to_instruct = {\"example\": \"получая резюме, присвой ему метку класса от 0 до 8\"}\n",
    "  query_prefix = task_name_to_instruct[\"example\"] + \"\\nрезюме: \"\n",
    "  queries = [text]\n",
    "  query_embeddings = model1.encode(queries, instruction=query_prefix)\n",
    "  query_embeddings = F.normalize(query_embeddings, p=2, dim=1)\n",
    "  return query_embeddings[0].cpu().numpy()"
   ]
  },
  {
   "cell_type": "code",
   "execution_count": null,
   "metadata": {
    "id": "NEI_OOjY9n3M"
   },
   "outputs": [],
   "source": [
    "x1 = np.zeros((len(X_train), 2048))"
   ]
  },
  {
   "cell_type": "code",
   "execution_count": null,
   "metadata": {
    "id": "6IEjOP4h9oJb"
   },
   "outputs": [],
   "source": [
    "y1 = np.array(y_train)"
   ]
  },
  {
   "cell_type": "code",
   "execution_count": null,
   "metadata": {
    "colab": {
     "base_uri": "https://localhost:8080/"
    },
    "executionInfo": {
     "elapsed": 344594,
     "status": "ok",
     "timestamp": 1747230377718,
     "user": {
      "displayName": "Татьяна Бушуева",
      "userId": "14369899420098124992"
     },
     "user_tz": -180
    },
    "id": "A2a-G_i89qTc",
    "outputId": "5935eaed-8e54-45aa-96df-e15e1b06b128"
   },
   "outputs": [],
   "source": [
    "for ind, sent in enumerate(tqdm(X_train)):\n",
    "   x1[ind] =  get_embeddings(sent)"
   ]
  },
  {
   "cell_type": "code",
   "execution_count": null,
   "metadata": {
    "id": "wOb6Nl2j9r74"
   },
   "outputs": [],
   "source": [
    "x1_test = np.zeros((len(X_test), 2048))"
   ]
  },
  {
   "cell_type": "code",
   "execution_count": null,
   "metadata": {
    "id": "XPVd02Jp9tlm"
   },
   "outputs": [],
   "source": [
    "y1_test = np.array(y_test)"
   ]
  },
  {
   "cell_type": "code",
   "execution_count": null,
   "metadata": {
    "colab": {
     "base_uri": "https://localhost:8080/"
    },
    "executionInfo": {
     "elapsed": 81974,
     "status": "ok",
     "timestamp": 1747230459721,
     "user": {
      "displayName": "Татьяна Бушуева",
      "userId": "14369899420098124992"
     },
     "user_tz": -180
    },
    "id": "JCapgwLz9xid",
    "outputId": "624f4620-5059-48ba-a36c-dfb3ee33ccfa"
   },
   "outputs": [],
   "source": [
    "for ind, sent in enumerate(tqdm(X_test)):\n",
    "   x1_test[ind] =  get_embeddings(sent)"
   ]
  },
  {
   "cell_type": "code",
   "execution_count": null,
   "metadata": {
    "id": "cmDief0N3gdd"
   },
   "outputs": [],
   "source": [
    "x1_val = np.zeros((len(X_val), 2048))\n",
    "y1_val = np.array(y_val)"
   ]
  },
  {
   "cell_type": "code",
   "execution_count": null,
   "metadata": {
    "colab": {
     "base_uri": "https://localhost:8080/"
    },
    "executionInfo": {
     "elapsed": 38813,
     "status": "ok",
     "timestamp": 1747230498555,
     "user": {
      "displayName": "Татьяна Бушуева",
      "userId": "14369899420098124992"
     },
     "user_tz": -180
    },
    "id": "1JotCoPa3qXC",
    "outputId": "461fdd8e-e9b8-4c79-bc82-07c44ff8bd2c"
   },
   "outputs": [],
   "source": [
    "for ind, sent in enumerate(tqdm(X_val)):\n",
    "   x1_val[ind] =  get_embeddings(sent)"
   ]
  },
  {
   "cell_type": "code",
   "execution_count": null,
   "metadata": {
    "colab": {
     "base_uri": "https://localhost:8080/",
     "height": 80
    },
    "executionInfo": {
     "elapsed": 17523,
     "status": "ok",
     "timestamp": 1747230516082,
     "user": {
      "displayName": "Татьяна Бушуева",
      "userId": "14369899420098124992"
     },
     "user_tz": -180
    },
    "id": "vjfvjst_93Jl",
    "outputId": "5643bce6-a0f2-49ef-aafa-24f3d79e9d42"
   },
   "outputs": [],
   "source": [
    "logistic_reg = LogisticRegression(max_iter=2000)\n",
    "logistic_reg.fit(x1, y1)"
   ]
  },
  {
   "cell_type": "code",
   "execution_count": null,
   "metadata": {
    "id": "M-IAPPrE93gA"
   },
   "outputs": [],
   "source": [
    "pred = logistic_reg.predict(x1_test)"
   ]
  },
  {
   "cell_type": "code",
   "execution_count": null,
   "metadata": {
    "colab": {
     "base_uri": "https://localhost:8080/"
    },
    "executionInfo": {
     "elapsed": 29,
     "status": "ok",
     "timestamp": 1747230516135,
     "user": {
      "displayName": "Татьяна Бушуева",
      "userId": "14369899420098124992"
     },
     "user_tz": -180
    },
    "id": "NSqpEpjU95LA",
    "outputId": "2d9eb84b-675e-4324-de0c-ff5d45f410c4"
   },
   "outputs": [],
   "source": [
    "print(\"Accuracy for Logistic Regression:\", accuracy_score(y1_test, pred))\n",
    "print(\"F1 score for Logistic Regression:\", f1_score(y1_test, pred, average='weighted'))\n",
    "print(\"Balanced accuracy for Logistic Regression:\",balanced_accuracy_score(y1_test,pred))"
   ]
  },
  {
   "cell_type": "code",
   "execution_count": null,
   "metadata": {
    "colab": {
     "base_uri": "https://localhost:8080/",
     "height": 607
    },
    "executionInfo": {
     "elapsed": 218,
     "status": "ok",
     "timestamp": 1747230627128,
     "user": {
      "displayName": "Татьяна Бушуева",
      "userId": "14369899420098124992"
     },
     "user_tz": -180
    },
    "id": "NYCRo3dA_rma",
    "outputId": "b825e050-a4c0-450a-b0f9-9b7b743913e8"
   },
   "outputs": [],
   "source": [
    "conf_matrix(y_test, pred)"
   ]
  },
  {
   "cell_type": "code",
   "execution_count": null,
   "metadata": {
    "colab": {
     "base_uri": "https://localhost:8080/",
     "height": 362
    },
    "executionInfo": {
     "elapsed": 29,
     "status": "ok",
     "timestamp": 1747230629226,
     "user": {
      "displayName": "Татьяна Бушуева",
      "userId": "14369899420098124992"
     },
     "user_tz": -180
    },
    "id": "y1DhOut8BuaJ",
    "outputId": "7fa09108-0884-4061-b5c1-b4be5230f03d"
   },
   "outputs": [],
   "source": [
    "get_metrics_per_class(y_test, pred)"
   ]
  },
  {
   "cell_type": "code",
   "execution_count": null,
   "metadata": {
    "colab": {
     "base_uri": "https://localhost:8080/"
    },
    "executionInfo": {
     "elapsed": 12457928,
     "status": "ok",
     "timestamp": 1741983765123,
     "user": {
      "displayName": "Татьяна Бушуева",
      "userId": "14369899420098124992"
     },
     "user_tz": -420
    },
    "id": "wRv_7p--zG-8",
    "outputId": "4bd185b3-4d52-40bc-ff6a-b7b171d6577f"
   },
   "outputs": [],
   "source": [
    "def objective(trial):\n",
    "    params = {\n",
    "        \"objective\": \"multi:softmax\",\n",
    "        \"num_class\": 9,\n",
    "        \"eval_metric\": \"mlogloss\",\n",
    "        \"learning_rate\": trial.suggest_loguniform(\"learning_rate\", 0.001, 0.3),\n",
    "        \"max_depth\": trial.suggest_int(\"max_depth\", 3, 100),\n",
    "        \"n_estimators\": trial.suggest_int(\"n_estimators\", 50, 2000),\n",
    "        \"subsample\": trial.suggest_float(\"subsample\", 0.5, 1.0),\n",
    "        \"colsample_bytree\": trial.suggest_float(\"colsample_bytree\", 0.05, 1.0)\n",
    "    }\n",
    "\n",
    "    model = XGBClassifier(**params)\n",
    "    model.fit(x1, y1)\n",
    "\n",
    "    y1_pred = model.predict(x1_val)\n",
    "    return accuracy_score(y1_val, y1_pred)\n",
    "\n",
    "# Запуск оптимизации\n",
    "study = optuna.create_study(direction=\"maximize\")  # Ищем max accuracy\n",
    "study.optimize(objective, n_trials=50)\n",
    "\n",
    "# Лучшие параметры\n",
    "print(\"Лучшие параметры:\", study.best_params)"
   ]
  },
  {
   "cell_type": "code",
   "execution_count": null,
   "metadata": {
    "colab": {
     "base_uri": "https://localhost:8080/"
    },
    "executionInfo": {
     "elapsed": 212729,
     "status": "ok",
     "timestamp": 1747231126280,
     "user": {
      "displayName": "Татьяна Бушуева",
      "userId": "14369899420098124992"
     },
     "user_tz": -180
    },
    "id": "jsTU5y4LenSU",
    "outputId": "54c7e423-76a4-42f6-b586-214e0e379655"
   },
   "outputs": [],
   "source": [
    "xgb1 = XGBClassifier(objective=\"multi:softmax\", num_class=9, eval_metric=\"mlogloss\", learning_rate=0.07078025811321921, max_depth=45, n_estimators = 700, subsample=0.5458605221291573, colsample_bytree= 0.15268221810604315)\n",
    "xgb1.fit(x1, y1)\n",
    "# Предсказания и оценка\n",
    "y_pred2 = xgb1.predict(x1_test)\n",
    "print(\"Accuracy for XGB:\", accuracy_score(y1_test, y_pred2))\n",
    "print(\"F1 score for XGB:\",f1_score(y1_test, y_pred2, average='weighted'))\n",
    "print(\"Balanced accuracy for XGB:\",balanced_accuracy_score(y1_test,y_pred2))"
   ]
  },
  {
   "cell_type": "code",
   "execution_count": null,
   "metadata": {
    "colab": {
     "base_uri": "https://localhost:8080/",
     "height": 607
    },
    "executionInfo": {
     "elapsed": 205,
     "status": "ok",
     "timestamp": 1747232735466,
     "user": {
      "displayName": "Татьяна Бушуева",
      "userId": "14369899420098124992"
     },
     "user_tz": -180
    },
    "id": "JGZY8AxDB4XK",
    "outputId": "07ab25d0-7d7e-46d6-f1c2-e4ff266fcd80"
   },
   "outputs": [],
   "source": [
    "conf_matrix(y_test, y_pred2)"
   ]
  },
  {
   "cell_type": "code",
   "execution_count": null,
   "metadata": {
    "colab": {
     "base_uri": "https://localhost:8080/",
     "height": 362
    },
    "executionInfo": {
     "elapsed": 33,
     "status": "ok",
     "timestamp": 1747232738124,
     "user": {
      "displayName": "Татьяна Бушуева",
      "userId": "14369899420098124992"
     },
     "user_tz": -180
    },
    "id": "9IFq9hvYB7KU",
    "outputId": "17c8a8a6-165b-4cc6-9341-8d79335bf085"
   },
   "outputs": [],
   "source": [
    "get_metrics_per_class(y_test, y_pred2)"
   ]
  }
 ],
 "metadata": {
  "accelerator": "GPU",
  "colab": {
   "authorship_tag": "ABX9TyMTbD3/vd05H/CPjbn6/JJD",
   "gpuType": "L4",
   "machine_shape": "hm",
   "mount_file_id": "1C3vRPH1gqnEnUCM11yCo9njOr0ZGKEAR",
   "provenance": []
  },
  "kernelspec": {
   "display_name": "Python 3",
   "name": "python3"
  },
  "language_info": {
   "name": "python"
  }
 },
 "nbformat": 4,
 "nbformat_minor": 0
}
