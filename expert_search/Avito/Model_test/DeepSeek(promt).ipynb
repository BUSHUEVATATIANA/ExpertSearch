{
 "cells": [
  {
   "cell_type": "code",
   "execution_count": null,
   "metadata": {
    "id": "BUmhnZqnrXmw"
   },
   "outputs": [],
   "source": [
    "import pandas as pd\n",
    "import numpy as np\n",
    "from sklearn.model_selection import train_test_split\n",
    "import re\n",
    "import string\n",
    "import os\n",
    "from openai import OpenAI\n",
    "import json\n",
    "from sklearn.metrics import accuracy_score, f1_score\n",
    "import matplotlib.pyplot as plt\n",
    "from collections import Counter"
   ]
  },
  {
   "cell_type": "code",
   "execution_count": null,
   "metadata": {
    "id": "EJVUjG5dsFsG"
   },
   "outputs": [],
   "source": [
    "df = pd.read_csv('/content/drive/MyDrive/Znatno_personal/Отчетность ВКР/Артефакты/Parsing_avito/my_data22.csv')"
   ]
  },
  {
   "cell_type": "code",
   "execution_count": null,
   "metadata": {
    "id": "0t9KXCTujvtE"
   },
   "outputs": [],
   "source": [
    "df['info'] = df['О себе'].astype(str) + ' ' + 'Обязанности: ' +  df['Обязанности'].astype(str)+ ' ' + 'Компания: ' + df['Компания'].astype(str) + ' ' + 'Учебные заведения: ' + df['Учебные заведения'].astype(str) + ' ' + 'Стаж работы: ' + df['Стаж работы'].astype(str) + ' ' + 'Образование: ' + df['Образование'].astype(str)"
   ]
  },
  {
   "cell_type": "code",
   "execution_count": null,
   "metadata": {
    "id": "_qCrvqJksN55"
   },
   "outputs": [],
   "source": [
    "api_key = API_KEY\n",
    "client = OpenAI(api_key=api_key, base_url=\"https://api.deepseek.com\")\n",
    "def deep_seekgpt(messages, temperature):\n",
    "  response = client.chat.completions.create(\n",
    "    model=\"deepseek-chat\",\n",
    "    messages=messages,\n",
    "    temperature = temperature,\n",
    "    response_format={\n",
    "        'type': 'json_object'\n",
    "    }\n",
    "   )\n",
    "\n",
    "#reasoning_content = response.choices[0].message.reasoning_content\n",
    "  content = response.choices[0].message.content\n",
    "  return content"
   ]
  },
  {
   "cell_type": "code",
   "execution_count": null,
   "metadata": {
    "id": "zjM5vv-z9mfL"
   },
   "outputs": [],
   "source": [
    "data = df.copy()"
   ]
  },
  {
   "cell_type": "code",
   "execution_count": null,
   "metadata": {
    "id": "xK0yzTUk9Qtb"
   },
   "outputs": [],
   "source": [
    "data1 = df[df['Оценка'] == 0].sample(n=51)\n",
    "data2 = df[df['Оценка'] == 1].sample(n=51)\n",
    "data3 = df[df['Оценка'] == 2].sample(n=51)\n",
    "data4 = df[df['Оценка'] == 3].sample(n=51)\n",
    "data5 = df[df['Оценка'] == 4].sample(n=43)\n",
    "data6 = df[df['Оценка'] == 5].sample(n=51)\n",
    "data7 = df[df['Оценка'] == 6].sample(n=51)\n",
    "data8 = df[df['Оценка'] == 7].sample(n=51)\n",
    "data9 = df[df['Оценка'] == 8].sample(n=51)"
   ]
  },
  {
   "cell_type": "code",
   "execution_count": null,
   "metadata": {
    "id": "y2YYh9If-iLg"
   },
   "outputs": [],
   "source": [
    "data = pd.concat([data1, data2, data3, data4, data5, data6, data7, data8, data9])"
   ]
  },
  {
   "cell_type": "code",
   "execution_count": null,
   "metadata": {
    "id": "X6XJAwsd-kg-"
   },
   "outputs": [],
   "source": [
    "X = data['info']\n",
    "y = data['Оценка']"
   ]
  },
  {
   "cell_type": "code",
   "execution_count": null,
   "metadata": {
    "id": "fLRZA4W7zxMc"
   },
   "outputs": [],
   "source": [
    "y = np.array(y)"
   ]
  },
  {
   "cell_type": "code",
   "execution_count": null,
   "metadata": {
    "id": "PsoukvW31jb6"
   },
   "outputs": [],
   "source": [
    "result = {}"
   ]
  },
  {
   "cell_type": "code",
   "execution_count": null,
   "metadata": {
    "colab": {
     "base_uri": "https://localhost:8080/"
    },
    "collapsed": true,
    "executionInfo": {
     "elapsed": 2719388,
     "status": "ok",
     "timestamp": 1747581962845,
     "user": {
      "displayName": "Татьяна Бушуева",
      "userId": "14369899420098124992"
     },
     "user_tz": -180
    },
    "id": "0kWe_3kY06bP",
    "outputId": "f1f1cc65-fc0a-44b9-f069-2eefc41f9f7a"
   },
   "outputs": [],
   "source": [
    "for i in X.index:\n",
    "  messages = [{\"role\": \"user\", \"content\": f\"Классифицируй резюме косметологов по 9 классам (0–8): 0 класс - это нерелеватные резюме, у кандидатов стаж работы 0 лет и очень часто встречается не указано, учебные заведения не указаны \\n\\\n",
    "            1  - кандидаты имеют медицинское образование, но стаж работы 0 лет, 2 - Все кандидаты имеют опыт от 0.001 до 1 года и любое образование \\n\\\n",
    "            3 - кандидаты в начале резюме указывают опыт работы n-лет, где n - любое число, но Компания: не указано, Должность: не указано, Учебное заведение: не указано \\n\\\n",
    "            4 - Кандидаты имеют стаж работы > 2 лет, указывают компанию, должность, но Учебное заведение: не указано или не медицинское \\n\\\n",
    "            5 - Кандидаты имеют среднее медицинское образование и стаж работы  от 1 до 3 лет,Кандидат указывает: должность, компанию,,учебное заведение: медицинский колледж школы обучающие косметологов \\n\\\n",
    "            6 - Кандидаты имеют высшее медицинское образование и стаж работы  от 1 до 3 лет,Кандидат указывает должность, компанию,учебное заведение: медицинские университеты или институты. \\n\\\n",
    "            7 - Кандидаты имеют среднее медицинское образование и стаж работы >3 лет,Кандидат указывает: должность, компанию, учебное заведение: медицинский колледж школы обучающие косметологов \\n\\\n",
    "            8 - Кандидаты имеют высшее медицинское образование и стаж работы > 3 лет. Кандидат указывает должность, компанию,учебное заведение: медицинские университеты или институты. \\n\\\n",
    "            Высшее медицинское образование - это медицинские университеты и институты. Среднее медицинское образование - это медицинский колледж, школы обучающие косметологов. Стаж работы - это опыт работы в сфере косметологии. \\n\\\n",
    "            Обрати внимание на класс 3 и 4 прежде чем принять решение.\\n\\ Не обращай внимание на образование, оно не влияет на метку класса \\n\\\n",
    "            Три примера для  каждого класса:\\n\\\n",
    "                \\\"text\\\": {df['info'][df['Оценка'] == 0].sample(n=3).to_list()}, \\\"label\\\": 0,\\n\\\n",
    "                \\\"text\\\": {df['info'][df['Оценка'] == 1].sample(n=3).to_list()}, \\\"label\\\": 1,\\n\\\n",
    "                \\\"text\\\": {df['info'][df['Оценка'] == 2].sample(n=3).to_list()}, \\\"label\\\": 2,\\n\\\n",
    "                \\\"text\\\": {df['info'][df['Оценка'] == 3].sample(n=3).to_list()}, \\\"label\\\": 3,\\n\\\n",
    "                \\\"text\\\": {df['info'][df['Оценка'] == 4].sample(n=3).to_list()}, \\\"label\\\": 4,\\n\\\n",
    "                \\\"text\\\": {df['info'][df['Оценка'] == 5].sample(n=3).to_list()}, \\\"label\\\": 5,\\n\\\n",
    "                \\\"text\\\": {df['info'][df['Оценка'] == 6].sample(n=3).to_list()}, \\\"label\\\": 6,\\n\\\n",
    "                \\\"text\\\": {df['info'][df['Оценка'] == 7].sample(n=3).to_list()}, \\\"label\\\": 7,\\n\\\n",
    "                \\\"text\\\": {df['info'][df['Оценка'] == 8].sample(n=3).to_list()}, \\\"label\\\": 8\\n\\\n",
    "            Угадай класс данного резюме: {data['info'][i]}. Дай ответ в формате json с двумя ключами 'text' - полученный текст и prediction - угаданная метка класса\" }]\n",
    "  answer = deep_seekgpt(messages)\n",
    "  answer = json.loads(answer)\n",
    "  result[i] = answer1['prediction']"
   ]
  },
  {
   "cell_type": "code",
   "execution_count": null,
   "metadata": {
    "id": "x0CoLYGKyhfx"
   },
   "outputs": [],
   "source": [
    "pred = pd.DataFrame.from_dict(result, orient='index', columns=['prediction'])"
   ]
  },
  {
   "cell_type": "code",
   "execution_count": null,
   "metadata": {
    "colab": {
     "base_uri": "https://localhost:8080/"
    },
    "executionInfo": {
     "elapsed": 31,
     "status": "ok",
     "timestamp": 1747583114050,
     "user": {
      "displayName": "Татьяна Бушуева",
      "userId": "14369899420098124992"
     },
     "user_tz": -180
    },
    "id": "eYhOX4Wsykr9",
    "outputId": "ee51b29f-4b23-46f5-a61f-eb76e4b0900a"
   },
   "outputs": [
    {
     "name": "stdout",
     "output_type": "stream",
     "text": [
      "Accuracy : 0.6873614190687362\n",
      "F1 score: 0.6798663647468272\n"
     ]
    }
   ],
   "source": [
    "print(\"Accuracy :\", accuracy_score(y, pred['prediction2']))\n",
    "print(\"F1 score:\",f1_score(y, pred['prediction2'], average='weighted'))"
   ]
  },
  {
   "cell_type": "markdown",
   "metadata": {
    "id": "hikh0VyfFLB7"
   },
   "source": [
    "#2 проход"
   ]
  },
  {
   "cell_type": "code",
   "execution_count": null,
   "metadata": {
    "id": "kMWMnUMoFcBr"
   },
   "outputs": [],
   "source": [
    "result1 = {}"
   ]
  },
  {
   "cell_type": "code",
   "execution_count": null,
   "metadata": {
    "colab": {
     "base_uri": "https://localhost:8080/"
    },
    "collapsed": true,
    "executionInfo": {
     "elapsed": 6349803,
     "status": "ok",
     "timestamp": 1747589709250,
     "user": {
      "displayName": "Татьяна Бушуева",
      "userId": "14369899420098124992"
     },
     "user_tz": -180
    },
    "id": "5j6OvXrgElAC",
    "outputId": "c550a298-121f-47a1-d9bf-91ad49d7c84e"
   },
   "outputs": [],
   "source": [
    "for i in X.index:\n",
    "  messages = [{\"role\": \"user\", \"content\": f\"Классифицируй резюме косметологов по 9 классам (0–8): 0 класс - это нерелеватные резюме, у кандидатов стаж работы 0 лет и очень часто встречается не указано, учебные заведения не указаны \\n\\\n",
    "            1  - кандидаты имеют медицинское образование, но стаж работы 0 лет, 2 - Все кандидаты имеют опыт от 0.001 до 1 года и любое образование \\n\\\n",
    "            3 - кандидаты в начале резюме указывают опыт работы n-лет, где n - любое число, но Компания: не указано, Должность: не указано, Учебное заведение: не указано \\n\\\n",
    "            4 - Кандидаты имеют стаж работы > 2 лет, указывают компанию, должность, но Учебное заведение: не указано или не медицинское \\n\\\n",
    "            5 - Кандидаты имеют среднее медицинское образование и стаж работы  от 1 до 3 лет,Кандидат указывает: должность, компанию,,учебное заведение: медицинский колледж школы обучающие косметологов \\n\\\n",
    "            6 - Кандидаты имеют высшее медицинское образование и стаж работы  от 1 до 3 лет,Кандидат указывает должность, компанию,учебное заведение: медицинские университеты или институты. \\n\\\n",
    "            7 - Кандидаты имеют среднее медицинское образование и стаж работы >3 лет,Кандидат указывает: должность, компанию, учебное заведение: медицинский колледж школы обучающие косметологов \\n\\\n",
    "            8 - Кандидаты имеют высшее медицинское образование и стаж работы > 3 лет. Кандидат указывает должность, компанию,учебное заведение: медицинские университеты или институты. \\n\\\n",
    "            Высшее медицинское образование - это медицинские университеты и институты. Среднее медицинское образование - это медицинский колледж, школы обучающие косметологов. Стаж работы - это опыт работы в сфере косметологии. \\n\\\n",
    "            Обрати внимание на класс 3 и 4 прежде чем принять решение.\\n\\ Не обращай внимание на образование, оно не влияет на метку класса \\n\\\n",
    "            Три примера для  каждого класса:\\n\\\n",
    "                \\\"text\\\": {df['info'][df['Оценка'] == 0].sample(n=3).to_list()}, \\\"label\\\": 0,\\n\\\n",
    "                \\\"text\\\": {df['info'][df['Оценка'] == 1].sample(n=3).to_list()}, \\\"label\\\": 1,\\n\\\n",
    "                \\\"text\\\": {df['info'][df['Оценка'] == 2].sample(n=3).to_list()}, \\\"label\\\": 2,\\n\\\n",
    "                \\\"text\\\": {df['info'][df['Оценка'] == 3].sample(n=3).to_list()}, \\\"label\\\": 3,\\n\\\n",
    "                \\\"text\\\": {df['info'][df['Оценка'] == 4].sample(n=3).to_list()}, \\\"label\\\": 4,\\n\\\n",
    "                \\\"text\\\": {df['info'][df['Оценка'] == 5].sample(n=3).to_list()}, \\\"label\\\": 5,\\n\\\n",
    "                \\\"text\\\": {df['info'][df['Оценка'] == 6].sample(n=3).to_list()}, \\\"label\\\": 6,\\n\\\n",
    "                \\\"text\\\": {df['info'][df['Оценка'] == 7].sample(n=3).to_list()}, \\\"label\\\": 7,\\n\\\n",
    "                \\\"text\\\": {df['info'][df['Оценка'] == 8].sample(n=3).to_list()}, \\\"label\\\": 8\\n\\\n",
    "            Угадай класс данного резюме: {data['info'][i]}. Дай ответ в формате json с двумя ключами 'text' - полученный текст и prediction - угаданная метка класса\" }]\n",
    "  answer = deep_seekgpt(messages, temperature = 0.5)\n",
    "  answer1 = json.loads(answer)\n",
    "  result1[i] = answer1['prediction']"
   ]
  },
  {
   "cell_type": "code",
   "execution_count": null,
   "metadata": {
    "id": "iZgO4F91V5SS"
   },
   "outputs": [],
   "source": [
    "result1 = pd.DataFrame.from_dict(result1, orient='index', columns=['prediction1'])"
   ]
  },
  {
   "cell_type": "markdown",
   "metadata": {
    "id": "AbXcc1IugZqZ"
   },
   "source": [
    "#проход 3"
   ]
  },
  {
   "cell_type": "code",
   "execution_count": null,
   "metadata": {
    "id": "Cxr7vq5Jgo7d"
   },
   "outputs": [],
   "source": [
    "result2 = {}"
   ]
  },
  {
   "cell_type": "code",
   "execution_count": null,
   "metadata": {
    "id": "lrOIixqxgeMO"
   },
   "outputs": [],
   "source": [
    "for i in X.index:\n",
    "  messages = [{\"role\": \"user\", \"content\": f\"Классифицируй резюме косметологов по 9 классам (0–8): 0 класс - это нерелеватные резюме, у кандидатов стаж работы 0 лет и очень часто встречается не указано, учебные заведения не указаны \\n\\\n",
    "            1  - кандидаты имеют медицинское образование, но стаж работы 0 лет, 2 - Все кандидаты имеют опыт от 0.001 до 1 года и любое образование \\n\\\n",
    "            3 - кандидаты в начале резюме указывают опыт работы n-лет, где n - любое число, но Компания: не указано, Должность: не указано, Учебное заведение: не указано \\n\\\n",
    "            4 - Кандидаты имеют стаж работы > 2 лет, указывают компанию, должность, но Учебное заведение: не указано или не медицинское \\n\\\n",
    "            5 - Кандидаты имеют среднее медицинское образование и стаж работы  от 1 до 3 лет,Кандидат указывает: должность, компанию,,учебное заведение: медицинский колледж школы обучающие косметологов \\n\\\n",
    "            6 - Кандидаты имеют высшее медицинское образование и стаж работы  от 1 до 3 лет,Кандидат указывает должность, компанию,учебное заведение: медицинские университеты или институты. \\n\\\n",
    "            7 - Кандидаты имеют среднее медицинское образование и стаж работы >3 лет,Кандидат указывает: должность, компанию, учебное заведение: медицинский колледж школы обучающие косметологов \\n\\\n",
    "            8 - Кандидаты имеют высшее медицинское образование и стаж работы > 3 лет. Кандидат указывает должность, компанию,учебное заведение: медицинские университеты или институты. \\n\\\n",
    "            Высшее медицинское образование - это медицинские университеты и институты. Среднее медицинское образование - это медицинский колледж, школы обучающие косметологов. Стаж работы - это опыт работы в сфере косметологии. \\n\\\n",
    "            Обрати внимание на класс 3 и 4 прежде чем принять решение.\\n\\ Не обращай внимание на образование, оно не влияет на метку класса \\n\\\n",
    "            Три примера для  каждого класса:\\n\\\n",
    "                \\\"text\\\": {df['info'][df['Оценка'] == 0].sample(n=3).to_list()}, \\\"label\\\": 0,\\n\\\n",
    "                \\\"text\\\": {df['info'][df['Оценка'] == 1].sample(n=3).to_list()}, \\\"label\\\": 1,\\n\\\n",
    "                \\\"text\\\": {df['info'][df['Оценка'] == 2].sample(n=3).to_list()}, \\\"label\\\": 2,\\n\\\n",
    "                \\\"text\\\": {df['info'][df['Оценка'] == 3].sample(n=3).to_list()}, \\\"label\\\": 3,\\n\\\n",
    "                \\\"text\\\": {df['info'][df['Оценка'] == 4].sample(n=3).to_list()}, \\\"label\\\": 4,\\n\\\n",
    "                \\\"text\\\": {df['info'][df['Оценка'] == 5].sample(n=3).to_list()}, \\\"label\\\": 5,\\n\\\n",
    "                \\\"text\\\": {df['info'][df['Оценка'] == 6].sample(n=3).to_list()}, \\\"label\\\": 6,\\n\\\n",
    "                \\\"text\\\": {df['info'][df['Оценка'] == 7].sample(n=3).to_list()}, \\\"label\\\": 7,\\n\\\n",
    "                \\\"text\\\": {df['info'][df['Оценка'] == 8].sample(n=3).to_list()}, \\\"label\\\": 8\\n\\\n",
    "            Угадай класс данного резюме: {data['info'][i]}. Дай ответ в формате json с двумя ключами 'text' - полученный текст и prediction - угаданная метка класса\" }]\n",
    "  answer =  deep_seekgpt(messages, temperature = 0.2)\n",
    "  answer = json.loads(answer)\n",
    "  result2[i] = answer1['prediction']"
   ]
  },
  {
   "cell_type": "code",
   "execution_count": null,
   "metadata": {
    "id": "qLQpruHLg24p"
   },
   "outputs": [],
   "source": [
    "result2 = pd.DataFrame.from_dict(result2, orient='index', columns=['prediction2'])"
   ]
  },
  {
   "cell_type": "markdown",
   "metadata": {
    "id": "Z6_6Yek4iOHV"
   },
   "source": [
    "#проход 4"
   ]
  },
  {
   "cell_type": "code",
   "execution_count": null,
   "metadata": {
    "id": "dtqvxJ1cieCm"
   },
   "outputs": [],
   "source": [
    "result3 = {}"
   ]
  },
  {
   "cell_type": "code",
   "execution_count": null,
   "metadata": {
    "id": "i0dvSnwDiU22"
   },
   "outputs": [],
   "source": [
    "for i in X.index:\n",
    "  messages = [{\"role\": \"user\", \"content\": f\"Классифицируй резюме косметологов по 9 классам (0–8): 0 класс - это нерелеватные резюме, у кандидатов стаж работы 0 лет и очень часто встречается не указано, учебные заведения не указаны \\n\\\n",
    "            1  - кандидаты имеют медицинское образование, но стаж работы 0 лет, 2 - Все кандидаты имеют опыт от 0.001 до 1 года и любое образование \\n\\\n",
    "            3 - кандидаты в начале резюме указывают опыт работы n-лет, где n - любое число, но Компания: не указано, Должность: не указано, Учебное заведение: не указано \\n\\\n",
    "            4 - Кандидаты имеют стаж работы > 2 лет, указывают компанию, должность, но Учебное заведение: не указано или не медицинское \\n\\\n",
    "            5 - Кандидаты имеют среднее медицинское образование и стаж работы  от 1 до 3 лет,Кандидат указывает: должность, компанию,,учебное заведение: медицинский колледж школы обучающие косметологов \\n\\\n",
    "            6 - Кандидаты имеют высшее медицинское образование и стаж работы  от 1 до 3 лет,Кандидат указывает должность, компанию,учебное заведение: медицинские университеты или институты. \\n\\\n",
    "            7 - Кандидаты имеют среднее медицинское образование и стаж работы >3 лет,Кандидат указывает: должность, компанию, учебное заведение: медицинский колледж школы обучающие косметологов \\n\\\n",
    "            8 - Кандидаты имеют высшее медицинское образование и стаж работы > 3 лет. Кандидат указывает должность, компанию,учебное заведение: медицинские университеты или институты. \\n\\\n",
    "            Высшее медицинское образование - это медицинские университеты и институты. Среднее медицинское образование - это медицинский колледж, школы обучающие косметологов. Стаж работы - это опыт работы в сфере косметологии. \\n\\\n",
    "            Обрати внимание на класс 3 и 4 прежде чем принять решение.\\n\\ Не обращай внимание на образование, оно не влияет на метку класса \\n\\\n",
    "            Три примера для  каждого класса:\\n\\\n",
    "                \\\"text\\\": {df['info'][df['Оценка'] == 0].sample(n=3).to_list()}, \\\"label\\\": 0,\\n\\\n",
    "                \\\"text\\\": {df['info'][df['Оценка'] == 1].sample(n=3).to_list()}, \\\"label\\\": 1,\\n\\\n",
    "                \\\"text\\\": {df['info'][df['Оценка'] == 2].sample(n=3).to_list()}, \\\"label\\\": 2,\\n\\\n",
    "                \\\"text\\\": {df['info'][df['Оценка'] == 3].sample(n=3).to_list()}, \\\"label\\\": 3,\\n\\\n",
    "                \\\"text\\\": {df['info'][df['Оценка'] == 4].sample(n=3).to_list()}, \\\"label\\\": 4,\\n\\\n",
    "                \\\"text\\\": {df['info'][df['Оценка'] == 5].sample(n=3).to_list()}, \\\"label\\\": 5,\\n\\\n",
    "                \\\"text\\\": {df['info'][df['Оценка'] == 6].sample(n=3).to_list()}, \\\"label\\\": 6,\\n\\\n",
    "                \\\"text\\\": {df['info'][df['Оценка'] == 7].sample(n=3).to_list()}, \\\"label\\\": 7,\\n\\\n",
    "                \\\"text\\\": {df['info'][df['Оценка'] == 8].sample(n=3).to_list()}, \\\"label\\\": 8\\n\\\n",
    "            Угадай класс данного резюме: {data['info'][i]}. Дай ответ в формате json с двумя ключами 'text' - полученный текст и prediction - угаданная метка класса\" }]\n",
    "  answer =  deep_seekgpt(messages, temperature = 1.5)\n",
    "  answer1 = json.loads(answer)\n",
    "  result3[i] = answer1['prediction']"
   ]
  },
  {
   "cell_type": "code",
   "execution_count": null,
   "metadata": {
    "id": "qLKzu1mzicAY"
   },
   "outputs": [],
   "source": [
    "result3 = pd.DataFrame.from_dict(result3, orient='index', columns=['prediction3'])"
   ]
  },
  {
   "cell_type": "markdown",
   "metadata": {
    "id": "0Xu-KNsBqzzQ"
   },
   "source": [
    "# 5 проход"
   ]
  },
  {
   "cell_type": "code",
   "execution_count": null,
   "metadata": {
    "id": "b4ZafTq7q5gJ"
   },
   "outputs": [],
   "source": [
    "result4 = {}"
   ]
  },
  {
   "cell_type": "code",
   "execution_count": null,
   "metadata": {
    "id": "O4w6nRaEq24q"
   },
   "outputs": [],
   "source": [
    "for i in X.index:\n",
    "  messages = [{\"role\": \"user\", \"content\": f\"Классифицируй резюме косметологов по 9 классам (0–8): 0 класс - это нерелеватные резюме, у кандидатов стаж работы 0 лет и очень часто встречается не указано, учебные заведения не указаны \\n\\\n",
    "            1  - кандидаты имеют медицинское образование, но стаж работы 0 лет, 2 - Все кандидаты имеют опыт от 0.001 до 1 года и любое образование \\n\\\n",
    "            3 - кандидаты в начале резюме указывают опыт работы n-лет, где n - любое число, но Компания: не указано, Должность: не указано, Учебное заведение: не указано \\n\\\n",
    "            4 - Кандидаты имеют стаж работы > 2 лет, указывают компанию, должность, но Учебное заведение: не указано или не медицинское \\n\\\n",
    "            5 - Кандидаты имеют среднее медицинское образование и стаж работы  от 1 до 3 лет,Кандидат указывает: должность, компанию,,учебное заведение: медицинский колледж школы обучающие косметологов \\n\\\n",
    "            6 - Кандидаты имеют высшее медицинское образование и стаж работы  от 1 до 3 лет,Кандидат указывает должность, компанию,учебное заведение: медицинские университеты или институты. \\n\\\n",
    "            7 - Кандидаты имеют среднее медицинское образование и стаж работы >3 лет,Кандидат указывает: должность, компанию, учебное заведение: медицинский колледж школы обучающие косметологов \\n\\\n",
    "            8 - Кандидаты имеют высшее медицинское образование и стаж работы > 3 лет. Кандидат указывает должность, компанию,учебное заведение: медицинские университеты или институты. \\n\\\n",
    "            Высшее медицинское образование - это медицинские университеты и институты. Среднее медицинское образование - это медицинский колледж, школы обучающие косметологов. Стаж работы - это опыт работы в сфере косметологии. \\n\\\n",
    "            Обрати внимание на класс 3 и 4 прежде чем принять решение.\\n\\ Не обращай внимание на образование, оно не влияет на метку класса \\n\\\n",
    "            Три примера для  каждого класса:\\n\\\n",
    "                \\\"text\\\": {df['info'][df['Оценка'] == 0].sample(n=3).to_list()}, \\\"label\\\": 0,\\n\\\n",
    "                \\\"text\\\": {df['info'][df['Оценка'] == 1].sample(n=3).to_list()}, \\\"label\\\": 1,\\n\\\n",
    "                \\\"text\\\": {df['info'][df['Оценка'] == 2].sample(n=3).to_list()}, \\\"label\\\": 2,\\n\\\n",
    "                \\\"text\\\": {df['info'][df['Оценка'] == 3].sample(n=3).to_list()}, \\\"label\\\": 3,\\n\\\n",
    "                \\\"text\\\": {df['info'][df['Оценка'] == 4].sample(n=3).to_list()}, \\\"label\\\": 4,\\n\\\n",
    "                \\\"text\\\": {df['info'][df['Оценка'] == 5].sample(n=3).to_list()}, \\\"label\\\": 5,\\n\\\n",
    "                \\\"text\\\": {df['info'][df['Оценка'] == 6].sample(n=3).to_list()}, \\\"label\\\": 6,\\n\\\n",
    "                \\\"text\\\": {df['info'][df['Оценка'] == 7].sample(n=3).to_list()}, \\\"label\\\": 7,\\n\\\n",
    "                \\\"text\\\": {df['info'][df['Оценка'] == 8].sample(n=3).to_list()}, \\\"label\\\": 8\\n\\\n",
    "            Угадай класс данного резюме: {data['info'][i]}. Дай ответ в формате json с двумя ключами 'text' - полученный текст и prediction - угаданная метка класса\" }]\n",
    "  answer =  deep_seekgpt(messages, temperature = 0.8)\n",
    "  answer1 = json.loads(answer)\n",
    "  result4[i] = answer1['prediction']"
   ]
  },
  {
   "cell_type": "code",
   "execution_count": null,
   "metadata": {
    "id": "gK7tb_WjGObJ"
   },
   "outputs": [],
   "source": [
    "result4 = pd.DataFrame.from_dict(result4, orient='index', columns=['prediction4'])"
   ]
  },
  {
   "cell_type": "markdown",
   "metadata": {
    "id": "aE-8HFqbEjDr"
   },
   "source": [
    "#Окончательное решение"
   ]
  },
  {
   "cell_type": "code",
   "execution_count": null,
   "metadata": {
    "id": "jdNZZIAsbKvX"
   },
   "outputs": [],
   "source": [
    "majority_vote = Counter(result).most_common(1)[0][0]"
   ]
  },
  {
   "cell_type": "code",
   "execution_count": null,
   "metadata": {
    "id": "6vk_1smxbV0v"
   },
   "outputs": [],
   "source": [
    "majority_vote = {}"
   ]
  },
  {
   "cell_type": "code",
   "execution_count": null,
   "metadata": {
    "id": "0LqCUOxlVEDp"
   },
   "outputs": [],
   "source": [
    "for i,v in result.iterrows():\n",
    "  majority_vote[i] = Counter(v).most_common(1)[0][0]\n"
   ]
  },
  {
   "cell_type": "code",
   "execution_count": null,
   "metadata": {
    "collapsed": true,
    "id": "TgAK4DPvbcTC"
   },
   "outputs": [],
   "source": [
    "y_pred = pd.DataFrame.from_dict(majority_vote, orient='index')\n",
    "y_pred = np.array(y_pred)"
   ]
  },
  {
   "cell_type": "code",
   "execution_count": null,
   "metadata": {
    "colab": {
     "base_uri": "https://localhost:8080/"
    },
    "executionInfo": {
     "elapsed": 28,
     "status": "ok",
     "timestamp": 1747734663977,
     "user": {
      "displayName": "Татьяна Бушуева",
      "userId": "14369899420098124992"
     },
     "user_tz": -180
    },
    "id": "y_9EIpN7bhbM",
    "outputId": "d7b50e70-858c-434a-c3fc-d52532c6b21e"
   },
   "outputs": [
    {
     "name": "stdout",
     "output_type": "stream",
     "text": [
      "Accuracy : 0.70509977827051\n",
      "F1 score: 0.6940426620895117\n"
     ]
    }
   ],
   "source": [
    "print(\"Accuracy :\", accuracy_score(y, y_pred))\n",
    "print(\"F1 score:\",f1_score(y, y_pred, average='weighted'))"
   ]
  },
  {
   "cell_type": "code",
   "execution_count": null,
   "metadata": {
    "colab": {
     "base_uri": "https://localhost:8080/"
    },
    "executionInfo": {
     "elapsed": 78,
     "status": "ok",
     "timestamp": 1747735076283,
     "user": {
      "displayName": "Татьяна Бушуева",
      "userId": "14369899420098124992"
     },
     "user_tz": -180
    },
    "id": "A880OlF9IJwm",
    "outputId": "0dca1385-e1c4-4a42-ea5f-f39673af88ab"
   },
   "outputs": [
    {
     "name": "stdout",
     "output_type": "stream",
     "text": [
      "       accuracy  f1_score\n",
      "class                    \n",
      "0      0.882353  0.857143\n",
      "1      0.803922  0.766355\n",
      "2      0.686275  0.777778\n",
      "3      0.352941  0.473684\n",
      "4      0.348837  0.491803\n",
      "5      0.666667  0.747253\n",
      "6      0.960784  0.777778\n",
      "7      0.862745  0.637681\n",
      "8      0.725490  0.685185\n"
     ]
    }
   ],
   "source": [
    "# Сначала получим список всех классов\n",
    "classes = np.unique(y)\n",
    "\n",
    "# 1) F1-score по классам\n",
    "f1_per_class = f1_score(y, y_pred, labels=classes, average=None, zero_division=0)\n",
    "\n",
    "# 2) «Точность по классу» как доля правильно предсказанных среди всех примеров этого класса\n",
    "#    (этот показатель в мультиклассе эквивалентен recall для данного класса)\n",
    "accuracy_per_class = np.array([\n",
    "    np.mean(y_pred[y == cls] == cls)\n",
    "    for cls in classes\n",
    "])\n",
    "\n",
    "# 3) Собираем всё в DataFrame\n",
    "df = pd.DataFrame({\n",
    "    'class': classes.astype(str),\n",
    "    'accuracy': accuracy_per_class,\n",
    "    'f1_score': f1_per_class\n",
    "}).set_index('class')\n",
    "\n",
    "print(df)"
   ]
  }
 ],
 "metadata": {
  "colab": {
   "authorship_tag": "ABX9TyP7np7l63bGeqZ4ObtJf0J/",
   "mount_file_id": "1XYIxsxQJsyEAUviGpXS6BScGWEdZcO0B",
   "provenance": []
  },
  "kernelspec": {
   "display_name": "base",
   "language": "python",
   "name": "python3"
  },
  "language_info": {
   "codemirror_mode": {
    "name": "ipython",
    "version": 3
   },
   "file_extension": ".py",
   "mimetype": "text/x-python",
   "name": "python",
   "nbconvert_exporter": "python",
   "pygments_lexer": "ipython3",
   "version": "3.11.8"
  }
 },
 "nbformat": 4,
 "nbformat_minor": 0
}
