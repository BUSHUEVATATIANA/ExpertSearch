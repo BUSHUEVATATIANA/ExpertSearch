{
 "cells": [
  {
   "cell_type": "code",
   "execution_count": null,
   "metadata": {
    "id": "QVkiWyrtSMjS"
   },
   "outputs": [],
   "source": [
    "import torch\n",
    "import torch.nn as nn\n",
    "from transformers import AutoModel, AutoTokenizer\n",
    "from torch.utils.data import Dataset, DataLoader\n",
    "import pandas as pd\n",
    "import re\n",
    "import emoji\n",
    "from sklearn.model_selection import train_test_split\n",
    "from torch.utils.data import Dataset, DataLoader\n",
    "from transformers import (\n",
    "    AutoTokenizer,\n",
    "    TrainingArguments,\n",
    "    Trainer,\n",
    "    Adafactor, get_linear_schedule_with_warmup\n",
    ")\n",
    "from sentence_transformers import SentenceTransformer,  InputExample, LoggingHandler\n",
    "from xgboost import XGBClassifier\n",
    "import numpy as np\n",
    "from sklearn.metrics import accuracy_score, f1_score\n",
    "import numpy as np\n",
    "import pandas as pd\n",
    "import matplotlib.pyplot as plt\n",
    "from sklearn.metrics import confusion_matrix\n",
    "from sklearn.pipeline import Pipeline\n",
    "import pickle"
   ]
  },
  {
   "cell_type": "code",
   "execution_count": null,
   "metadata": {
    "id": "AZWJd4NDRtKO"
   },
   "outputs": [],
   "source": [
    "data_train = pd.read_csv('/content/drive/MyDrive/Znatno_personal/Отчетность ВКР/Артефакты/Parsing_avito/Model for benchmark/data/train - train (3).csv')"
   ]
  },
  {
   "cell_type": "code",
   "execution_count": null,
   "metadata": {
    "id": "pzZnvI9ERxvd"
   },
   "outputs": [],
   "source": [
    "data_test = pd.read_csv('/content/drive/MyDrive/Znatno_personal/Отчетность ВКР/Артефакты/Parsing_avito/Model for benchmark/data/test_data.csv')"
   ]
  },
  {
   "cell_type": "code",
   "execution_count": null,
   "metadata": {
    "id": "84BHKNLZR4c1"
   },
   "outputs": [],
   "source": [
    "X = data_train['message.text']\n",
    "y = data_train['Оценка']\n",
    "X_test = data_test['message.text']\n",
    "y_test = data_test['Оценка']"
   ]
  },
  {
   "cell_type": "markdown",
   "metadata": {
    "id": "OVHMO7CDLgu6"
   },
   "source": [
    "#Предобработка"
   ]
  },
  {
   "cell_type": "code",
   "execution_count": null,
   "metadata": {
    "id": "RpOSdoCbR44f"
   },
   "outputs": [],
   "source": [
    "def convert_emojis_to_words(text):\n",
    "\n",
    "    # Convert emojis to words\n",
    "    text = emoji.replace_emoji(text, replace=\"\")\n",
    "    # Remove the : from the words and replace _ with space\n",
    "    text = text.replace(\"_\", \" \")\n",
    "\n",
    "    return text"
   ]
  },
  {
   "cell_type": "code",
   "execution_count": null,
   "metadata": {
    "id": "H_tOoZf5R6dy"
   },
   "outputs": [],
   "source": [
    "symbols_pattern = re.compile(pattern = \"[\"\n",
    "    \"@_!#$%^&*()<>?/\\|}{~√•—\"\n",
    "                       \"]+\", flags = re.UNICODE) #спецсимволы\n",
    "# двойные пробелы\n",
    "space_pattern = re.compile('\\s+')"
   ]
  },
  {
   "cell_type": "code",
   "execution_count": null,
   "metadata": {
    "id": "B_qRGEzvR8OS"
   },
   "outputs": [],
   "source": [
    "def clear_text(text):\n",
    "    \"\"\" Функция удаления спецсимволов\"\"\"\n",
    "    # удаление спецсимволов и emoji\n",
    "    pre = symbols_pattern.sub(r'',text)\n",
    "    pre = re.sub(r'http\\S+', '', pre)\n",
    "    pre = convert_emojis_to_words(pre)\n",
    "\n",
    "    return space_pattern.sub(' ', pre)"
   ]
  },
  {
   "cell_type": "code",
   "execution_count": null,
   "metadata": {
    "id": "JW7NYF5bd2TK"
   },
   "outputs": [],
   "source": [
    "def preprocess_text(text):\n",
    "    \"\"\" Финальная функция для обработки \"\"\"\n",
    "    # srip + lower + punctuation\n",
    "    sentence = (\n",
    "        ''.join([x for x in str(text).strip().lower()])\n",
    "    )\n",
    "\n",
    "    return clear_text(sentence)"
   ]
  },
  {
   "cell_type": "code",
   "execution_count": null,
   "metadata": {
    "id": "BTzEv63-aPyb"
   },
   "outputs": [],
   "source": [
    "data_train['message.text'] = data_train['message.text'].apply(preprocess_text)"
   ]
  },
  {
   "cell_type": "code",
   "execution_count": null,
   "metadata": {
    "id": "3L92_7A1SBzR"
   },
   "outputs": [],
   "source": [
    "X = X.apply(preprocess_text)"
   ]
  },
  {
   "cell_type": "code",
   "execution_count": null,
   "metadata": {
    "id": "93Zt1zXWSCpK"
   },
   "outputs": [],
   "source": [
    "X_test = X_test.apply(preprocess_text)"
   ]
  },
  {
   "cell_type": "code",
   "execution_count": null,
   "metadata": {
    "id": "izBrbw7ha0Oq"
   },
   "outputs": [],
   "source": [
    "df_train, df_val = train_test_split(data_train, test_size=0.1, random_state=42)"
   ]
  },
  {
   "cell_type": "code",
   "execution_count": null,
   "metadata": {
    "id": "8BFtH1ozkC9n"
   },
   "outputs": [],
   "source": [
    "X_train, X_val, y_train, y_val = train_test_split(X, y, test_size=0.1, random_state=42)"
   ]
  },
  {
   "cell_type": "markdown",
   "metadata": {
    "id": "NsQq2LRNLkis"
   },
   "source": [
    "# Fine tuning Sentence Transformer"
   ]
  },
  {
   "cell_type": "code",
   "execution_count": null,
   "metadata": {
    "colab": {
     "base_uri": "https://localhost:8080/",
     "height": 493,
     "referenced_widgets": [
      "5d85ca03d3814265828b87ecfb403f68",
      "998d6b3893db4e5dbee88b2b54675816",
      "d45b55efc829477088233f7a6751475a",
      "78659d99b0e646aeb9c20ddfb5c4d84b",
      "5c3c760a6f2542f59128afa32db84e48",
      "5584a60c0101470eb315092ef2639781",
      "0b1d05a9b32f456aad03165da4ccb49b",
      "cb062cfb159f42558ef4376c5d9ec336",
      "0562008c96a046988eea233205f77b77",
      "d9ccc6639ee44b779101db6f57a01afa",
      "1a59fea1d3164b17b9f804852f2364e6",
      "80f5c4097aee45a5995df0fed4e918ff",
      "3bc173dbf6ea4dd5a8d6f9940894c7bd",
      "55beb75721c8419eba6e81d81b1cf19c",
      "88e5bd16fc9b44bf85df208873be619e",
      "d1ce2cabb1294d7780ee83d75b0e6574",
      "ae8ce4651ae74787b61d41398b9e31e0",
      "1b6f1e9b37c74feda101f6ae4ee68421",
      "722966d96f554fccb21e1bfc934f964e",
      "f5af000190914881a6db3c5b7113ebd1",
      "612f6966a15342b1909919ff3fa60897",
      "30105abdbb4641b7a80a74814ce11569",
      "deb488264de34c7ea673fb4327ff8cca",
      "47380d1036e44b1f82943b83a37a8faf",
      "0609f6ec0b90462d837c89f2fccd7852",
      "22de2c9df29b4946bcc52321fb0f66b0",
      "7a48e715f0134d33996f3992a675b212",
      "fb3388e703e0487396e8b26db4575fdf",
      "a56df8b6411a4c139e1b8654195c14b0",
      "0a7770f854f74f5bbd9bbe2891fdbef7",
      "9dc45c3475a6451fa494c71eb131d679",
      "1ce203ee5ed04af5a2776bbb6f0bbd3f",
      "250c2872ebdc4b70a03ef71b89b2c065",
      "fa7955c0288a49de8daa1a969520591f",
      "232a0972bf124c55a685287eb68677bd",
      "2fc4e7a766ed44248caaad6e89660297",
      "15f3b4ab9ccd4b3fbe3506d02e21faad",
      "57dacb2b7ff14a9499b30fc474926845",
      "f65302f00e2c4fbab2f0c5c162e0c019",
      "a1214814b4ef47eb89435c8148744c15",
      "5022962078374c75b6df42165100115b",
      "9548d13a39bf4f1f84c2e3d4bdc8d415",
      "d58a47c86a9046ce8758ade510afe44e",
      "ddfa6832d8d241208d8e48e0ff36a5b9",
      "961bf287b7da474aba9afa8a3c3f7646",
      "93feac0e899c47eb87d3506edc74802d",
      "b2182a6f6681486ea275f45be18e7210",
      "f16850914fa74680866536215e6c27f3",
      "023d5f61e64d46038181944db23dd353",
      "20de62280fe64775a186690407fd09e7",
      "a4215e7f6eee4be4bf1829e1324d1796",
      "5149ff82f91f404eb0050c2c33cefbe8",
      "91c6d5d32aa2461e99767fd5dbdec0e1",
      "9098130962f549258f267c5930d9cb98",
      "20e12d5309a144609d5074fc66846f4f",
      "dc2430451f3c481682c6ae83a0ce0840",
      "7fd4a4ec2ed846eba37d9b6002f5f669",
      "604fe994cceb432ba4e3c7866fbabe1c",
      "24b8e5b0bea04cc8bace1c765f858847",
      "260de4fa34e542a4888a9262706412e9",
      "2e1a7e38e3f046fb88412d857230db36",
      "e52a530cea414bf9899480a8581cf99f",
      "e4d21edec34e419ebeaa5731f0adc8e0",
      "273282ac2b6343308fb959d4bde5213e",
      "8ce1c8afd50e41fe9c72996b868b2199",
      "d3644957f8974df186881c75a1e4de5c",
      "0a070dab75b340d7aa661acd00be14a6",
      "d49089356cfb4d23995d8298a49340b2",
      "babddd002fb7463a99ee2b7ac6b7cb80",
      "fd1ec5faf845499baa0db018ff4aa45c",
      "004da29987e64c5d896aa8219d4624f2",
      "0c653670da8345b8b653519225f13abf",
      "811945a7df164bc2b18dce3cbfa3b090",
      "9cbe7eecb3b840a5803225f43313cda7",
      "bef807036b514d798efc6e85607db783",
      "9981ee4c51964e2b91bd9c45f357707e",
      "79c2a0b7089c475fb74d195dadd32e0a",
      "d7bdbc99b05b48d282e8049f17e6e7cb",
      "d8a5ccfd4c474941981d54e8b8c1f871",
      "bb3e739300b14fafa20c9aef2c48c374",
      "b615e333784348afb0fd78259a375627",
      "d86ebb2d8a0a42bd88d3c66335292e8e",
      "54813d52d5f94d3682f062922ac54395",
      "bd11f26f3ae14ff995a9e4ed0509aa99",
      "fa50ee61f52b41a4a0b056fc1d30f703",
      "99f8d29fb714435ba294b1709417a7bb",
      "23792cf444874f4db9304548f752606d",
      "2c6038c60e624defbffea1e75e3c7cf0",
      "6c30464b3fae447b97cdafe07e0dd6e3",
      "0bb7235d505c45d0b83a747a561b2e95",
      "285a8bab4bd44052ba73c866a4fce557",
      "d6e869c3b9074827bdee5bd09988cd46",
      "87e306f42eee4a978a7de945fd12d38d",
      "48da29868eba494a8f6c097d9d87e4e6",
      "6fefb02e049a4f6db240b64dfe619ed7",
      "58fde688a15f482b84b06b47463e1199",
      "cb414294bc8b4e8eb787bc0848c42f44",
      "9b629960062a42f2a14545714834d9ee",
      "925bd158a7d441a3bb012c1e1fd99a6a",
      "be27c90e05b14df9894e3882f9f66d7e",
      "b31d800288a2480baa0795ca900489d0",
      "580ef64b5ea34918962b1d3077aa4e7d",
      "51a8f9e4246e43eab0856c98d38371cb",
      "20b420ec06114678bcb57efa63232047",
      "8575562a07ac449b9b36a6a6ec6911c9",
      "5a2ad04627cd4a56bd677b85ce3834a3",
      "8c0d149cc7bd454f8eb742136dabaff5",
      "1496bacddd114ad9a826fc974e4904d1",
      "683c71256f93486c8f4428aca3b84c8a",
      "8e911925551c40a3ad7868dc59bc4f52",
      "0ccbb0f803964b7bac5cc31439bb54d2",
      "a02ce649fd7d404bab8690ab8f90aed1",
      "d7bed357dde34f318d4c5294d49e561d",
      "5f98ce039e2b46c6b559e89fb13ba4fb",
      "82ddc0faea304339bd0561666781d41a",
      "157ed10540a344e09ae498a6fbd1c811",
      "a3c37ba092054bffa27049652d0761f6",
      "6a247ec1416f48709a9fe55f9fbed6df",
      "285d692c6cbe4974b4ea3b204d6c0445",
      "48c282e4092f4cc1b8bd4accf8a4055b",
      "2d697679fd314b0183ef20584b71d99c"
     ]
    },
    "executionInfo": {
     "elapsed": 13042,
     "status": "ok",
     "timestamp": 1747290392501,
     "user": {
      "displayName": "Татьяна Бушуева",
      "userId": "14369899420098124992"
     },
     "user_tz": -180
    },
    "id": "YCLmEkrqhA_6",
    "outputId": "de297aa8-f8cd-4fef-aec0-ab69100fdf71"
   },
   "outputs": [],
   "source": [
    "model = SentenceTransformer('intfloat/multilingual-e5-large-instruct')"
   ]
  },
  {
   "cell_type": "code",
   "execution_count": null,
   "metadata": {
    "id": "eynK2ov5hYM1"
   },
   "outputs": [],
   "source": [
    "class ClassificationHead(nn.Module):\n",
    "  def __init__(self, embedding_dim, num_classes):\n",
    "    super(ClassificationHead, self).__init__()\n",
    "    self.linear = nn.Linear(embedding_dim, num_classes)\n",
    "  def forward(self, data):\n",
    "    x = data['sentence_embedding']\n",
    "    x = self.linear(x)\n",
    "    return x\n",
    "\n",
    "num_labels = 9\n",
    "classification_head = ClassificationHead(model.get_sentence_embedding_dimension(), num_labels)"
   ]
  },
  {
   "cell_type": "code",
   "execution_count": null,
   "metadata": {
    "id": "oIF2PcpJkjJK"
   },
   "outputs": [],
   "source": [
    "class SentenceTransformerplusHead(nn.Module):\n",
    "  def __init__(self, transformer, classification_head):\n",
    "    super(SentenceTransformerplusHead, self).__init__()\n",
    "    self.transformer = transformer\n",
    "    self.classification_head = classification_head\n",
    "  def forward(self, input):\n",
    "    data = self.transformer(input)\n",
    "    logits = self.classification_head(data)\n",
    "    return logits"
   ]
  },
  {
   "cell_type": "code",
   "execution_count": null,
   "metadata": {
    "id": "ewAzWjK5lmmI"
   },
   "outputs": [],
   "source": [
    "sentence_transformer_plus_head = SentenceTransformerplusHead(model, classification_head)"
   ]
  },
  {
   "cell_type": "code",
   "execution_count": null,
   "metadata": {
    "id": "45rk1qznmKTj"
   },
   "outputs": [],
   "source": [
    "# training parameters\n",
    "num_epochs = 100\n",
    "batch_size = 32\n",
    "learning_rate = 1e-3\n"
   ]
  },
  {
   "cell_type": "code",
   "execution_count": null,
   "metadata": {
    "colab": {
     "base_uri": "https://localhost:8080/"
    },
    "executionInfo": {
     "elapsed": 17468456,
     "status": "ok",
     "timestamp": 1747307861821,
     "user": {
      "displayName": "Татьяна Бушуева",
      "userId": "14369899420098124992"
     },
     "user_tz": -180
    },
    "id": "jXhcYVw8lu3j",
    "outputId": "db24aa82-b9dd-4d4b-87a7-33f56c9c0d04"
   },
   "outputs": [],
   "source": [
    "# Convert the dataset to PyTorch tensors.\n",
    "train_examples = [InputExample(texts=[s], label=l) for s, l in zip(X, y)]\n",
    "\n",
    "# Customize collate_fn to convert InputExample objects into tensors.\n",
    "def collate_fn(batch):\n",
    "    texts = [example.texts[0] for example in batch]\n",
    "    labels = torch.tensor([example.label for example in batch])\n",
    "    return texts, labels\n",
    "\n",
    "train_dataloader = DataLoader(train_examples, shuffle=True, batch_size=batch_size, collate_fn=collate_fn)\n",
    "\n",
    "# Define the loss function, optimizer, and learning rate scheduler.\n",
    "criterion = nn.CrossEntropyLoss()\n",
    "optimizer = Adafactor(sentence_transformer_plus_head.parameters(), relative_step=False, lr=learning_rate)\n",
    "total_steps = len(train_dataloader) * num_epochs\n",
    "scheduler = get_linear_schedule_with_warmup(optimizer, num_warmup_steps=0, num_training_steps=total_steps)\n",
    "\n",
    "# Training loop\n",
    "loss_list=[]\n",
    "for epoch in range(num_epochs):\n",
    "    sentence_transformer_plus_head.train()\n",
    "    for step, (texts, labels) in enumerate(train_dataloader):\n",
    "        labels = labels.to(model.device)\n",
    "        optimizer.zero_grad()\n",
    "\n",
    "        # Encode text and pass through classification head.\n",
    "        inputs = model.tokenize(texts)\n",
    "        input_ids = inputs['input_ids'].to(model.device)\n",
    "        input_attention_mask = inputs['attention_mask'].to(model.device)\n",
    "        inputs_final = {'input_ids': input_ids, 'attention_mask': input_attention_mask}\n",
    "\n",
    "        # move model_with_head to the same device\n",
    "        sentence_transformer_plus_head = sentence_transformer_plus_head.to(model.device)\n",
    "        logits = sentence_transformer_plus_head(inputs_final)\n",
    "\n",
    "        loss = criterion(logits, labels)\n",
    "        loss.backward()\n",
    "        optimizer.step()\n",
    "        scheduler.step()\n",
    "        if step % 500 == 0:\n",
    "            print(f\"Epoch {epoch}, Step {step}, Loss: {loss.item()}\")\n",
    "\n",
    "    print(f'Epoch {epoch+1}/{num_epochs}, Loss: {loss.item()}')\n",
    "    model_save_path = '//content/drive/MyDrive/finetuning_sentance_transformer_plus_head11/'\n",
    "    model.save(model_save_path)\n",
    "    loss_list.append(loss.item())"
   ]
  },
  {
   "cell_type": "code",
   "execution_count": null,
   "metadata": {
    "id": "2o72pMaTm1qH"
   },
   "outputs": [],
   "source": [
    "# Save the final model\n",
    "model_final_save_path='//content/drive/MyDrive/finetuning_sentance_transformer_plus_head/st_ft1_epoch100'\n",
    "model.save(model_final_save_path)"
   ]
  },
  {
   "cell_type": "code",
   "execution_count": null,
   "metadata": {
    "id": "_S-4YlakrElB"
   },
   "outputs": [],
   "source": [
    "y_train = np.array(y)\n",
    "y_test = np.array(y_test)"
   ]
  },
  {
   "cell_type": "code",
   "execution_count": null,
   "metadata": {
    "colab": {
     "base_uri": "https://localhost:8080/",
     "height": 458
    },
    "executionInfo": {
     "elapsed": 17,
     "status": "ok",
     "timestamp": 1747308046957,
     "user": {
      "displayName": "Татьяна Бушуева",
      "userId": "14369899420098124992"
     },
     "user_tz": -180
    },
    "id": "e4dIZvRxg0iR",
    "outputId": "a00f2226-b795-4caf-ec15-446c32e76a1b"
   },
   "outputs": [],
   "source": [
    "X_train"
   ]
  },
  {
   "cell_type": "markdown",
   "metadata": {
    "id": "X9IxHa3ULu_L"
   },
   "source": [
    "# Обучение и тестирование XGBoost"
   ]
  },
  {
   "cell_type": "code",
   "execution_count": null,
   "metadata": {
    "id": "6UTrpUYtspaA"
   },
   "outputs": [],
   "source": [
    "model = SentenceTransformer('//content/drive/MyDrive/finetuning_sentance_transformer_plus_head/st_ft_epoch100')"
   ]
  },
  {
   "cell_type": "code",
   "execution_count": null,
   "metadata": {
    "id": "HpI3E5fywtVw"
   },
   "outputs": [],
   "source": [
    "train_embeddings  = X_train.apply(lambda x: model.encode(str(x))).to_list()\n",
    "val_embeddings  = X_val.apply(lambda x: model.encode(str(x))).to_list()\n",
    "test_embeddings  = X_test.apply(lambda x: model.encode(str(x))).to_list()"
   ]
  },
  {
   "cell_type": "code",
   "execution_count": null,
   "metadata": {
    "id": "HJ1O5LBnsLQw"
   },
   "outputs": [],
   "source": [
    "y_train = np.array(y_train)\n",
    "y_test = np.array(y_test)\n",
    "y_val = np.array(y_val)"
   ]
  },
  {
   "cell_type": "code",
   "execution_count": null,
   "metadata": {
    "id": "uSTsAeHnsk2e"
   },
   "outputs": [],
   "source": [
    "train_embeddings = np.array(train_embeddings)\n",
    "val_embeddings = np.array(val_embeddings)\n",
    "test_embeddings = np.array(test_embeddings)"
   ]
  },
  {
   "cell_type": "code",
   "execution_count": null,
   "metadata": {
    "colab": {
     "base_uri": "https://localhost:8080/"
    },
    "executionInfo": {
     "elapsed": 51086,
     "status": "ok",
     "timestamp": 1747480703497,
     "user": {
      "displayName": "Татьяна Бушуева",
      "userId": "14369899420098124992"
     },
     "user_tz": -180
    },
    "id": "iFxkO4Gv0ztC",
    "outputId": "38dc578a-f3f1-45c3-e954-69aedabd3a2c"
   },
   "outputs": [],
   "source": [
    "xgb1 = XGBClassifier(objective=\"multi:softmax\", num_class=9, eval_metric=\"mlogloss\", learning_rate=0.07078025811321921, max_depth=45, n_estimators = 700, subsample=0.5458605221291573, colsample_bytree= 0.15268221810604315)\n",
    "# Предсказания и оценка\n",
    "xgb1.fit(train_embeddings, y_train,eval_set= [(train_embeddings, y_train), (val_embeddings, y_val)])\n",
    "\n",
    "y_pred = xgb1.predict(test_embeddings)"
   ]
  },
  {
   "cell_type": "code",
   "execution_count": null,
   "metadata": {
    "id": "RRkLmD66jjJJ"
   },
   "outputs": [],
   "source": [
    "evals_result = xgb1.evals_result()"
   ]
  },
  {
   "cell_type": "code",
   "execution_count": null,
   "metadata": {
    "colab": {
     "base_uri": "https://localhost:8080/"
    },
    "executionInfo": {
     "elapsed": 12,
     "status": "ok",
     "timestamp": 1747480703567,
     "user": {
      "displayName": "Татьяна Бушуева",
      "userId": "14369899420098124992"
     },
     "user_tz": -180
    },
    "id": "RjHIg0Td1pcH",
    "outputId": "94ae39df-fc16-4561-a85b-97da7829d268"
   },
   "outputs": [],
   "source": [
    "print(\"Accuracy :\", accuracy_score(y_test, y_pred))\n",
    "print(\"F1 score:\",f1_score(y_test, y_pred, average='weighted'))"
   ]
  },
  {
   "cell_type": "code",
   "execution_count": null,
   "metadata": {
    "colab": {
     "base_uri": "https://localhost:8080/",
     "height": 624
    },
    "executionInfo": {
     "elapsed": 673,
     "status": "ok",
     "timestamp": 1747480727925,
     "user": {
      "displayName": "Татьяна Бушуева",
      "userId": "14369899420098124992"
     },
     "user_tz": -180
    },
    "id": "9jxlFzrWTDOn",
    "outputId": "11dceccb-ff9b-4023-b53b-9cdd07ad5cfa"
   },
   "outputs": [],
   "source": [
    "cm = confusion_matrix(y_test, y_pred, labels=np.unique(y_test))\n",
    "\n",
    "fig, ax = plt.subplots(figsize=(6,6))\n",
    "im = ax.imshow(cm, interpolation='nearest', aspect='auto')\n",
    "unique_labels = np.unique(y_test).astype(int)\n",
    "ax.set_xticks(range(9))\n",
    "ax.set_yticks(range(9))\n",
    "ax.set_xticklabels(unique_labels, rotation=45)\n",
    "ax.set_yticklabels(unique_labels)\n",
    "ax.set_ylabel('Истинный класс')\n",
    "ax.set_xlabel('Предсказанный класс')\n",
    "fig.colorbar(im, ax=ax)\n",
    "plt.tight_layout()\n",
    "plt.show()\n",
    "plt.savefig('xbg_matrix.png')\n"
   ]
  },
  {
   "cell_type": "code",
   "execution_count": null,
   "metadata": {
    "colab": {
     "base_uri": "https://localhost:8080/"
    },
    "executionInfo": {
     "elapsed": 13,
     "status": "ok",
     "timestamp": 1747480731136,
     "user": {
      "displayName": "Татьяна Бушуева",
      "userId": "14369899420098124992"
     },
     "user_tz": -180
    },
    "id": "F0KCdFReTaP-",
    "outputId": "010b248c-441f-48a1-ae7d-88e8e3c54472"
   },
   "outputs": [],
   "source": [
    "# Сначала получим список всех классов\n",
    "classes = np.unique(y_test)\n",
    "\n",
    "# 1) F1-score по классам\n",
    "f1_per_class = f1_score(y_test, y_pred, labels=classes, average=None, zero_division=0)\n",
    "\n",
    "# 2) «Точность по классу» как доля правильно предсказанных среди всех примеров этого класса\n",
    "#    (этот показатель в мультиклассе эквивалентен recall для данного класса)\n",
    "accuracy_per_class = np.array([\n",
    "    np.mean(y_pred[y_test == cls] == cls)\n",
    "    for cls in classes\n",
    "])\n",
    "\n",
    "# 3) Собираем всё в DataFrame\n",
    "df = pd.DataFrame({\n",
    "    'class': classes.astype(str),\n",
    "    'accuracy': accuracy_per_class,\n",
    "    'f1_score': f1_per_class\n",
    "}).set_index('class')\n",
    "\n",
    "print(df)\n",
    "\n"
   ]
  },
  {
   "cell_type": "markdown",
   "metadata": {
    "id": "gFLXppe5OTvF"
   },
   "source": [
    "# Оптимизация гиперпараметров XGBoost и повторное обучение"
   ]
  },
  {
   "cell_type": "code",
   "execution_count": null,
   "metadata": {
    "colab": {
     "base_uri": "https://localhost:8080/"
    },
    "executionInfo": {
     "elapsed": 7686809,
     "status": "ok",
     "timestamp": 1747490513620,
     "user": {
      "displayName": "Татьяна Бушуева",
      "userId": "14369899420098124992"
     },
     "user_tz": -180
    },
    "id": "DoqGijy3bQ5U",
    "outputId": "244084d1-bf20-4c70-a9aa-d46c2ee3f0d2"
   },
   "outputs": [],
   "source": [
    "def objective(trial):\n",
    "    params = {\n",
    "        \"objective\": \"multi:softmax\",\n",
    "        \"num_class\": 9,\n",
    "        \"eval_metric\": \"mlogloss\",\n",
    "        \"learning_rate\": trial.suggest_loguniform(\"learning_rate\", 0.0001, 0.3),\n",
    "        \"max_depth\": trial.suggest_int(\"max_depth\", 3, 100),\n",
    "        \"n_estimators\": trial.suggest_int(\"n_estimators\", 50, 2000),\n",
    "        \"subsample\": trial.suggest_float(\"subsample\", 0.5, 1.0),\n",
    "        \"colsample_bytree\": trial.suggest_float(\"colsample_bytree\", 0.05, 1.0)\n",
    "    }\n",
    "\n",
    "    model = XGBClassifier(**params)\n",
    "    model.fit(train_embeddings, y_train)\n",
    "\n",
    "    y_pred = model.predict(val_embeddings)\n",
    "    return accuracy_score(y_val, y_pred)\n",
    "\n",
    "# Запуск оптимизации\n",
    "study = optuna.create_study(direction=\"maximize\")  # Ищем max accuracy\n",
    "study.optimize(objective, n_trials=50)\n",
    "\n",
    "# Лучшие параметры\n",
    "print(\"Лучшие параметры:\", study.best_params)"
   ]
  },
  {
   "cell_type": "code",
   "execution_count": null,
   "metadata": {
    "id": "AFLndeNclad6"
   },
   "outputs": [],
   "source": [
    "xgb2 =XGBClassifier(objective=\"multi:softmax\", num_class=9, eval_metric=\"mlogloss\", learning_rate=0.005571440502204253, max_depth=11, n_estimators = 140, subsample=0.6473257042288756, colsample_bytree = 0.14967908315900308)"
   ]
  },
  {
   "cell_type": "code",
   "execution_count": null,
   "metadata": {
    "colab": {
     "base_uri": "https://localhost:8080/",
     "height": 1000
    },
    "executionInfo": {
     "elapsed": 19442,
     "status": "ok",
     "timestamp": 1749743676774,
     "user": {
      "displayName": "Татьяна Бушуева",
      "userId": "14369899420098124992"
     },
     "user_tz": -180
    },
    "id": "1PfIy3jllsq-",
    "outputId": "4002bad5-575f-4c83-d4ff-9aeaed94c803"
   },
   "outputs": [],
   "source": [
    "xgb2.fit(train_embeddings, y_train,eval_set= [(train_embeddings, y_train), (val_embeddings, y_val)])"
   ]
  },
  {
   "cell_type": "code",
   "execution_count": null,
   "metadata": {
    "colab": {
     "base_uri": "https://localhost:8080/"
    },
    "executionInfo": {
     "elapsed": 14,
     "status": "ok",
     "timestamp": 1749743969770,
     "user": {
      "displayName": "Татьяна Бушуева",
      "userId": "14369899420098124992"
     },
     "user_tz": -180
    },
    "id": "pAWz08S4mE3L",
    "outputId": "b408cea7-b811-4b49-c806-429b595108d7"
   },
   "outputs": [],
   "source": [
    "y_pred = xgb2.predict(test_embeddings)\n",
    "accuracy = accuracy_score(y_test, y_pred)\n",
    "print(f'Accuracy: {accuracy:.5f}')"
   ]
  },
  {
   "cell_type": "code",
   "execution_count": null,
   "metadata": {
    "colab": {
     "base_uri": "https://localhost:8080/"
    },
    "executionInfo": {
     "elapsed": 7,
     "status": "ok",
     "timestamp": 1749743973483,
     "user": {
      "displayName": "Татьяна Бушуева",
      "userId": "14369899420098124992"
     },
     "user_tz": -180
    },
    "id": "P7AX5Dh1l9J7",
    "outputId": "6a2aecb8-00f9-47dd-fe28-2b106f891fd1"
   },
   "outputs": [],
   "source": [
    "print(\"Accuracy :\", accuracy_score(y_test, y_pred))\n",
    "print(\"F1 score:\",f1_score(y_test, y_pred, average='weighted'))"
   ]
  },
  {
   "cell_type": "code",
   "execution_count": null,
   "metadata": {
    "colab": {
     "base_uri": "https://localhost:8080/"
    },
    "executionInfo": {
     "elapsed": 48,
     "status": "ok",
     "timestamp": 1747492009749,
     "user": {
      "displayName": "Татьяна Бушуева",
      "userId": "14369899420098124992"
     },
     "user_tz": -180
    },
    "id": "v9BeM7i7o-yz",
    "outputId": "3458b5c7-337c-4fdd-b2a7-9da71ac34b5c"
   },
   "outputs": [],
   "source": [
    "classes = np.unique(y_test)\n",
    "\n",
    "# 1) F1-score по классам\n",
    "f1_per_class = f1_score(y_test, y_pred, labels=classes, average=None, zero_division=0)\n",
    "\n",
    "# 2) «Точность по классу» как доля правильно предсказанных среди всех примеров этого класса\n",
    "#    (этот показатель в мультиклассе эквивалентен recall для данного класса)\n",
    "accuracy_per_class = np.array([\n",
    "    np.mean(y_pred[y_test == cls] == cls)\n",
    "    for cls in classes\n",
    "])\n",
    "\n",
    "# 3) Собираем всё в DataFrame\n",
    "df = pd.DataFrame({\n",
    "    'class': classes.astype(str),\n",
    "    'accuracy': accuracy_per_class,\n",
    "    'f1_score': f1_per_class\n",
    "}).set_index('class')\n",
    "\n",
    "print(df)"
   ]
  },
  {
   "cell_type": "code",
   "execution_count": null,
   "metadata": {
    "colab": {
     "base_uri": "https://localhost:8080/",
     "height": 623
    },
    "executionInfo": {
     "elapsed": 229,
     "status": "ok",
     "timestamp": 1747492742355,
     "user": {
      "displayName": "Татьяна Бушуева",
      "userId": "14369899420098124992"
     },
     "user_tz": -180
    },
    "id": "X06dhlSUrxtF",
    "outputId": "3f4bef18-4448-409b-f176-c9b454890a7f"
   },
   "outputs": [],
   "source": [
    "from sklearn.metrics import confusion_matrix\n",
    "cm = confusion_matrix(y_test, y_pred, labels=np.unique(y_test))\n",
    "\n",
    "fig, ax = plt.subplots(figsize=(6,6))\n",
    "im = ax.imshow(cm, interpolation='nearest', aspect='auto')\n",
    "unique_labels = np.unique(y_test).astype(int)\n",
    "ax.set_xticks(range(9))\n",
    "ax.set_yticks(range(9))\n",
    "ax.set_xticklabels(unique_labels, rotation=45)\n",
    "ax.set_yticklabels(unique_labels)\n",
    "ax.set_ylabel('Истинный класс')\n",
    "ax.set_xlabel('Предсказанный класс')\n",
    "fig.colorbar(im, ax=ax)\n",
    "plt.tight_layout()\n",
    "plt.show()\n",
    "plt.savefig('xbg_matrix.png')"
   ]
  },
  {
   "cell_type": "markdown",
   "metadata": {
    "id": "7mZB5RjzQOc0"
   },
   "source": [
    "# Формирование файла Pickle"
   ]
  },
  {
   "cell_type": "code",
   "execution_count": null,
   "metadata": {
    "id": "NI-vQL7CsTx_"
   },
   "outputs": [],
   "source": [
    "class Preprocessing:\n",
    "    def __init__(self):\n",
    "        \"\"\"\n",
    "        :param text: исходная строка для предварительной обработки\n",
    "        \"\"\"\n",
    "        pass\n",
    "    def fit(self, text,y=None):\n",
    "      return self\n",
    "\n",
    "    def make_string(self,text):\n",
    "        \"\"\"\n",
    "        Приводит текст к строке, удаляет лишние пробелы и приводит к нижнему регистру\n",
    "        \"\"\"\n",
    "        return str(text).strip().lower()\n",
    "\n",
    "    def convert_emojis_to_words(self, text=None):\n",
    "        \"\"\"\n",
    "        Преобразует emojis в слова\n",
    "        :param text: текст для обработки; если None, используется self.text\n",
    "        \"\"\"\n",
    "        t = text if text is not None else text\n",
    "        # Переводим emoji в текстовый формат :emoji_name:\n",
    "        text_1 = emoji.demojize(str(t), delimiters=(\" \", \" \"))\n",
    "        # Удаляем двоеточия и заменяем подчёркивания на пробелы\n",
    "        text_1 = text_1.replace(':', '').replace('_', ' ')\n",
    "        return text_1\n",
    "\n",
    "    def clear_text(self, text):\n",
    "        \"\"\"\n",
    "        Удаляет спецсимволы и нормализует пробелы\n",
    "        :param text: текст для очистки\n",
    "        \"\"\"\n",
    "        symbols_pattern = re.compile(r\"[@_!#$%^&*()<>?/\\\\|}{~√•—]+\", flags=re.UNICODE)\n",
    "        space_pattern = re.compile(r\"\\s+\")\n",
    "        # Удаляем спецсимволы\n",
    "        pre = symbols_pattern.sub('', text)\n",
    "        # Нормализуем пробелы\n",
    "        return space_pattern.sub(' ', pre).strip()\n",
    "\n",
    "    def transform(self,text):\n",
    "        \"\"\"\n",
    "        Полная предварительная обработка текста:\n",
    "        - stringify + lower\n",
    "        - convert emojis\n",
    "        - clear text\n",
    "        :returns: обработанная строка\n",
    "        \"\"\"\n",
    "        s = self.make_string(text)\n",
    "        s = self.convert_emojis_to_words(s)\n",
    "        s = self.clear_text(s)\n",
    "        return s\n",
    "\n"
   ]
  },
  {
   "cell_type": "code",
   "execution_count": null,
   "metadata": {
    "id": "FjqngJpze1Ej"
   },
   "outputs": [],
   "source": [
    "class Get_embeddings:\n",
    "  def __init__(self):\n",
    "    self.model = SentenceTransformer('//content/drive/MyDrive/finetuning_sentance_transformer_plus_head/st_ft_epoch100')\n",
    "  def fit(self, X, y=None):\n",
    "    return self\n",
    "  def transform(self, X):\n",
    "    train_embeddings  = list(model.encode(X))\n",
    "    return train_embeddings"
   ]
  },
  {
   "cell_type": "code",
   "execution_count": null,
   "metadata": {
    "id": "kTpEfvdijcA3"
   },
   "outputs": [],
   "source": [
    "pipe = Pipeline([('get_embeddings', Get_embeddings()),\n",
    "                 ('xgb', xgb)])"
   ]
  },
  {
   "cell_type": "code",
   "execution_count": null,
   "metadata": {
    "colab": {
     "base_uri": "https://localhost:8080/",
     "height": 155
    },
    "executionInfo": {
     "elapsed": 41952,
     "status": "ok",
     "timestamp": 1749745169912,
     "user": {
      "displayName": "Татьяна Бушуева",
      "userId": "14369899420098124992"
     },
     "user_tz": -180
    },
    "id": "H6DaN_xPkBGF",
    "outputId": "84d62743-6dc7-4198-8843-a174a49bae61"
   },
   "outputs": [],
   "source": [
    "pipe.fit(X, y)"
   ]
  },
  {
   "cell_type": "code",
   "execution_count": null,
   "metadata": {
    "id": "dVsHxFaRWbda"
   },
   "outputs": [],
   "source": [
    "with open('xgb_model.pkl', 'wb') as output:\n",
    "    pickle.dump(pipe, output)"
   ]
  }
 ],
 "metadata": {
  "accelerator": "GPU",
  "colab": {
   "gpuType": "A100",
   "machine_shape": "hm",
   "provenance": []
  },
  "kernelspec": {
   "display_name": "Python 3",
   "name": "python3"
  },
  "language_info": {
   "name": "python"
  }
 },
 "nbformat": 4,
 "nbformat_minor": 0
}
