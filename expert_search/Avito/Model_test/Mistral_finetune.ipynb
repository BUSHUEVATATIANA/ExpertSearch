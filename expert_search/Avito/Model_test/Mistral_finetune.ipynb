{
 "cells": [
  {
   "cell_type": "code",
   "execution_count": null,
   "metadata": {
    "id": "cu8JEgOw44k1"
   },
   "outputs": [],
   "source": [
    "import pandas as pd\n",
    "import numpy as np\n",
    "import re\n",
    "import emoji\n",
    "import os\n",
    "from transformers import AutoTokenizer, MistralForSequenceClassification, BitsAndBytesConfig, TrainingArguments, Trainer\n",
    "import evaluate\n",
    "import torch\n",
    "\n",
    "from sklearn.model_selection import train_test_split\n",
    "\n",
    "from torch.utils.data import Dataset, DataLoader\n",
    "from datasets import load_dataset\n",
    "from transformers import DataCollatorWithPadding\n",
    "from transformers import EarlyStoppingCallback\n",
    "from sklearn.metrics import balanced_accuracy_score\n",
    "from sklearn.metrics import accuracy_score\n",
    "from sklearn.metrics import f1_score\n",
    "from peft import LoraConfig, get_peft_model"
   ]
  },
  {
   "cell_type": "code",
   "execution_count": null,
   "metadata": {
    "id": "qus9P09uAxQs"
   },
   "outputs": [],
   "source": [
    "data_train = pd.read_csv('/content/drive/MyDrive/Znatno_personal/Отчетность ВКР/Артефакты/Parsing_avito/Model for benchmark/data/train - train (3).csv')"
   ]
  },
  {
   "cell_type": "code",
   "execution_count": null,
   "metadata": {
    "id": "B00uMX3nBAOy"
   },
   "outputs": [],
   "source": [
    "data_test = pd.read_csv('/content/drive/MyDrive/Znatno_personal/Отчетность ВКР/Артефакты/Parsing_avito/Model for benchmark/data/test_data.csv')"
   ]
  },
  {
   "cell_type": "code",
   "execution_count": null,
   "metadata": {
    "id": "hGyTQxerB3WK"
   },
   "outputs": [],
   "source": [
    "X = data_train['message.text']\n",
    "y = data_train['Оценка']\n",
    "X_test = data_test['message.text']\n",
    "y_test = data_test['Оценка']"
   ]
  },
  {
   "cell_type": "markdown",
   "metadata": {
    "id": "dgENoTz9DLcy"
   },
   "source": [
    "# Предобработка"
   ]
  },
  {
   "cell_type": "code",
   "execution_count": null,
   "metadata": {
    "id": "xOZeMRd6DOAE"
   },
   "outputs": [],
   "source": [
    "def convert_emojis_to_words(text):\n",
    "\n",
    "    # Convert emojis to words\n",
    "    text = emoji.replace_emoji(text, replace=\"\")\n",
    "\n",
    "    # Remove the : from the words and replace _ with space\n",
    "    text = text.replace(\":\", \" \").replace(\"_\", \" \")\n",
    "\n",
    "    return text"
   ]
  },
  {
   "cell_type": "code",
   "execution_count": null,
   "metadata": {
    "id": "UREfljpCDVpq"
   },
   "outputs": [],
   "source": [
    "symbols_pattern = re.compile(pattern = \"[\"\n",
    "    \"@_!#$%^&*()<>?/\\|}{~√•—\"\n",
    "                       \"]+\", flags = re.UNICODE) #спецсимволы\n",
    "# двойные пробелы\n",
    "space_pattern = re.compile('\\s+')\n",
    "#exclude = set(string.punctuation) # удаление пунктуации\n",
    "def clear_text(text):\n",
    "    \"\"\" Функция удаления спецсимволов\"\"\"\n",
    "    # удаление спецсимволов и emoji\n",
    "    pre = symbols_pattern.sub(r'',text)\n",
    "    pre = convert_emojis_to_words(pre)\n",
    "\n",
    "\n",
    "    return space_pattern.sub(' ', pre)"
   ]
  },
  {
   "cell_type": "code",
   "execution_count": null,
   "metadata": {
    "id": "HCqn4qyHDPUs"
   },
   "outputs": [],
   "source": [
    "def preprocess_text(text):\n",
    "    \"\"\" Финальная функция для обработки \"\"\"\n",
    "    # srip + lower + punctuation\n",
    "    sentence = (\n",
    "        ''.join([x for x in str(text).strip().lower()])\n",
    "    )\n",
    "\n",
    "    return clear_text(sentence)"
   ]
  },
  {
   "cell_type": "code",
   "execution_count": null,
   "metadata": {
    "id": "JLxGmi0_EcY7"
   },
   "outputs": [],
   "source": [
    "X = X.apply(preprocess_text)"
   ]
  },
  {
   "cell_type": "code",
   "execution_count": null,
   "metadata": {
    "id": "LxYtEOhMHWvE"
   },
   "outputs": [],
   "source": [
    "X_test = X_test.apply(preprocess_text)"
   ]
  },
  {
   "cell_type": "markdown",
   "metadata": {
    "id": "wkKwykH0Kk0O"
   },
   "source": [
    "#Обучение"
   ]
  },
  {
   "cell_type": "code",
   "execution_count": null,
   "metadata": {
    "colab": {
     "base_uri": "https://localhost:8080/"
    },
    "executionInfo": {
     "elapsed": 16992,
     "status": "ok",
     "timestamp": 1747641932111,
     "user": {
      "displayName": "Татьяна Бушуева",
      "userId": "14369899420098124992"
     },
     "user_tz": -180
    },
    "id": "eN1vaWItLYlB",
    "outputId": "2bd8753e-9c9f-4508-f383-77837220fbd8"
   },
   "outputs": [],
   "source": [
    "!huggingface-cli login"
   ]
  },
  {
   "cell_type": "code",
   "execution_count": null,
   "metadata": {
    "id": "vfLJAqjnLaX1"
   },
   "outputs": [],
   "source": [
    "quantization_config = BitsAndBytesConfig(load_in_8bit=True)"
   ]
  },
  {
   "cell_type": "code",
   "execution_count": null,
   "metadata": {
    "colab": {
     "base_uri": "https://localhost:8080/",
     "height": 513,
     "referenced_widgets": [
      "2b5dd64ebd194872ad14807bc4b8da40",
      "30719e94eaed4a849bb9f42807d6cc1a",
      "15db74e0feef4bb994470582cc5d39fb",
      "02329c25db7c49828a1295ab97222421",
      "ad8e21239d654471941602676bc3799d",
      "a30184fb85f84bc294476991ef829a86",
      "0bccaf326e10436eb0a57e8241758706",
      "2db804cdd91a4619bea06ddb963c1dfa",
      "41fb8ff4c8834ee0941220dc782284b3",
      "fb50a96271ce4a7c916c9eb1d9d68145",
      "99f36dc458134dc59134a856306129d6",
      "44d262d390c242f49684a2dfdc04f737",
      "e1b8f4927b5d431b82ed24b6986602a4",
      "fa2edcacff1f4cbaaf59ca63414186f4",
      "7bff44383c6545e98e0aa3e7376d43cd",
      "a8df78420aeb4627b00f98efe1ae051f",
      "bcdab41215cd4867867269b88ba8b1c8",
      "e39a6888a73c4aeab85a44338bd0fed1",
      "dae3dc8b9ab64348a64b74ef1ea4b81b",
      "ff3669bd62cb4eae871c1288e17188f1",
      "a5565a91e50642ddb2d1d968f43d8a66",
      "7041f97ba1c84e7fa49cdf5b6fbadf3f",
      "2d49bfd2576848d49e1c5859cc31a90e",
      "1f52554facbd471f987ff936806fd07d",
      "317760b3ca434ba2b1c57ba2832f535e",
      "ec6db219496842bd94996a44d43c1565",
      "bef8a9e5d3114573bf0066de61a3418d",
      "fa36af38d50e44f89d735a46ce1fe8ca",
      "23cd515c5c5243de98c903b22d2b03ce",
      "e9a3d0c2d2304a2b808fa7b4e3fcccae",
      "32ee64a741c0409fb3a7fe7df988e8b6",
      "d80c3751cf8c4d32bef90da292f7d75e",
      "78979092fb9044e29e36c745536ca3bf",
      "8e0331368ac344eb8de731b8daa23497",
      "876695ac72b34c8cbb26d7eedc65ff23",
      "f57d2367c9034360ba7e81e1820fd2b5",
      "7391cebeaeff461ab4ed97cd9fee3597",
      "ddb5409b17c644e7bc744084a16e427b",
      "0d67e593a43b442d87bd934554e753ce",
      "cc28e1cc4efb4579a6b20e07389f056c",
      "b9bcd73f81a344eea9a9fb522460171f",
      "64bd26e3fd14413cbcb65bbbcc09ab53",
      "6f5f466c77d043de8923769ea38c4253",
      "6f8a0052ad8e41dea7252275aeaa5f8a",
      "7c45a761111f4f2cbcde701acbce3f56",
      "efba5c94143644f5bb3222dd6631a777",
      "9a50d0025d1d414caf0d9f94c3dfe415",
      "20012ae39d5b431daf8651cc4c4060f2",
      "12a38d87fcdc464cb20c00ca1e82bc30",
      "579997aeee574bb8bfb7a94215115b95",
      "b29b2b8dd3ca4d449bc327d0af63e9bb",
      "de244ff4e81a4af5bd8d71600556efd9",
      "01f3557f8ea5406191f8c7ed08fcc910",
      "ba696407286f422a94e4c2c09fd9ebbd",
      "5344b7b194e24da9ac5a35190a9f49d4",
      "93bb510d0aeb49a1b2186ed20e3172f1",
      "bcbfc2ea77bc46039dff630c08e8f0ce",
      "9dc374e3e48c4b05aec906472b794c52",
      "9c05ad03ffe7448aad5219f8dadef8b9",
      "5db8fc97a09943e4977f8e715828e0b7",
      "ed3a3be2da854ebf848a1fa6232d782f",
      "3e66788a9fe0449a889ec7f0a6ff38b5",
      "7f7245a70f20478fb94de3034bed604b",
      "b61d8576f3ae4f59a8509601ebdda1a2",
      "c444765572e44626818d47c1fef2c872",
      "40f48824f6434f94a1311af261016676",
      "d0f81855aa634b2bab08ad8409d00b58",
      "4676719d986e408b87f5a871344c0a6e",
      "1d9c5b6265aa417fb27b8e01b05d4866",
      "7f1666c6be0147cbbb14677aaa49e31c",
      "fa53571397844043bedbabaa470b6487",
      "8485a2883b234c2d98b2af93384dc3d6",
      "4fd24cdb72404d8699abefa6c8185c24",
      "b105d0ded5464dd1bb759ea60e9ac63c",
      "99ab0e6c9c2e4aacbfcc4ee6edc80551",
      "ee9e96341051407b8df8972e39c81d52",
      "07015fee1e4d4b62b340bc27c620b59a",
      "dd4d7f7d683b40eb9ebacbb6ba36480f",
      "3f78be11abf844f7ba0cd630783c80de",
      "f491f1cb9ee745949f47712d0924daea",
      "c56338f5eb74405cb76b41d075a2ca0d",
      "74bc8456cc324a1f8ae8006c94877c7d",
      "aac08aa44b1a46dd9c4a07224587d44b",
      "39f2902010334706b9af025dab923954",
      "a5bc97bdc63148a59ca4f3c54e181952",
      "e17bd056f80c49679ebc1083756b8f56",
      "6ac79c13f3e442a9af5e5659dba19b26",
      "541e5c0e0da447dfa7346530d7aff1df",
      "14fccfe997604201a9c13559a1963470",
      "ea786cc4a17e422d842fe115ee25afcc",
      "34d757831b8342f9aa6408bf5f62fdb9",
      "279642c16f1d49c0b5ea896416e41514",
      "5499056c3f8f4344a4e5dda8abc40a55",
      "8f9c26178d5344ecbca299bcc2bd1da4",
      "b640174b46ae4bf3a34617726e889a39",
      "1aca2d1bc0864a4fa587fccac2459f74",
      "3039d3632bb44f0f839e4aaf268e1d8c",
      "bdc8e8fe54374a729234250072822c65",
      "f534654971d142948cf7fe1a10bcd100",
      "920f715c55254198adaea114c7d91920",
      "5fea1a3a03874242a77e9c4429d31f35",
      "0a2575256acd4aad88b8c03e8cfd5f9c",
      "cfec4c08bde448f6aab9d9d6d96e853b",
      "7379f35e20464c66a706b24c02f9a8b2",
      "953cc365f14142149e7fa26d06f38cd9",
      "f13d51bcf92c4da2a3f612154fc142c0",
      "f3e24b7179f746ac97d5359e8a9b4ba2",
      "59b17d00f2b9421c899ae1431530743a",
      "7ddce08774ae4814bbe9b2dfcd9e3c05",
      "24eeb99de3cd4e7aa46a487b9a3c1f75"
     ]
    },
    "executionInfo": {
     "elapsed": 71714,
     "status": "ok",
     "timestamp": 1747642003828,
     "user": {
      "displayName": "Татьяна Бушуева",
      "userId": "14369899420098124992"
     },
     "user_tz": -180
    },
    "id": "aZ0geLjotnP8",
    "outputId": "b357c705-5101-430f-9134-2e97618232e0"
   },
   "outputs": [],
   "source": [
    "tokenizer = AutoTokenizer.from_pretrained(\"mistralai/Mistral-7B-v0.1\")\n",
    "model = MistralForSequenceClassification.from_pretrained(\"mistralai/Mistral-7B-v0.1\", quantization_config=quantization_config, num_labels = 9)"
   ]
  },
  {
   "cell_type": "code",
   "execution_count": null,
   "metadata": {
    "colab": {
     "base_uri": "https://localhost:8080/"
    },
    "executionInfo": {
     "elapsed": 5,
     "status": "ok",
     "timestamp": 1747642003835,
     "user": {
      "displayName": "Татьяна Бушуева",
      "userId": "14369899420098124992"
     },
     "user_tz": -180
    },
    "id": "6kvrAeHtLag8",
    "outputId": "35f5834f-e88d-4895-89e3-ac2d5ce3da1c"
   },
   "outputs": [],
   "source": [
    "tokenizer.add_special_tokens({'pad_token': '[PAD]'})"
   ]
  },
  {
   "cell_type": "code",
   "execution_count": null,
   "metadata": {
    "colab": {
     "base_uri": "https://localhost:8080/"
    },
    "executionInfo": {
     "elapsed": 13,
     "status": "ok",
     "timestamp": 1747642003850,
     "user": {
      "displayName": "Татьяна Бушуева",
      "userId": "14369899420098124992"
     },
     "user_tz": -180
    },
    "id": "c_6a8Y2lTLMk",
    "outputId": "08b631d3-bbf3-4796-c8f7-8a415ddd248b"
   },
   "outputs": [],
   "source": [
    "model.resize_token_embeddings(len(tokenizer))"
   ]
  },
  {
   "cell_type": "code",
   "execution_count": null,
   "metadata": {
    "id": "-Z4l1eHZGGI1"
   },
   "outputs": [],
   "source": [
    "model.config.pad_token_id = tokenizer.pad_token_id"
   ]
  },
  {
   "cell_type": "code",
   "execution_count": null,
   "metadata": {
    "id": "N3HeIk5kLWdF"
   },
   "outputs": [],
   "source": [
    "X_train, X_val, y_train, y_val = train_test_split(X, y, test_size=0.1, random_state = 42, stratify =y)"
   ]
  },
  {
   "cell_type": "code",
   "execution_count": null,
   "metadata": {
    "id": "66e9ownjLthJ"
   },
   "outputs": [],
   "source": [
    "class CustomDataset(Dataset):\n",
    "    def __init__(self, X, y, tokenizer):\n",
    "        super().__init__()\n",
    "        self.X = X\n",
    "        self.y = y\n",
    "        self.tokenizer = tokenizer\n",
    "\n",
    "    def __len__(self):\n",
    "        return len(self.X)\n",
    "    def __getitem__(self, idx):\n",
    "        text = self.X.iloc[idx]\n",
    "        #text = self.text.iloc[idx]\n",
    "        label = self.y.iloc[idx]\n",
    "        output = self.tokenizer(\n",
    "            text,\n",
    "            max_length=512,\n",
    "            padding='max_length',\n",
    "            truncation=True\n",
    "            #return_tensors=\"pt\"\n",
    "        )\n",
    "\n",
    "        #one_hot_labels = torch.nn.functional.one_hot(label - 1, num_classes=10)\n",
    "        output[\"label\"]= torch.tensor(label)\n",
    "        return output"
   ]
  },
  {
   "cell_type": "code",
   "execution_count": null,
   "metadata": {
    "id": "3wDWMGSncDYJ"
   },
   "outputs": [],
   "source": [
    "tokenized_train = CustomDataset(X_train, y_train, tokenizer)\n",
    "tokenized_val = CustomDataset(X_val, y_val, tokenizer)"
   ]
  },
  {
   "cell_type": "code",
   "execution_count": null,
   "metadata": {
    "id": "9cPG95GILv-8"
   },
   "outputs": [],
   "source": [
    "data_collator = DataCollatorWithPadding(tokenizer=tokenizer)"
   ]
  },
  {
   "cell_type": "code",
   "execution_count": null,
   "metadata": {
    "id": "gwk4YEOrYdqW"
   },
   "outputs": [],
   "source": [
    "train_dataloader = DataLoader(\n",
    "    CustomDataset(\n",
    "        X = X_train,\n",
    "        y = y_train,\n",
    "        tokenizer = tokenizer),\n",
    "    collate_fn=data_collator,\n",
    "    batch_size=32,\n",
    "    shuffle=True\n",
    ")"
   ]
  },
  {
   "cell_type": "code",
   "execution_count": null,
   "metadata": {
    "colab": {
     "base_uri": "https://localhost:8080/",
     "height": 81,
     "referenced_widgets": [
      "2cadd92c51044966869bd736caabbd59",
      "f49c98159f3b41e98c4bcb64f5aa3651",
      "7440cb5d074342919dc3b8584642640b",
      "60879af591944eacbb34dbc9ad7a82ee",
      "7fee6040d53c42608f1dfc8d2a8ea38b",
      "c896977dbf36479eaace2fcdfeb4af29",
      "83a8676beb274c80bf7b87efa32e0ae6",
      "e2f22659fa4749a9be41e5f5407af9f2",
      "1cac4a558d6e42ad9cef4cb7a914140a",
      "c4591bbfe6454e46bced19e7936801b6",
      "2a30cd5daa084b6b826a1c597cbc1bd4",
      "b947e6b268304a55a8c74704b2bccba1",
      "71722d785c2c457da96c67d448b9c808",
      "d8d8ee2eb91e419c9c0ba25e0266d490",
      "20b94b14e92f4305b6d425961b9c9401",
      "63ed15fc395042fb991dcc193b496baa",
      "823ecbd9d49f42ecbc7eee86b767fdbb",
      "061644cacaba438083047cf8457f2134",
      "e6386349b15d4593b8d1f044548395ce",
      "238ffd039a514b4e91b0f4beb9365251",
      "4df4ebb191144f97847c71a21aeaf4f3",
      "9361a20dffc24e04aaf9069cebec646d"
     ]
    },
    "executionInfo": {
     "elapsed": 775,
     "status": "ok",
     "timestamp": 1747642004710,
     "user": {
      "displayName": "Татьяна Бушуева",
      "userId": "14369899420098124992"
     },
     "user_tz": -180
    },
    "id": "-sGHMaT84Cvt",
    "outputId": "f95a3d10-df05-4e5d-f755-c15ff5bec6c0"
   },
   "outputs": [],
   "source": [
    "f1_metric = evaluate.load(\"f1\")\n",
    "accuracy_metric = evaluate.load(\"accuracy\")"
   ]
  },
  {
   "cell_type": "code",
   "execution_count": null,
   "metadata": {
    "id": "ja3Zky2B67GH"
   },
   "outputs": [],
   "source": [
    "def compute_metrics(eval_pred):\n",
    "    logits, labels = eval_pred\n",
    "    logits = torch.from_numpy(logits)\n",
    "    labels = torch.from_numpy(labels)\n",
    "    if torch.isnan(logits).any() or torch.isinf(logits).any():\n",
    "        print(\"Warning: NaN or inf values detected in logits.\")\n",
    "    predictions = np.argmax(logits, axis=-1)\n",
    "    global f1_metric, accuracy_metric\n",
    "    f1 = f1_metric.compute(predictions=predictions, references=labels, average='weighted')['f1']\n",
    "    accuracy = accuracy_metric.compute(predictions=predictions, references=labels)['accuracy']\n",
    "    return {\"accuracy\": accuracy,'f1_score': f1}\n"
   ]
  },
  {
   "cell_type": "code",
   "execution_count": null,
   "metadata": {
    "colab": {
     "base_uri": "https://localhost:8080/"
    },
    "executionInfo": {
     "elapsed": 24,
     "status": "ok",
     "timestamp": 1747642004743,
     "user": {
      "displayName": "Татьяна Бушуева",
      "userId": "14369899420098124992"
     },
     "user_tz": -180
    },
    "id": "rYIOpfvJ7bCI",
    "outputId": "faf9af9d-b31b-46b2-a793-ad14bec9bae2"
   },
   "outputs": [],
   "source": [
    "training_args = TrainingArguments(\n",
    "    output_dir=\"//content/drive/MyDrive/finetuning_mistral_LORA5/\",\n",
    "    per_device_train_batch_size= 4,\n",
    "    per_device_eval_batch_size = 4,\n",
    "    eval_accumulation_steps=100,\n",
    "    learning_rate=1e-4,\n",
    "\t  num_train_epochs=5,\n",
    "    gradient_accumulation_steps=2,\n",
    "    warmup_ratio=0.1,\n",
    "    weight_decay=0.01,\n",
    "    logging_strategy=\"steps\",\n",
    "    logging_steps=100,\n",
    "    evaluation_strategy=\"steps\",\n",
    "    save_strategy=\"steps\",\n",
    "    save_total_limit=2,\n",
    "    optim=\"adamw_bnb_8bit\",\n",
    "    load_best_model_at_end=True,\n",
    "    metric_for_best_model=\"accuracy\")"
   ]
  },
  {
   "cell_type": "code",
   "execution_count": null,
   "metadata": {
    "colab": {
     "base_uri": "https://localhost:8080/"
    },
    "executionInfo": {
     "elapsed": 193,
     "status": "ok",
     "timestamp": 1747642032346,
     "user": {
      "displayName": "Татьяна Бушуева",
      "userId": "14369899420098124992"
     },
     "user_tz": -180
    },
    "id": "swTkxj5DMAP1",
    "outputId": "26e15058-fd47-45e0-8867-28ccf2bd8d7b"
   },
   "outputs": [],
   "source": [
    "# **PEFT configuration (LoRA)**\n",
    "peft_config = LoraConfig(\n",
    "    r=16,  # Rank of the LoRA update matrices\n",
    "    lora_alpha=16,  # Scaling factor for the LoRA update matrices\n",
    "    lora_dropout=0.2,  # Dropout probability for the LoRA update matrices\n",
    "    bias=\"lora_only\",\n",
    "    modules_to_save=[\"decode_head\"],\n",
    "    task_type=\"SEQ_CLS\" ) # Task type for sequence classification\n",
    "\n",
    "# **Wrap the model with PEFT**\n",
    "lora_model = get_peft_model(model, peft_config)\n",
    "lora_model.print_trainable_parameters()"
   ]
  },
  {
   "cell_type": "code",
   "execution_count": null,
   "metadata": {
    "id": "MbRhmgH3MCT3"
   },
   "outputs": [],
   "source": [
    "trainer = Trainer(\n",
    "    lora_model,\n",
    "    args=training_args,\n",
    "    train_dataset=CustomDataset(X_train, y_train, tokenizer=tokenizer),  # Use the Dataset object\n",
    "    eval_dataset=CustomDataset(X_val, y_val, tokenizer=tokenizer),  # Use the Dataset object\n",
    "    compute_metrics=compute_metrics,\n",
    "    data_collator=data_collator,\n",
    "    callbacks=[EarlyStoppingCallback(3, 0.0)]\n",
    ")"
   ]
  },
  {
   "cell_type": "code",
   "execution_count": null,
   "metadata": {
    "id": "kWrmVXFPp0Il"
   },
   "outputs": [],
   "source": [
    "torch.cuda.empty_cache()"
   ]
  },
  {
   "cell_type": "code",
   "execution_count": null,
   "metadata": {
    "colab": {
     "base_uri": "https://localhost:8080/",
     "height": 1000
    },
    "executionInfo": {
     "elapsed": 3710706,
     "status": "ok",
     "timestamp": 1747645749060,
     "user": {
      "displayName": "Татьяна Бушуева",
      "userId": "14369899420098124992"
     },
     "user_tz": -180
    },
    "id": "68Vp4J3xME37",
    "outputId": "4d484785-f91b-4323-eae0-717e696233c0"
   },
   "outputs": [],
   "source": [
    "trainer.train()"
   ]
  },
  {
   "cell_type": "code",
   "execution_count": null,
   "metadata": {
    "colab": {
     "base_uri": "https://localhost:8080/",
     "height": 17
    },
    "executionInfo": {
     "elapsed": 89010,
     "status": "ok",
     "timestamp": 1747645959215,
     "user": {
      "displayName": "Татьяна Бушуева",
      "userId": "14369899420098124992"
     },
     "user_tz": -180
    },
    "id": "foE1daNXnmLv",
    "outputId": "5967e4e0-aaa7-4bcb-c3f0-fc8c19e09689"
   },
   "outputs": [],
   "source": [
    "test = trainer.predict(CustomDataset(X_test, y_test, tokenizer=tokenizer))"
   ]
  },
  {
   "cell_type": "code",
   "execution_count": null,
   "metadata": {
    "colab": {
     "base_uri": "https://localhost:8080/"
    },
    "executionInfo": {
     "elapsed": 6,
     "status": "ok",
     "timestamp": 1747645959223,
     "user": {
      "displayName": "Татьяна Бушуева",
      "userId": "14369899420098124992"
     },
     "user_tz": -180
    },
    "id": "cI6HfuySpDJC",
    "outputId": "54692618-5d43-4ea0-828a-f66cf75b74a3"
   },
   "outputs": [],
   "source": [
    "test[2]"
   ]
  },
  {
   "cell_type": "code",
   "execution_count": null,
   "metadata": {
    "colab": {
     "base_uri": "https://localhost:8080/"
    },
    "executionInfo": {
     "elapsed": 4417,
     "status": "ok",
     "timestamp": 1747645963641,
     "user": {
      "displayName": "Татьяна Бушуева",
      "userId": "14369899420098124992"
     },
     "user_tz": -180
    },
    "id": "yUCUI13oij90",
    "outputId": "340e8a40-3200-4245-d8a9-ac31fb66440d"
   },
   "outputs": [],
   "source": [
    "model_id = \"//content/drive/MyDrive/finetuning_mistral_LORA4/mistral_with_lora\"\n",
    "lora_model.save_pretrained(model_id)"
   ]
  },
  {
   "cell_type": "code",
   "execution_count": null,
   "metadata": {
    "colab": {
     "base_uri": "https://localhost:8080/",
     "height": 504
    },
    "executionInfo": {
     "elapsed": 315,
     "status": "ok",
     "timestamp": 1747645963969,
     "user": {
      "displayName": "Татьяна Бушуева",
      "userId": "14369899420098124992"
     },
     "user_tz": -180
    },
    "id": "EADiQPxD3f_i",
    "outputId": "09352fa4-e11d-4615-c770-b4bee9304d73"
   },
   "outputs": [],
   "source": [
    "import matplotlib.pyplot as plt\n",
    "\n",
    "# Извлекаем историю логирования\n",
    "log_history = trainer.state.log_history\n",
    "\n",
    "# Списки для тренировочной и валидационной потерь и соответствующих шагов\n",
    "train_steps, train_losses = [], []\n",
    "eval_steps, eval_losses = [], []\n",
    "\n",
    "for entry in log_history:\n",
    "    # Тренировочная потеря\n",
    "    if \"loss\" in entry:\n",
    "        # Используем шаг обучения, если он есть, иначе порядковый номер\n",
    "        train_steps.append(entry.get(\"step\", len(train_steps) + 1))\n",
    "        train_losses.append(entry[\"loss\"])\n",
    "    # Валидационная потеря\n",
    "    if \"eval_loss\" in entry:\n",
    "        eval_steps.append(entry.get(\"step\", len(eval_steps) + 1))\n",
    "        eval_losses.append(entry[\"eval_loss\"])\n",
    "\n",
    "# Построение графика\n",
    "plt.figure(figsize=(10, 5))\n",
    "plt.plot(train_steps, train_losses, marker=\"o\", label=\"Training Loss\")\n",
    "plt.plot(eval_steps, eval_losses, marker=\"o\", label=\"Validation Loss\")\n",
    "plt.xlabel(\"Шаг обучения\")\n",
    "plt.ylabel(\"Потеря\")\n",
    "plt.title(\"График тренировочной и валидационной потери\")\n",
    "plt.legend()\n",
    "plt.grid(True)\n",
    "plt.show()\n",
    "plt.savefig('mistral_train_val.png')"
   ]
  },
  {
   "cell_type": "code",
   "execution_count": null,
   "metadata": {
    "id": "QA1cxNYZbEBc"
   },
   "outputs": [],
   "source": [
    "y_pred = np.argmax(test[0],axis=1)"
   ]
  },
  {
   "cell_type": "code",
   "execution_count": null,
   "metadata": {
    "colab": {
     "base_uri": "https://localhost:8080/",
     "height": 624
    },
    "executionInfo": {
     "elapsed": 282,
     "status": "ok",
     "timestamp": 1747646004435,
     "user": {
      "displayName": "Татьяна Бушуева",
      "userId": "14369899420098124992"
     },
     "user_tz": -180
    },
    "id": "F60WbkYnbLyz",
    "outputId": "47077336-427a-4025-8f0e-5e2f43928f95"
   },
   "outputs": [],
   "source": [
    "from sklearn.metrics import confusion_matrix\n",
    "from matplotlib import pyplot as plt\n",
    "cm = confusion_matrix(y_test, y_pred, labels=np.unique(y_test))\n",
    "\n",
    "fig, ax = plt.subplots(figsize=(6,6))\n",
    "im = ax.imshow(cm, interpolation='nearest', aspect='auto')\n",
    "unique_labels = np.unique(y_test).astype(int)\n",
    "ax.set_xticks(range(9))\n",
    "ax.set_yticks(range(9))\n",
    "ax.set_xticklabels(unique_labels, rotation=45)\n",
    "ax.set_yticklabels(unique_labels)\n",
    "ax.set_ylabel('Истинный класс')\n",
    "ax.set_xlabel('Предсказанный класс')\n",
    "fig.colorbar(im, ax=ax)\n",
    "plt.tight_layout()\n",
    "plt.show()\n",
    "plt.savefig('mistral_matrix.png')"
   ]
  },
  {
   "cell_type": "code",
   "execution_count": null,
   "metadata": {
    "colab": {
     "base_uri": "https://localhost:8080/"
    },
    "executionInfo": {
     "elapsed": 30,
     "status": "ok",
     "timestamp": 1747646007852,
     "user": {
      "displayName": "Татьяна Бушуева",
      "userId": "14369899420098124992"
     },
     "user_tz": -180
    },
    "id": "ZK9HPwH4bYTm",
    "outputId": "382827f8-3976-4637-a18b-121b9e5461d7"
   },
   "outputs": [],
   "source": [
    "import numpy as np\n",
    "import pandas as pd\n",
    "import matplotlib.pyplot as plt\n",
    "from sklearn.metrics import f1_score\n",
    "\n",
    "# y_true, y_pred — ваши реальные и предсказанные метки, оба одномерных np.array\n",
    "\n",
    "# Сначала получим список всех классов\n",
    "classes = np.unique(y_test)\n",
    "\n",
    "# 1) F1-score по классам\n",
    "f1_per_class = f1_score(y_test, y_pred, labels=classes, average=None, zero_division=0)\n",
    "\n",
    "# 2) «Точность по классу» как доля правильно предсказанных среди всех примеров этого класса\n",
    "#    (этот показатель в мультиклассе эквивалентен recall для данного класса)\n",
    "accuracy_per_class = np.array([\n",
    "    np.mean(y_pred[y_test == cls] == cls)\n",
    "    for cls in classes\n",
    "])\n",
    "\n",
    "# 3) Собираем всё в DataFrame\n",
    "df = pd.DataFrame({\n",
    "    'class': classes.astype(str),\n",
    "    'accuracy': accuracy_per_class,\n",
    "    'f1_score': f1_per_class\n",
    "}).set_index('class')\n",
    "\n",
    "print(df)"
   ]
  }
 ],
 "metadata": {
  "accelerator": "GPU",
  "colab": {
   "authorship_tag": "ABX9TyNagSAiQqdPoujCSxJZIgRr",
   "gpuType": "A100",
   "machine_shape": "hm",
   "mount_file_id": "1uaiImBFjIuNUKU94pZu11Kz21jy-o2TH",
   "provenance": []
  },
  "kernelspec": {
   "display_name": "Python 3",
   "name": "python3"
  },
  "language_info": {
   "name": "python"
  }
 },
 "nbformat": 4,
 "nbformat_minor": 0
}
