{
 "cells": [
  {
   "cell_type": "code",
   "execution_count": null,
   "metadata": {
    "id": "cu8JEgOw44k1"
   },
   "outputs": [],
   "source": [
    "import pandas as pd\n",
    "import numpy as np\n",
    "import re\n",
    "import emoji\n",
    "from sklearn.metrics import balanced_accuracy_score, accuracy_score, f1_score\n",
    "import evaluate\n",
    "import os\n",
    "import transformers\n",
    "import torch\n",
    "from sklearn.model_selection import train_test_split\n",
    "from torch.utils.data import Dataset, DataLoader\n",
    "from datasets import load_dataset\n",
    "from transformers import DataCollatorWithPadding\n",
    "from transformers import (\n",
    "    AutoTokenizer,\n",
    "    TrainingArguments,\n",
    "    AutoModelForSequenceClassification,\n",
    "    Trainer,\n",
    "    BitsAndBytesConfig,\n",
    "    EarlyStoppingCallback\n",
    ")\n",
    "from peft import LoraConfig, get_peft_model,PeftModel"
   ]
  },
  {
   "cell_type": "code",
   "execution_count": null,
   "metadata": {
    "id": "qus9P09uAxQs"
   },
   "outputs": [],
   "source": [
    "data_train = pd.read_csv('/content/drive/MyDrive/Znatno_personal/Отчетность ВКР/Артефакты/Parsing_avito/Model for benchmark/data/train - train (3).csv')"
   ]
  },
  {
   "cell_type": "code",
   "execution_count": null,
   "metadata": {
    "id": "B00uMX3nBAOy"
   },
   "outputs": [],
   "source": [
    "data_test = pd.read_csv('/content/drive/MyDrive/Znatno_personal/Отчетность ВКР/Артефакты/Parsing_avito/Model for benchmark/data/test_data.csv')"
   ]
  },
  {
   "cell_type": "code",
   "execution_count": null,
   "metadata": {
    "id": "hGyTQxerB3WK"
   },
   "outputs": [],
   "source": [
    "X = data_train['message.text']\n",
    "y = data_train['Оценка']\n",
    "X_test = data_test['message.text']\n",
    "y_test = data_test['Оценка']"
   ]
  },
  {
   "cell_type": "markdown",
   "metadata": {
    "id": "dgENoTz9DLcy"
   },
   "source": [
    "# Предобработка"
   ]
  },
  {
   "cell_type": "code",
   "execution_count": null,
   "metadata": {
    "id": "xOZeMRd6DOAE"
   },
   "outputs": [],
   "source": [
    "def convert_emojis_to_words(text):\n",
    "\n",
    "    # Convert emojis to words\n",
    "    text = emoji.demojize(text, delimiters=(\" \", \" \"))\n",
    "\n",
    "    # Remove the : from the words and replace _ with space\n",
    "    text = text.replace(\":\", \" \").replace(\"_\", \" \")\n",
    "\n",
    "    return text"
   ]
  },
  {
   "cell_type": "code",
   "execution_count": null,
   "metadata": {
    "id": "UREfljpCDVpq"
   },
   "outputs": [],
   "source": [
    "symbols_pattern = re.compile(pattern = \"[\"\n",
    "    \"@_!#$%^&*()<>?/\\|}{~√•—\"\n",
    "                       \"]+\", flags = re.UNICODE) #спецсимволы\n",
    "# двойные пробелы\n",
    "space_pattern = re.compile('\\s+')\n",
    "#exclude = set(string.punctuation) # удаление пунктуации\n",
    "def clear_text(text):\n",
    "    \"\"\" Функция удаления спецсимволов\"\"\"\n",
    "    # удаление спецсимволов и emoji\n",
    "    pre = symbols_pattern.sub(r'',text)\n",
    "    pre = re.sub(r'http\\S+', '', pre)\n",
    "    pre = convert_emojis_to_words(pre)\n",
    "\n",
    "\n",
    "    return space_pattern.sub(' ', pre)"
   ]
  },
  {
   "cell_type": "code",
   "execution_count": null,
   "metadata": {
    "id": "HCqn4qyHDPUs"
   },
   "outputs": [],
   "source": [
    "def preprocess_text(text):\n",
    "    \"\"\" Финальная функция для обработки \"\"\"\n",
    "    # srip + lower + punctuation\n",
    "    sentence = (\n",
    "        ''.join([x for x in str(text).strip().lower()])\n",
    "    )\n",
    "\n",
    "    return clear_text(sentence)"
   ]
  },
  {
   "cell_type": "code",
   "execution_count": null,
   "metadata": {
    "id": "JLxGmi0_EcY7"
   },
   "outputs": [],
   "source": [
    "X = X.apply(preprocess_text)"
   ]
  },
  {
   "cell_type": "code",
   "execution_count": null,
   "metadata": {
    "id": "LxYtEOhMHWvE"
   },
   "outputs": [],
   "source": [
    "X_test = X_test.apply(preprocess_text)"
   ]
  },
  {
   "cell_type": "markdown",
   "metadata": {
    "id": "thhRmqXtR4B4"
   },
   "source": [
    "# Обучение модели"
   ]
  },
  {
   "cell_type": "code",
   "execution_count": null,
   "metadata": {
    "colab": {
     "base_uri": "https://localhost:8080/"
    },
    "executionInfo": {
     "elapsed": 26783,
     "status": "ok",
     "timestamp": 1747562199864,
     "user": {
      "displayName": "Татьяна Бушуева",
      "userId": "14369899420098124992"
     },
     "user_tz": -180
    },
    "id": "eN1vaWItLYlB",
    "outputId": "2d51cd23-be17-4909-dc8c-04f7e4ded56d"
   },
   "outputs": [],
   "source": [
    "!huggingface-cli login"
   ]
  },
  {
   "cell_type": "code",
   "execution_count": null,
   "metadata": {
    "id": "vfLJAqjnLaX1"
   },
   "outputs": [],
   "source": [
    "quantization_config = BitsAndBytesConfig(load_in_8bit=True)"
   ]
  },
  {
   "cell_type": "code",
   "execution_count": null,
   "metadata": {
    "colab": {
     "base_uri": "https://localhost:8080/",
     "height": 505,
     "referenced_widgets": [
      "2a4c1d18069241d0bb7d2b6dd1686de0",
      "d3d94d8777574f0dad669cbb9aee0707",
      "fd11ce06cfb94c33a735fe8ad162b661",
      "780831072dd84dfb9c8cee87293e9eb3",
      "32ace203fda84b32b22e749df6df0386",
      "aa06e25b97ab4eef8568652f71e66a9f",
      "e7a09d06010b437bb46894d521096335",
      "db86c350b0704a96b756351f71a39832",
      "607a9ec79ec545b58f794b085fa01984",
      "398c7aa525a0477e964dd624398bc77d",
      "fd7ffd8e50524bc0870efbaec92ef774",
      "410e56a2a4b7484d9b5568aaf2d64e8c",
      "92788ac2d9a84a17b1d82ac2d1d1bb3f",
      "27ba6047dfe249dfb3f31c449229435e",
      "7c3ecc971ecc4d55989b288b423a8d35",
      "db2e2ee1374745f8b155bb5547d2e453",
      "260d1f53e5d5494b8572d163dc5bc53f",
      "c2e4ce7c6fc94032b8cb363be7c14095",
      "4beded531b5340b18e3139c07cca1d33",
      "4c80e6e1928140b88817213ccb675da6",
      "0c621603544d466e9cc1edfb9f2802ff",
      "b422e1397fab4fd7961b7b773f2d2433",
      "38b3d3c07e4b4802b2a47d4231664249",
      "d8ffbf31b38541ecb37426f1f45a3791",
      "2d6760452e874accba35e3433ba64f91",
      "854514afbea54fb4b35aed36f15a7fe8",
      "1a47166bcd144d0d937ce7a315162ce4",
      "bf35ee788e2b46a48ebca1faa5e98113",
      "23a87236f3de4748a48abdbd20819ebf",
      "a14d50b920cf477cb7ec5063c6d21e3f",
      "aa65beedc51d4c12ab76fa202ca62d44",
      "c73949c5f3b74a88980e83a09f82b26d",
      "bf0b719542d146ec9c89257d8282ba00",
      "7844da405369441cb987e4d0a2b666cd",
      "6b17c4e5ac05486a9fbeebe3671175af",
      "d119a44486f443c88491e88c394be40a",
      "48a04b94232540308549056cb8a9aa4a",
      "5d34afde1da8475983a13bff14620a3f",
      "2863acfda98b4f71bea3c0c13b078542",
      "03e9aec4e70244c28886ef6f4dc6e7ae",
      "d918590cf2b544e0b18b98757b723e17",
      "67f9821aa0f14855b156ebb8bf82d5df",
      "e57645037f864b0c873a38e391812a9a",
      "370edfe319884c85bde6c31ebdd540ac",
      "abadc0cc78f242e0a99a42bb0a53be6c",
      "b8771466dd6949a9a64959ebefee4aae",
      "9e4268731b064a9eb4895be9870fcf93",
      "4fce5e2697c948d18baea413c6e2d783",
      "173c344a9ebe4894959f2b7b6080717d",
      "217d4c7a9ab3406c913ab7a2101f4278",
      "cb1fd60bb24c4e6d94699d617de4441c",
      "9f5cbac102ac4b1a80e771ea90187070",
      "ab2d73ec1aa84d8183750b0973384afa",
      "044799989598441388dabb357ad35697",
      "887417cc001a43a1b93d12bad6082ae6",
      "7d1b45e2ff004239a522cb5051262458",
      "12cd171342f04c119999fc2f6b35e6fb",
      "9caf49fe13f149a38cb7d6b90274f410",
      "63930672c8ff4d199954af51afab76bd",
      "19c292fe19e14c95956bc69e93b163f5",
      "e841c8f949a04d54b6da1f1b78150749",
      "3279ecd1acfc4c58ba43f6f75d89ede2",
      "170247d59fd04a86a3733cf98e3db3f6",
      "6a33867b3a1449af97ec1fb83f066e96",
      "5f8c4b1598d142b7b9048492a66a830b",
      "09eacac0283d4a5b932b618140bdb878",
      "a900806da5be4d62946fabfe7695d3da",
      "6761c2ec47254635ad34d6a43e6deffc",
      "a5eadb2260a54e0984cb17501cc0ebac",
      "f7e16efc2d2d466fa96924c26afe4a16",
      "92d0631ab38e4f3f871e93b27aa12e60",
      "f0e5da0c35c048eb8ecdb404fb921113",
      "a396cdd540b446a2a5332143f053334f",
      "bf69af04499c48628706c1f9c5b652d0",
      "03fb056731c94d0bb85fb1a1cbf2a856",
      "4501b8b20acc4323bd08250941ddebef",
      "10bea77ad33b4369a2d6e6e42b06f917",
      "ea36e7c40a8c4a5faaa261b25712591a",
      "a4d6b184a8d34f08b11da4036e8a98de",
      "28545ae310864b55adaecad225309544",
      "490e334108f74d5a958c29b2b3f4bd5e",
      "cf8ba226833d4bffa2498725cd113e48",
      "f09402e19da84fef847dcbb04e190d47",
      "736916570fb741848ca1317106a30d98",
      "9ec0e01ac5ef4ebea609c3c38cbcf41a",
      "fca80e45b94f4dc6a15e469850f05edf",
      "cdfffdab95584dfa997d185f7566408f",
      "da3c836d541148459a30f4fd8e393222"
     ]
    },
    "executionInfo": {
     "elapsed": 73502,
     "status": "ok",
     "timestamp": 1747562273372,
     "user": {
      "displayName": "Татьяна Бушуева",
      "userId": "14369899420098124992"
     },
     "user_tz": -180
    },
    "id": "aZ0geLjotnP8",
    "outputId": "5d91c946-32fd-432f-b011-0e6d726257f9"
   },
   "outputs": [],
   "source": [
    "tokenizer = AutoTokenizer.from_pretrained(\"deepseek-ai/DeepSeek-R1-Distill-Qwen-7B\")\n",
    "model = AutoModelForSequenceClassification.from_pretrained(\"deepseek-ai/DeepSeek-R1-Distill-Qwen-7B\", quantization_config=quantization_config, num_labels = 9)"
   ]
  },
  {
   "cell_type": "code",
   "execution_count": null,
   "metadata": {
    "colab": {
     "base_uri": "https://localhost:8080/"
    },
    "executionInfo": {
     "elapsed": 7,
     "status": "ok",
     "timestamp": 1747562273381,
     "user": {
      "displayName": "Татьяна Бушуева",
      "userId": "14369899420098124992"
     },
     "user_tz": -180
    },
    "id": "6kvrAeHtLag8",
    "outputId": "1ba822bb-76d9-49f5-f257-8ba1fd287c4b"
   },
   "outputs": [],
   "source": [
    "tokenizer.add_special_tokens({'pad_token': '[PAD]'})"
   ]
  },
  {
   "cell_type": "code",
   "execution_count": null,
   "metadata": {
    "colab": {
     "base_uri": "https://localhost:8080/"
    },
    "executionInfo": {
     "elapsed": 21,
     "status": "ok",
     "timestamp": 1747562273411,
     "user": {
      "displayName": "Татьяна Бушуева",
      "userId": "14369899420098124992"
     },
     "user_tz": -180
    },
    "id": "c_6a8Y2lTLMk",
    "outputId": "3b3b4d95-2c39-4dcb-92a2-00607cfef10c"
   },
   "outputs": [],
   "source": [
    "model.resize_token_embeddings(len(tokenizer))"
   ]
  },
  {
   "cell_type": "code",
   "execution_count": null,
   "metadata": {
    "id": "-Z4l1eHZGGI1"
   },
   "outputs": [],
   "source": [
    "model.config.pad_token_id = tokenizer.pad_token_id"
   ]
  },
  {
   "cell_type": "code",
   "execution_count": null,
   "metadata": {
    "id": "N3HeIk5kLWdF"
   },
   "outputs": [],
   "source": [
    "X_train, X_val, y_train, y_val = train_test_split(X, y, test_size=0.1, random_state = 42, stratify =y)"
   ]
  },
  {
   "cell_type": "code",
   "execution_count": null,
   "metadata": {
    "id": "66e9ownjLthJ"
   },
   "outputs": [],
   "source": [
    "class CustomDataset(Dataset):\n",
    "    def __init__(self, X, y, tokenizer):\n",
    "        super().__init__()\n",
    "        self.X = X\n",
    "        self.y = y\n",
    "        self.tokenizer = tokenizer\n",
    "\n",
    "    def __len__(self):\n",
    "        return len(self.X)\n",
    "    def __getitem__(self, idx):\n",
    "        text = self.X.iloc[idx]\n",
    "        #text = self.text.iloc[idx]\n",
    "        label = self.y.iloc[idx]\n",
    "        output = self.tokenizer(\n",
    "            text,\n",
    "            max_length=512,\n",
    "            padding='max_length',\n",
    "            truncation=True\n",
    "            #return_tensors=\"pt\"\n",
    "        )\n",
    "\n",
    "        #one_hot_labels = torch.nn.functional.one_hot(label - 1, num_classes=10)\n",
    "        output[\"label\"]= torch.tensor(label)\n",
    "        return output"
   ]
  },
  {
   "cell_type": "code",
   "execution_count": null,
   "metadata": {
    "id": "3wDWMGSncDYJ"
   },
   "outputs": [],
   "source": [
    "tokenized_train = CustomDataset(X_train, y_train, tokenizer)\n",
    "tokenized_val = CustomDataset(X_val, y_val, tokenizer)"
   ]
  },
  {
   "cell_type": "code",
   "execution_count": null,
   "metadata": {
    "id": "9cPG95GILv-8"
   },
   "outputs": [],
   "source": [
    "data_collator = DataCollatorWithPadding(tokenizer=tokenizer)"
   ]
  },
  {
   "cell_type": "code",
   "execution_count": null,
   "metadata": {
    "id": "gwk4YEOrYdqW"
   },
   "outputs": [],
   "source": [
    "train_dataloader = DataLoader(\n",
    "    CustomDataset(\n",
    "        X = X_train,\n",
    "        y = y_train,\n",
    "        tokenizer = tokenizer),\n",
    "    collate_fn=data_collator,\n",
    "    batch_size=32,\n",
    "    shuffle=True\n",
    ")"
   ]
  },
  {
   "cell_type": "code",
   "execution_count": null,
   "metadata": {
    "colab": {
     "base_uri": "https://localhost:8080/",
     "height": 81,
     "referenced_widgets": [
      "9e7985fcc5484400bf5a3dc08df8b2bf",
      "b31b95fb54374d63b60ef4414fffabc7",
      "ec0f96456d5142f799b40cd972c9e8ff",
      "bcd95d6b715c4de897159b314b782861",
      "7c0690df763c421c9330098336e26878",
      "5dbeb94bb2114421a27ad48a33c03d50",
      "a066b52781a442bab863fc72cf4ac8c5",
      "d7fbf85f06c7402195f659bfe01c0bf3",
      "8d153df06454461fa46c87450173b51e",
      "851afd740b4a4101b7ce9835af175d70",
      "b82c4305c25943f0a63abba2aae72ef0",
      "4ec9af78996a473b94f7dce54afc96c3",
      "e7f4154efdaf4e0f8ea943e90909f458",
      "795abce4ea3f49f5b30bde55ba975dac",
      "6451a5b7a5c6490e84c12f653353cb14",
      "2b0b51f25fe2454697e9c6da6acf3b26",
      "600eb41083954153b4e9db777cf4293a",
      "9811dcf92f1646128be0a4667c81bdaf",
      "7d63a96e71e7495d881499e026071ea8",
      "c78c22b3483a4d149330fdef3c3d97fe",
      "a12d7b14d8dd46768688f5ffdb1035f2",
      "ed0ac5b9d6234c22a6f8a406ab1c166f"
     ]
    },
    "executionInfo": {
     "elapsed": 629,
     "status": "ok",
     "timestamp": 1747562274114,
     "user": {
      "displayName": "Татьяна Бушуева",
      "userId": "14369899420098124992"
     },
     "user_tz": -180
    },
    "id": "RZfoDd7_LyVd",
    "outputId": "6ac36ac2-f338-4035-824f-ac690ed990e7"
   },
   "outputs": [],
   "source": [
    "f1_metric = evaluate.load(\"f1\")\n",
    "accuracy_metric = evaluate.load(\"accuracy\")"
   ]
  },
  {
   "cell_type": "code",
   "execution_count": null,
   "metadata": {
    "id": "ja3Zky2B67GH"
   },
   "outputs": [],
   "source": [
    "def compute_metrics(eval_pred):\n",
    "    logits, labels = eval_pred\n",
    "    logits = torch.from_numpy(logits)\n",
    "    labels = torch.from_numpy(labels)\n",
    "    if torch.isnan(logits).any() or torch.isinf(logits).any():\n",
    "        print(\"Warning: NaN or inf values detected in logits.\")\n",
    "    predictions = np.argmax(logits, axis=-1)\n",
    "    global f1_metric, accuracy_metric\n",
    "    f1 = f1_metric.compute(predictions=predictions, references=labels, average='weighted')['f1']\n",
    "    accuracy = accuracy_metric.compute(predictions=predictions, references=labels)['accuracy']\n",
    "    return {\"accuracy\": accuracy,'f1_score': f1}\n"
   ]
  },
  {
   "cell_type": "code",
   "execution_count": null,
   "metadata": {
    "colab": {
     "base_uri": "https://localhost:8080/"
    },
    "executionInfo": {
     "elapsed": 3,
     "status": "ok",
     "timestamp": 1747562274167,
     "user": {
      "displayName": "Татьяна Бушуева",
      "userId": "14369899420098124992"
     },
     "user_tz": -180
    },
    "id": "rYIOpfvJ7bCI",
    "outputId": "b166d19b-4362-49f3-b9cf-01c052947beb"
   },
   "outputs": [],
   "source": [
    "training_args = TrainingArguments(\n",
    "    output_dir=\"//content/drive/MyDrive/finetuning_dipseek_LORA/\",\n",
    "    per_device_train_batch_size= 4,\n",
    "    per_device_eval_batch_size = 4,\n",
    "    eval_accumulation_steps=100,\n",
    "    learning_rate=1e-4,\n",
    "\t  num_train_epochs=5,\n",
    "    warmup_ratio=0.1,\n",
    "    weight_decay=0.01,\n",
    "    gradient_accumulation_steps=2,\n",
    "    logging_strategy=\"steps\",\n",
    "    logging_steps=100,\n",
    "    evaluation_strategy=\"steps\",\n",
    "    save_strategy=\"steps\",\n",
    "    save_total_limit=2,\n",
    "    optim=\"adamw_bnb_8bit\",\n",
    "    load_best_model_at_end=True,\n",
    "    metric_for_best_model=\"accuracy\")\n",
    "    #report_to=\"tensorb\")"
   ]
  },
  {
   "cell_type": "code",
   "execution_count": null,
   "metadata": {
    "colab": {
     "base_uri": "https://localhost:8080/"
    },
    "executionInfo": {
     "elapsed": 125,
     "status": "ok",
     "timestamp": 1747562274295,
     "user": {
      "displayName": "Татьяна Бушуева",
      "userId": "14369899420098124992"
     },
     "user_tz": -180
    },
    "id": "swTkxj5DMAP1",
    "outputId": "eedd3328-75cf-450d-b6cc-c4ad5fe7660d"
   },
   "outputs": [],
   "source": [
    "# **PEFT configuration (LoRA)**\n",
    "peft_config = LoraConfig(\n",
    "    r=16,  # Rank of the LoRA update matrices\n",
    "    lora_alpha=32,  # Scaling factor for the LoRA update matrices\n",
    "    lora_dropout=0.01,  # Dropout probability for the LoRA update matrices\n",
    "    bias=\"none\",\n",
    "    modules_to_save=[\"decode_head\"],\n",
    "    task_type=\"SEQ_CLS\" ) # Task type for sequence classification\n",
    "\n",
    "# **Wrap the model with PEFT**\n",
    "lora_model = get_peft_model(model, peft_config)\n",
    "lora_model.print_trainable_parameters()"
   ]
  },
  {
   "cell_type": "code",
   "execution_count": null,
   "metadata": {
    "id": "MbRhmgH3MCT3"
   },
   "outputs": [],
   "source": [
    "trainer = Trainer(\n",
    "    lora_model,\n",
    "    args=training_args,\n",
    "    train_dataset=CustomDataset(X_train, y_train, tokenizer=tokenizer),  # Use the Dataset object\n",
    "    eval_dataset=CustomDataset(X_val, y_val, tokenizer=tokenizer),  # Use the Dataset object\n",
    "    compute_metrics=compute_metrics,\n",
    "    data_collator=data_collator,\n",
    "    callbacks=[EarlyStoppingCallback(3, 0.0)]\n",
    ")"
   ]
  },
  {
   "cell_type": "code",
   "execution_count": null,
   "metadata": {
    "id": "kWrmVXFPp0Il"
   },
   "outputs": [],
   "source": [
    "torch.cuda.empty_cache()"
   ]
  },
  {
   "cell_type": "code",
   "execution_count": null,
   "metadata": {
    "colab": {
     "base_uri": "https://localhost:8080/",
     "height": 1000
    },
    "executionInfo": {
     "elapsed": 2672568,
     "status": "ok",
     "timestamp": 1747564949793,
     "user": {
      "displayName": "Татьяна Бушуева",
      "userId": "14369899420098124992"
     },
     "user_tz": -180
    },
    "id": "68Vp4J3xME37",
    "outputId": "38b67f9c-213f-4cf5-a8e4-2bf3349c6997"
   },
   "outputs": [],
   "source": [
    "trainer.train()"
   ]
  },
  {
   "cell_type": "markdown",
   "metadata": {
    "id": "K1hBdmfzR8Le"
   },
   "source": [
    "# Тестирование"
   ]
  },
  {
   "cell_type": "code",
   "execution_count": null,
   "metadata": {
    "colab": {
     "base_uri": "https://localhost:8080/",
     "height": 833
    },
    "executionInfo": {
     "elapsed": 53651,
     "status": "ok",
     "timestamp": 1747565003450,
     "user": {
      "displayName": "Татьяна Бушуева",
      "userId": "14369899420098124992"
     },
     "user_tz": -180
    },
    "id": "foE1daNXnmLv",
    "outputId": "666078c8-4735-48b5-b56c-06967c8a0f21"
   },
   "outputs": [],
   "source": [
    "trainer.predict(CustomDataset(X_test, y_test, tokenizer=tokenizer))"
   ]
  },
  {
   "cell_type": "code",
   "execution_count": null,
   "metadata": {
    "colab": {
     "base_uri": "https://localhost:8080/"
    },
    "executionInfo": {
     "elapsed": 15988,
     "status": "ok",
     "timestamp": 1747565019447,
     "user": {
      "displayName": "Татьяна Бушуева",
      "userId": "14369899420098124992"
     },
     "user_tz": -180
    },
    "id": "yUCUI13oij90",
    "outputId": "82169bb7-0c9a-45b0-d2f6-87da0bb7236f"
   },
   "outputs": [],
   "source": [
    "model_id = \"//content/drive/MyDrive/finetuning_deepseek/deepseek_with_lora\"\n",
    "lora_model.save_pretrained(model_id)"
   ]
  },
  {
   "cell_type": "code",
   "execution_count": null,
   "metadata": {
    "id": "6yUaJRWeT9pL"
   },
   "outputs": [],
   "source": [
    "model_id = \"//content/drive/MyDrive/\"\n",
    "trainer.save_model()"
   ]
  },
  {
   "cell_type": "code",
   "execution_count": null,
   "metadata": {
    "id": "74fElzASAr_E"
   },
   "outputs": [],
   "source": [
    "ds_model = PeftModelForSequenceClassification.from_pretrained(model,\"//content/drive/MyDrive/finetuning_deepseek/deepseek_with_lora\")"
   ]
  },
  {
   "cell_type": "code",
   "execution_count": null,
   "metadata": {
    "colab": {
     "base_uri": "https://localhost:8080/",
     "height": 448
    },
    "executionInfo": {
     "elapsed": 210,
     "status": "ok",
     "timestamp": 1747565039325,
     "user": {
      "displayName": "Татьяна Бушуева",
      "userId": "14369899420098124992"
     },
     "user_tz": -180
    },
    "id": "EADiQPxD3f_i",
    "outputId": "7f8558ad-70bf-4eae-f820-d87bc65b5a22"
   },
   "outputs": [],
   "source": [
    "import matplotlib.pyplot as plt\n",
    "\n",
    "# Извлекаем историю логирования\n",
    "log_history = trainer.state.log_history\n",
    "\n",
    "# Списки для тренировочной и валидационной потерь и соответствующих шагов\n",
    "train_steps, train_losses = [], []\n",
    "eval_steps, eval_losses = [], []\n",
    "\n",
    "for entry in log_history:\n",
    "    # Тренировочная потеря\n",
    "    if \"loss\" in entry:\n",
    "        # Используем шаг обучения, если он есть, иначе порядковый номер\n",
    "        train_steps.append(entry.get(\"step\", len(train_steps) + 1))\n",
    "        train_losses.append(entry[\"loss\"])\n",
    "    # Валидационная потеря\n",
    "    if \"eval_loss\" in entry:\n",
    "        eval_steps.append(entry.get(\"step\", len(eval_steps) + 1))\n",
    "        eval_losses.append(entry[\"eval_loss\"])\n",
    "\n",
    "# Построение графика\n",
    "plt.figure(figsize=(10, 5))\n",
    "plt.plot(train_steps, train_losses, marker=\"o\", label=\"Training Loss\")\n",
    "plt.plot(eval_steps, eval_losses, marker=\"o\", label=\"Validation Loss\")\n",
    "plt.xlabel(\"Шаг обучения\")\n",
    "plt.ylabel(\"Потеря\")\n",
    "plt.title(\"График тренировочной и валидационной потери\")\n",
    "plt.legend()\n",
    "plt.grid(True)\n",
    "plt.show()\n",
    "plt.savefig('mistral_train_val.png')"
   ]
  },
  {
   "cell_type": "code",
   "execution_count": null,
   "metadata": {
    "colab": {
     "base_uri": "https://localhost:8080/",
     "height": 17
    },
    "executionInfo": {
     "elapsed": 53557,
     "status": "ok",
     "timestamp": 1747565092885,
     "user": {
      "displayName": "Татьяна Бушуева",
      "userId": "14369899420098124992"
     },
     "user_tz": -180
    },
    "id": "yF9QNgbkjCQb",
    "outputId": "77c8cab4-098c-4aad-8b27-699bb4c6c951"
   },
   "outputs": [],
   "source": [
    "test = trainer.predict(CustomDataset(X_test, y_test, tokenizer=tokenizer))"
   ]
  },
  {
   "cell_type": "code",
   "execution_count": null,
   "metadata": {
    "colab": {
     "base_uri": "https://localhost:8080/"
    },
    "executionInfo": {
     "elapsed": 6,
     "status": "ok",
     "timestamp": 1747565092901,
     "user": {
      "displayName": "Татьяна Бушуева",
      "userId": "14369899420098124992"
     },
     "user_tz": -180
    },
    "id": "qjWwNKKPjFRd",
    "outputId": "a7b0c864-41e2-420c-cbe7-c912d700ea91"
   },
   "outputs": [],
   "source": [
    "test[2]"
   ]
  },
  {
   "cell_type": "code",
   "execution_count": null,
   "metadata": {
    "id": "cy-K57QLjIE4"
   },
   "outputs": [],
   "source": [
    "y_pred = np.argmax(test[0],axis=1)"
   ]
  },
  {
   "cell_type": "code",
   "execution_count": null,
   "metadata": {
    "colab": {
     "base_uri": "https://localhost:8080/",
     "height": 624
    },
    "executionInfo": {
     "elapsed": 199,
     "status": "ok",
     "timestamp": 1747565093110,
     "user": {
      "displayName": "Татьяна Бушуева",
      "userId": "14369899420098124992"
     },
     "user_tz": -180
    },
    "id": "4OROCA5hjKcH",
    "outputId": "01338c51-cd43-4e7c-a724-c5ff84db9ded"
   },
   "outputs": [],
   "source": [
    "from sklearn.metrics import confusion_matrix\n",
    "from matplotlib import pyplot as plt\n",
    "cm = confusion_matrix(y_test, y_pred, labels=np.unique(y_test))\n",
    "\n",
    "fig, ax = plt.subplots(figsize=(6,6))\n",
    "im = ax.imshow(cm, interpolation='nearest', aspect='auto')\n",
    "unique_labels = np.unique(y_test).astype(int)\n",
    "ax.set_xticks(range(9))\n",
    "ax.set_yticks(range(9))\n",
    "ax.set_xticklabels(unique_labels, rotation=45)\n",
    "ax.set_yticklabels(unique_labels)\n",
    "ax.set_ylabel('Истинный класс')\n",
    "ax.set_xlabel('Предсказанный класс')\n",
    "fig.colorbar(im, ax=ax)\n",
    "plt.tight_layout()\n",
    "plt.show()\n",
    "plt.savefig('ds_matrix.png')"
   ]
  },
  {
   "cell_type": "code",
   "execution_count": null,
   "metadata": {
    "colab": {
     "base_uri": "https://localhost:8080/"
    },
    "executionInfo": {
     "elapsed": 19,
     "status": "ok",
     "timestamp": 1747565093130,
     "user": {
      "displayName": "Татьяна Бушуева",
      "userId": "14369899420098124992"
     },
     "user_tz": -180
    },
    "id": "TmIKDl3fjOA0",
    "outputId": "c39ced2e-1381-44f1-9faf-a8af07a86bfe"
   },
   "outputs": [],
   "source": [
    "import numpy as np\n",
    "import pandas as pd\n",
    "import matplotlib.pyplot as plt\n",
    "from sklearn.metrics import f1_score\n",
    "\n",
    "# y_true, y_pred — ваши реальные и предсказанные метки, оба одномерных np.array\n",
    "\n",
    "# Сначала получим список всех классов\n",
    "classes = np.unique(y_test)\n",
    "\n",
    "# 1) F1-score по классам\n",
    "f1_per_class = f1_score(y_test, y_pred, labels=classes, average=None, zero_division=0)\n",
    "\n",
    "# 2) «Точность по классу» как доля правильно предсказанных среди всех примеров этого класса\n",
    "#    (этот показатель в мультиклассе эквивалентен recall для данного класса)\n",
    "accuracy_per_class = np.array([\n",
    "    np.mean(y_pred[y_test == cls] == cls)\n",
    "    for cls in classes\n",
    "])\n",
    "\n",
    "# 3) Собираем всё в DataFrame\n",
    "df = pd.DataFrame({\n",
    "    'class': classes.astype(str),\n",
    "    'accuracy': accuracy_per_class,\n",
    "    'f1_score': f1_per_class\n",
    "}).set_index('class')\n",
    "\n",
    "print(df)"
   ]
  }
 ],
 "metadata": {
  "accelerator": "GPU",
  "colab": {
   "authorship_tag": "ABX9TyOaI9Dt24sa12NtujUUSgcl",
   "gpuType": "A100",
   "machine_shape": "hm",
   "mount_file_id": "1Kn-t6uTYYt74gjee78PXw2I_61tGJInK",
   "provenance": []
  },
  "kernelspec": {
   "display_name": "Python 3",
   "name": "python3"
  },
  "language_info": {
   "name": "python"
  }
 },
 "nbformat": 4,
 "nbformat_minor": 0
}
