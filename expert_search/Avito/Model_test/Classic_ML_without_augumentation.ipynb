{
 "cells": [
  {
   "cell_type": "markdown",
   "metadata": {
    "id": "8efZq0bzwnee"
   },
   "source": []
  },
  {
   "cell_type": "code",
   "execution_count": null,
   "metadata": {
    "id": "HSouzwDv5Zkh"
   },
   "outputs": [],
   "source": [
    "import pandas as pd\n",
    "import numpy as np\n",
    "from sklearn.model_selection import train_test_split\n",
    "import re\n",
    "import string\n",
    "import os\n",
    "import json\n",
    "from sklearn.feature_extraction.text import TfidfVectorizer\n",
    "from sklearn.linear_model import LogisticRegression\n",
    "from sklearn.pipeline import Pipeline\n",
    "import numpy as np\n",
    "from transformers import AutoTokenizer, AutoModel\n",
    "from sklearn.compose import ColumnTransformer\n",
    "from sklearn.datasets import fetch_openml\n",
    "from sklearn.feature_selection import SelectPercentile, chi2\n",
    "from sklearn.impute import SimpleImputer\n",
    "from sklearn.linear_model import LogisticRegression\n",
    "from sklearn.model_selection import RandomizedSearchCV, train_test_split\n",
    "from sklearn.pipeline import Pipeline\n",
    "from sklearn.preprocessing import OneHotEncoder, StandardScaler\n",
    "from sklearn.metrics import balanced_accuracy_score\n",
    "from sklearn.metrics import accuracy_score\n",
    "from sklearn.metrics import f1_score\n",
    "from transformers import AutoTokenizer, AutoModel\n",
    "from torch import cuda\n",
    "from tqdm import tqdm\n",
    "import numpy as np\n",
    "import torch.nn.functional as F\n",
    "import torch\n",
    "from xgboost import XGBClassifier\n",
    "import emoji\n",
    "import optuna\n",
    "from tqdm import tqdm\n",
    "np.random.seed(0)"
   ]
  },
  {
   "cell_type": "code",
   "execution_count": null,
   "metadata": {
    "id": "lxf4Qbqzk9VK"
   },
   "outputs": [],
   "source": [
    "clean_df = pd.read_csv('/content/drive/MyDrive/Znatno_personal/Отчетность ВКР/Артефакты/Parsing_avito/pure_data.csv')"
   ]
  },
  {
   "cell_type": "code",
   "execution_count": null,
   "metadata": {
    "id": "3TBvnkRid1YS"
   },
   "outputs": [],
   "source": [
    "symbols_pattern = re.compile(pattern = \"[\"\n",
    "    \"@_!#$%^&*()<>?/\\|}{~√•—\"\n",
    "                       \"]+\", flags = re.UNICODE) #спецсимволы\n",
    "# двойные пробелы\n",
    "space_pattern = re.compile('\\s+')\n",
    "#exclude = set(string.punctuation) # удаление пунктуации\n",
    "def clear_text(text):\n",
    "    \"\"\" Функция удаления спецсимволов\"\"\"\n",
    "    # удаление спецсимволов и emoji\n",
    "    pre = symbols_pattern.sub(r'',text)\n",
    "    pre1 = convert_emojis_to_words(pre)\n",
    "\n",
    "    return space_pattern.sub(' ', pre1)"
   ]
  },
  {
   "cell_type": "code",
   "execution_count": null,
   "metadata": {
    "id": "FLsxUHScd5XC"
   },
   "outputs": [],
   "source": [
    "def preprocess_text(text):\n",
    "    \"\"\" Финальная функция для обработки \"\"\"\n",
    "    # srip + lower + punctuation\n",
    "    sentence = (\n",
    "        ''.join([x for x in str(text).strip().lower()])\n",
    "    )\n",
    "\n",
    "    return clear_text(sentence)"
   ]
  },
  {
   "cell_type": "code",
   "execution_count": null,
   "metadata": {
    "id": "9itDapiKe-dT"
   },
   "outputs": [],
   "source": [
    "X = clean_df.drop(columns=['Оценка'])\n",
    "y = clean_df['Оценка']"
   ]
  },
  {
   "cell_type": "code",
   "execution_count": null,
   "metadata": {
    "id": "evclRA4ReL13"
   },
   "outputs": [],
   "source": [
    "X = X['message.text'].apply(preprocess_text)"
   ]
  },
  {
   "cell_type": "code",
   "execution_count": null,
   "metadata": {
    "id": "FrHYLinbVCOX"
   },
   "outputs": [],
   "source": [
    "X_train, X_test, y_train, y_test = train_test_split(X, y, test_size=0.2, random_state=0,shuffle=True, stratify = y)"
   ]
  },
  {
   "cell_type": "code",
   "execution_count": null,
   "metadata": {
    "colab": {
     "base_uri": "https://localhost:8080/",
     "height": 35
    },
    "executionInfo": {
     "elapsed": 7,
     "status": "ok",
     "timestamp": 1747222698566,
     "user": {
      "displayName": "Татьяна Бушуева",
      "userId": "14369899420098124992"
     },
     "user_tz": -180
    },
    "id": "42-Sh9T0OAbw",
    "outputId": "a2b5eeca-7c4d-40ec-f393-91f8c8846c16"
   },
   "outputs": [],
   "source": [
    "device = 'cuda' if cuda.is_available() else 'cpu'\n",
    "device"
   ]
  },
  {
   "cell_type": "markdown",
   "metadata": {
    "id": "enlhHvXT6yw2"
   },
   "source": [
    "# **Multilingual-e5-large-instruct**"
   ]
  },
  {
   "cell_type": "code",
   "execution_count": null,
   "metadata": {
    "colab": {
     "base_uri": "https://localhost:8080/",
     "height": 1000,
     "referenced_widgets": [
      "48879f70e3d04cefbaac537c38607886",
      "d74e8904da9045d8b3cfa7869cb0d4e4",
      "2dca61c9c4ff4063ae00137876d0b5ac",
      "4400112659eb4ed0880aed230d0dc3af",
      "ca845bf855e449b28d1fd52e1361bab6",
      "711844e34a074f448c18f503d5e8c40b",
      "ea23b7ab782845858554f02710fe7170",
      "4e79daf4753f42348defe659ab54efd2",
      "89dded8ad65348ac9169805a8507cd65",
      "04c4d7e2832b4bf585d2fc120d11f399",
      "3e726695115847098abd97dc2b545fd1",
      "ed0a832e54ba4609af8c0a72e33a4bcc",
      "d2f16f7d9195439abddfdffa1056a566",
      "a662a0db392e4f4baa762243d5c8e7e7",
      "115bbc878b304d1a810a91bf1c0da39c",
      "3c794d65f2b94270b97169722f8f8ec9",
      "99fa3836ce8f49f3b0b87c442451d0ee",
      "41e3b0ec9c23451a80a4ea6be06d1097",
      "8abf8f9dcc9a44d7a79c43ac02eb1ca0",
      "e10c8fbabdf645b6bccc818cd5a908f3",
      "799ecc397297473c894b1670f2d3a6b7",
      "a83de4a7e99f40fbb1ad9c6cf704545f",
      "297b2bdac0784e1a80c468d29677ec0e",
      "777e6134c48348048821b68a87f455de",
      "9f7d6a1e289e488483d953dbf2a151c2",
      "41b421f0cc8c4d6e81eb1cab740adec6",
      "bd724760bd6d4b4bae2c836b7e1510e0",
      "d28e2bc4e40c47ca91711c2cb1d9895d",
      "df7c7b7e21ac443c8e2f43ed6c968753",
      "aec1489556fc4f0898fd2f6c471dc5f9",
      "166753c3f90847da9258317ee0f3daa9",
      "d02b61f5d106469aa39cd97eab3913bb",
      "a0947cee4bae4efb9fe273e572d1e202",
      "492e4edd7cd340d9a53c4deb11cd69fa",
      "6171f65b30ce44a395c1871a8b45a03c",
      "c0248bcbac854199887bb4d4dc388d68",
      "0df8fdce00fc419db7cde7c3566a4723",
      "19329e69feff415f84e361307ff44909",
      "26b36d51f6c944e8b5dd77c4bcaf2cdc",
      "1b8b7718f10743a68e17d3aee3385e3d",
      "3fcb64849df148faa2d0272b49b2f2c5",
      "1738c3774ab74564a7f2325e297b53bd",
      "9454f72fa8874276bcd05fd64ee6f319",
      "c38d8e137baf42d7b09295d270b30356",
      "b6c4020ad7bc47cca4d31d44349c1345",
      "53283058c2f745218c21a17ec1ec8afc",
      "63735b67e0694979bb733b95e547a8bd",
      "bc8e4f8daaa74b519e6db053ad72b726",
      "3bc15edb14294ea8a6e8c649b7b86045",
      "425a5b55bc2745e4bed46211645c2736",
      "7dd50a1d2ebd4523878a29e1ff42f699",
      "56f7cc5ee91e4818a03a730a015f66d9",
      "9ae84dc178fd4c9db77c586b32c18200",
      "95be0e33e7894074b47d333621ed8bc0",
      "0113bae40fd049ac91aa25051c4dc237",
      "70140ebd135941d59b91a34a1b709e4d",
      "509e25ef75714e70bb79d2d4be885ed8",
      "6a682e15ed3b48fbae18b678e46302ea",
      "adede34800544d628571811655e064ca",
      "66f77f78c84a4b9788aad7911a65c6cb",
      "7288ba68ad0f4ea98e8b1df38e7f9a8c",
      "8ca3f2b78d7445cab42307e35b267344",
      "b972c632b25349438b7a4f26fd2e800d",
      "8edeb53a6e7f4864ab9a99c36dd50747",
      "1336617fddd348008dc19d3473e90c16",
      "9b27acc3c2ab4874b980d88c1b8a0724"
     ]
    },
    "executionInfo": {
     "elapsed": 15144,
     "status": "ok",
     "timestamp": 1747222715574,
     "user": {
      "displayName": "Татьяна Бушуева",
      "userId": "14369899420098124992"
     },
     "user_tz": -180
    },
    "id": "34CWA5hhCKRP",
    "outputId": "1ac96a02-b96e-44c8-f793-95a75adcf6b1"
   },
   "outputs": [],
   "source": [
    "tokenizer = AutoTokenizer.from_pretrained(\"intfloat/multilingual-e5-large-instruct\")\n",
    "model = AutoModel.from_pretrained(\"intfloat/multilingual-e5-large-instruct\")\n",
    "model.to(device)"
   ]
  },
  {
   "cell_type": "code",
   "execution_count": null,
   "metadata": {
    "id": "OLNaAJSxVuJj"
   },
   "outputs": [],
   "source": [
    "def embed_text(text):\n",
    "    t = tokenizer(text, padding= True, truncation=True, max_length=512,  return_tensors='pt' )\n",
    "    with torch.no_grad():\n",
    "      model_output = model(**{k: v.to(model.device) for k, v in t.items()})\n",
    "    embeddings = model_output.last_hidden_state[:, 0, :]\n",
    "    embeddings = torch.nn.functional.normalize(embeddings)\n",
    "    return embeddings[0].cpu().numpy()"
   ]
  },
  {
   "cell_type": "code",
   "execution_count": null,
   "metadata": {
    "id": "FSQjtrPI03Uh"
   },
   "outputs": [],
   "source": [
    "x = np.zeros((len(X_train), 1024))\n",
    "y =np.array(y_train)\n"
   ]
  },
  {
   "cell_type": "code",
   "execution_count": null,
   "metadata": {
    "colab": {
     "base_uri": "https://localhost:8080/"
    },
    "executionInfo": {
     "elapsed": 35571,
     "status": "ok",
     "timestamp": 1747222751170,
     "user": {
      "displayName": "Татьяна Бушуева",
      "userId": "14369899420098124992"
     },
     "user_tz": -180
    },
    "id": "ZL5jlD4R09_c",
    "outputId": "55270ac6-358e-4cca-fbc9-300202a43fbd"
   },
   "outputs": [],
   "source": [
    "for ind, sent in enumerate(tqdm(X_train)):\n",
    "   x[ind] = embed_text(sent)"
   ]
  },
  {
   "cell_type": "code",
   "execution_count": null,
   "metadata": {
    "id": "l8gE-7xF2S_A"
   },
   "outputs": [],
   "source": [
    "x_test = np.zeros((len(X_test), 1024))\n",
    "y_test =np.array(y_test)"
   ]
  },
  {
   "cell_type": "code",
   "execution_count": null,
   "metadata": {
    "colab": {
     "base_uri": "https://localhost:8080/"
    },
    "executionInfo": {
     "elapsed": 8613,
     "status": "ok",
     "timestamp": 1747222759819,
     "user": {
      "displayName": "Татьяна Бушуева",
      "userId": "14369899420098124992"
     },
     "user_tz": -180
    },
    "id": "hYuZUeZn2X-2",
    "outputId": "e0e47cd6-b56c-4ddf-86d9-aacc88bd0b19"
   },
   "outputs": [],
   "source": [
    "for ind, sent in enumerate(tqdm(X_test)):\n",
    "  x_test[ind] = embed_text(sent)"
   ]
  },
  {
   "cell_type": "markdown",
   "metadata": {
    "id": "zhrE28bY6qX5"
   },
   "source": [
    "## LogisticRegression\n"
   ]
  },
  {
   "cell_type": "code",
   "execution_count": null,
   "metadata": {
    "colab": {
     "base_uri": "https://localhost:8080/",
     "height": 80
    },
    "executionInfo": {
     "elapsed": 7792,
     "status": "ok",
     "timestamp": 1747222767618,
     "user": {
      "displayName": "Татьяна Бушуева",
      "userId": "14369899420098124992"
     },
     "user_tz": -180
    },
    "id": "-R4YdjGeJGER",
    "outputId": "5c831be1-d3fb-4bec-c5ed-597b7eef0d7d"
   },
   "outputs": [],
   "source": [
    "logistic_reg = LogisticRegression(max_iter=2000)\n",
    "logistic_reg.fit(x, y)"
   ]
  },
  {
   "cell_type": "code",
   "execution_count": null,
   "metadata": {
    "id": "Bvy_gjUfSsUU"
   },
   "outputs": [],
   "source": [
    "pred = logistic_reg.predict(x_test)"
   ]
  },
  {
   "cell_type": "code",
   "execution_count": null,
   "metadata": {
    "colab": {
     "base_uri": "https://localhost:8080/"
    },
    "executionInfo": {
     "elapsed": 17,
     "status": "ok",
     "timestamp": 1747222767651,
     "user": {
      "displayName": "Татьяна Бушуева",
      "userId": "14369899420098124992"
     },
     "user_tz": -180
    },
    "id": "iUEZW9YASyRC",
    "outputId": "14fcf6a6-a71e-4e44-e05a-7782128b8d89"
   },
   "outputs": [],
   "source": [
    "accuracy = accuracy_score(y_test, pred)\n",
    "print(\"Accuracy for LogisticRegression :\", accuracy_score(y_test, pred))\n",
    "print( \"F1-score for LogisticRegression:\", f1_score(y_test, pred, average='weighted'))\n",
    "print(\"Balanced accuracy forLogisticRegression:\", balanced_accuracy_score(y_test,pred))"
   ]
  },
  {
   "cell_type": "code",
   "execution_count": null,
   "metadata": {
    "id": "sP0bUZX4HVjG"
   },
   "outputs": [],
   "source": [
    "from sklearn.metrics import confusion_matrix\n",
    "from matplotlib import pyplot as plt\n",
    "def conf_matrix(y_test, pred):\n",
    "  cm = confusion_matrix(y_test, pred, labels=np.unique(y_test))\n",
    "\n",
    "  fig, ax = plt.subplots(figsize=(6,6))\n",
    "  im = ax.imshow(cm, interpolation='nearest', aspect='auto')\n",
    "  unique_labels = np.unique(y_test).astype(int)\n",
    "  ax.set_xticks(range(9))\n",
    "  ax.set_yticks(range(9))\n",
    "  ax.set_xticklabels(unique_labels, rotation=45)\n",
    "  ax.set_yticklabels(unique_labels)\n",
    "  ax.set_ylabel('Истинный класс')\n",
    "  ax.set_xlabel('Предсказанный класс')\n",
    "  fig.colorbar(im, ax=ax)\n",
    "  plt.tight_layout()\n",
    "  plt.show()"
   ]
  },
  {
   "cell_type": "code",
   "execution_count": null,
   "metadata": {
    "colab": {
     "base_uri": "https://localhost:8080/",
     "height": 607
    },
    "executionInfo": {
     "elapsed": 217,
     "status": "ok",
     "timestamp": 1747149749935,
     "user": {
      "displayName": "Татьяна Бушуева",
      "userId": "14369899420098124992"
     },
     "user_tz": -180
    },
    "id": "LMOVqTqjOnEh",
    "outputId": "a24d381b-cc6f-4d87-89ee-2e23049ab74a"
   },
   "outputs": [],
   "source": [
    "conf_matrix(y_test, pred)"
   ]
  },
  {
   "cell_type": "code",
   "execution_count": null,
   "metadata": {
    "id": "QrZCgUK7Hm5C"
   },
   "outputs": [],
   "source": [
    "def get_metrics_per_class(y_test, pred):\n",
    "  classes = np.unique(y_test)\n",
    "\n",
    "  # 1) F1-score по классам\n",
    "  f1_per_class = f1_score(y_test, pred, labels=classes, average=None, zero_division=0)\n",
    "\n",
    "  # 2) «Точность по классу» как доля правильно предсказанных среди всех примеров этого класса\n",
    "  #    (этот показатель в мультиклассе эквивалентен recall для данного класса)\n",
    "  accuracy_per_class = np.array([\n",
    "      np.mean(pred[y_test == cls] == cls)\n",
    "      for cls in classes\n",
    "  ])\n",
    "\n",
    "  # 3) Собираем всё в DataFrame\n",
    "  df = pd.DataFrame({\n",
    "      'class': classes.astype(str),\n",
    "      'accuracy': accuracy_per_class,\n",
    "      'f1_score': f1_per_class,\n",
    "      'balanced_accuracy': ba\n",
    "  }).set_index('class')\n",
    "  return df"
   ]
  },
  {
   "cell_type": "code",
   "execution_count": null,
   "metadata": {
    "colab": {
     "base_uri": "https://localhost:8080/",
     "height": 359
    },
    "executionInfo": {
     "elapsed": 127,
     "status": "ok",
     "timestamp": 1747223117987,
     "user": {
      "displayName": "Татьяна Бушуева",
      "userId": "14369899420098124992"
     },
     "user_tz": -180
    },
    "id": "Z7kNeuJQPZy4",
    "outputId": "a51aeda5-1362-4b90-c1e0-00089650767c"
   },
   "outputs": [],
   "source": [
    "get_metrics_per_class(y_test, pred)"
   ]
  },
  {
   "cell_type": "markdown",
   "metadata": {
    "id": "MDFpG8ZK6iE4"
   },
   "source": [
    "## XGB Boosting"
   ]
  },
  {
   "cell_type": "code",
   "execution_count": null,
   "metadata": {
    "id": "wI1H9vvPn17v"
   },
   "outputs": [],
   "source": [
    "def objective(trial):\n",
    "    params = {\n",
    "        \"objective\": \"multi:softmax\",\n",
    "        \"num_class\": 9,\n",
    "        \"eval_metric\": \"mlogloss\",\n",
    "        \"learning_rate\": trial.suggest_loguniform(\"learning_rate\", 0.0001, 0.3),\n",
    "        \"max_depth\": trial.suggest_int(\"max_depth\", 3, 100),\n",
    "        \"n_estimators\": trial.suggest_int(\"n_estimators\", 50, 2000),\n",
    "        \"subsample\": trial.suggest_float(\"subsample\", 0.5, 1.0),\n",
    "        \"colsample_bytree\": trial.suggest_float(\"colsample_bytree\", 0.05, 1.0)\n",
    "    }\n",
    "\n",
    "    model = XGBClassifier(**params)\n",
    "    model.fit(x, y)\n",
    "\n",
    "    y_pred = model.predict(x_test)\n",
    "    return f1_score(y_test, y_pred, average='weighted')\n",
    "\n",
    "# Запуск оптимизации\n",
    "study = optuna.create_study(direction=\"maximize\")  # Ищем max accuracy\n",
    "study.optimize(objective, n_trials=50)\n",
    "\n",
    "# Лучшие параметры\n",
    "print(\"Лучшие параметры:\", study.best_params)"
   ]
  },
  {
   "cell_type": "code",
   "execution_count": null,
   "metadata": {
    "colab": {
     "base_uri": "https://localhost:8080/"
    },
    "executionInfo": {
     "elapsed": 345986,
     "status": "ok",
     "timestamp": 1747149462439,
     "user": {
      "displayName": "Татьяна Бушуева",
      "userId": "14369899420098124992"
     },
     "user_tz": -180
    },
    "id": "SZGVW_56gocg",
    "outputId": "132e9a14-62c0-4b3d-9502-71d96062a0ed"
   },
   "outputs": [],
   "source": [
    "xgb2 = XGBClassifier(objective=\"multi:softmax\", num_class=9, eval_metric=\"mlogloss\", learning_rate = 0.013619072808128348, max_depth = 80, n_estimators = 1475, subsample = 0.5532740909498545, colsample_bytree = 0.38984815838162784)\n",
    "# Предсказания и оценка\n",
    "xgb2.fit(x, y)\n",
    "y_pred = xgb2.predict(x_test)\n",
    "print(\"Accuracy:\", accuracy_score(y_test, y_pred))"
   ]
  },
  {
   "cell_type": "code",
   "execution_count": null,
   "metadata": {
    "colab": {
     "base_uri": "https://localhost:8080/"
    },
    "executionInfo": {
     "elapsed": 48,
     "status": "ok",
     "timestamp": 1747149462515,
     "user": {
      "displayName": "Татьяна Бушуева",
      "userId": "14369899420098124992"
     },
     "user_tz": -180
    },
    "id": "5HDQTsJbWkMx",
    "outputId": "35f90eaa-4225-4fdd-ef6d-02b1abd52934"
   },
   "outputs": [],
   "source": [
    "print(\"Accuracy for XGB:\", accuracy_score(y_test, y_pred))\n",
    "print( \"F1-score for XGB:\", f1_score(y_test, y_pred, average='weighted'))\n",
    "print(\"Balanced accuracy for XGB:\", balanced_accuracy_score(y_test,y_pred))"
   ]
  },
  {
   "cell_type": "code",
   "execution_count": null,
   "metadata": {
    "colab": {
     "base_uri": "https://localhost:8080/",
     "height": 607
    },
    "executionInfo": {
     "elapsed": 220,
     "status": "ok",
     "timestamp": 1747149582060,
     "user": {
      "displayName": "Татьяна Бушуева",
      "userId": "14369899420098124992"
     },
     "user_tz": -180
    },
    "id": "zUAwrp68M-Ad",
    "outputId": "2935c1ff-24a9-4667-accb-bb44d0a9f3e9"
   },
   "outputs": [],
   "source": [
    "conf_matrix(y_test,y_pred)"
   ]
  },
  {
   "cell_type": "code",
   "execution_count": null,
   "metadata": {
    "colab": {
     "base_uri": "https://localhost:8080/",
     "height": 836
    },
    "executionInfo": {
     "elapsed": 37,
     "status": "ok",
     "timestamp": 1747149714346,
     "user": {
      "displayName": "Татьяна Бушуева",
      "userId": "14369899420098124992"
     },
     "user_tz": -180
    },
    "id": "ChFY0ufQPJar",
    "outputId": "ebfc1ea1-705a-46b7-bf02-f89c4712fc20"
   },
   "outputs": [],
   "source": [
    "get_metrics_per_class(y_test,y_pred)"
   ]
  },
  {
   "cell_type": "markdown",
   "metadata": {
    "id": "Of0kq0lc5skY"
   },
   "source": [
    "# **GigarEmbedModel**"
   ]
  },
  {
   "cell_type": "code",
   "execution_count": null,
   "metadata": {
    "colab": {
     "base_uri": "https://localhost:8080/",
     "height": 267,
     "referenced_widgets": [
      "ca63ef1e9fe147d8b0d52b876e4e1c37",
      "55a2e64bcc5f439cbfe91aead95c99a3",
      "669831e6133a4f3b8f733f8ce95c30da",
      "a05c4a00db99494a996a252498693829",
      "50abc8f0041647069a331809b5a399cf",
      "5797a122181744a899d373f9716719e1",
      "5b04651275424008bce9a107c6a7e702",
      "e8c10dde056043d4a736b15db92e4809",
      "d5ca95e45a9f49e481f7fb7e81e6dba6",
      "7325c76609c2457d93fc597c702f1bca",
      "f670c58c64cc46c2859edcd37e450dc6",
      "83811fc2fb5e43f0942440480e41f298",
      "e6224393756a4f52a7eafff0aa97e9db",
      "0216fbd4c7d240ef9f23fc13733debb3",
      "c05dbf870781446697ccd57d02e55190",
      "e99eb73bdcc24aeb98446e0a0af86c02",
      "1b7d97e181f74e29b5a279b3b6b812af",
      "5e13f1a69d4f4e23a56decdb93d55ba8",
      "1e31a46646b74e638141002d52f9f797",
      "2dde4ea3419b40c9bb03e202251d030c",
      "94ce56029b6b4ae089f7035f399b4a73",
      "d0351055eef74fb584f4701313c0cb0c",
      "08c43db2ccd74b469cba3971c6655a11",
      "222676dda8dc4b10b4d8789d20260dfe",
      "92af17e489654ee3b69b7a325553302a",
      "f31d74662cab41599de0b63ee4f6f5e3",
      "43f307f51aa34116951f41a830f45dd4",
      "9e7b575dc2e4423f99ac2a236ba67594",
      "64a574798abc4cb9a3469f3fc8c4444c",
      "c5792697f5e0479f83da6dac838d9a48",
      "2a1ef9f461f04f15993ac826d678fbb5",
      "10a795df3132495a9b93cf42a5c1e01a",
      "8503ca0be2914f5aa4e65c8c2da9af82",
      "89f8a071171d442dac07a3675efd7ded",
      "85ee8ff88e83419fa0cb676ed8af9cde",
      "673bd2c4164644a3a147a0fbcd1f73dd",
      "b75d4b968e114379887aac08e93f39e5",
      "dec33dcd542d48b4aa97d8583d5c5b03",
      "9b7190d4ac6d447686ab455abc0287ef",
      "40b50eef161f42ef94609aeb6d868054",
      "12b0e5ce56b14d1cb735dcf952808309",
      "360ef33318c84eeb80970c7818ec68a1",
      "c663135ec024450290d3121983c70167",
      "2b37ede9f4094a91987df5f4942f92ac"
     ]
    },
    "executionInfo": {
     "elapsed": 7597,
     "status": "ok",
     "timestamp": 1747150048452,
     "user": {
      "displayName": "Татьяна Бушуева",
      "userId": "14369899420098124992"
     },
     "user_tz": -180
    },
    "id": "09q4G0XQnyMy",
    "outputId": "aea95062-6cfd-4b82-cb46-52af8a4d3dd8"
   },
   "outputs": [],
   "source": [
    "model1 = AutoModel.from_pretrained('ai-sage/Giga-Embeddings-instruct', trust_remote_code=True)"
   ]
  },
  {
   "cell_type": "code",
   "execution_count": null,
   "metadata": {
    "colab": {
     "base_uri": "https://localhost:8080/"
    },
    "executionInfo": {
     "elapsed": 2730,
     "status": "ok",
     "timestamp": 1747150152722,
     "user": {
      "displayName": "Татьяна Бушуева",
      "userId": "14369899420098124992"
     },
     "user_tz": -180
    },
    "id": "74ZPy4-eFzqW",
    "outputId": "8fc3628a-90d0-44d1-a153-bbfff93a473b"
   },
   "outputs": [],
   "source": [
    "model1.to(device)"
   ]
  },
  {
   "cell_type": "code",
   "execution_count": null,
   "metadata": {
    "id": "B_Q_x64NnBrW"
   },
   "outputs": [],
   "source": [
    "def get_embeddings(text):\n",
    "  task_name_to_instruct = {\"example\": \"получая пример, присвой ему метку класса\"}\n",
    "  query_prefix = task_name_to_instruct[\"example\"] + \"\\nquestion: \"\n",
    "  queries = [text]\n",
    "  query_embeddings = model1.encode(queries, instruction=query_prefix)\n",
    "  query_embeddings = F.normalize(query_embeddings, p=2, dim=1)\n",
    "  return query_embeddings[0].cpu().numpy()\n",
    "\n"
   ]
  },
  {
   "cell_type": "code",
   "execution_count": null,
   "metadata": {
    "id": "HMP4myQir175"
   },
   "outputs": [],
   "source": [
    "X_train, X_test, y_train, y_test = train_test_split(X, y, test_size=0.2, random_state=0,shuffle=True, stratify=y)"
   ]
  },
  {
   "cell_type": "code",
   "execution_count": null,
   "metadata": {
    "id": "RjJQM29SFEHq"
   },
   "outputs": [],
   "source": [
    "x1 = np.zeros((len(X_train), 2048))"
   ]
  },
  {
   "cell_type": "code",
   "execution_count": null,
   "metadata": {
    "id": "bF6cLq2youh8"
   },
   "outputs": [],
   "source": [
    "y1 = np.array(y_train)"
   ]
  },
  {
   "cell_type": "code",
   "execution_count": null,
   "metadata": {
    "colab": {
     "base_uri": "https://localhost:8080/"
    },
    "executionInfo": {
     "elapsed": 95008,
     "status": "ok",
     "timestamp": 1747150259052,
     "user": {
      "displayName": "Татьяна Бушуева",
      "userId": "14369899420098124992"
     },
     "user_tz": -180
    },
    "id": "FBJr9mHDFIYD",
    "outputId": "b2c336ab-b724-470c-f850-cb1cc17c7c86"
   },
   "outputs": [],
   "source": [
    "for ind, sent in enumerate(tqdm(X_train)):\n",
    "   x1[ind] =  get_embeddings(sent)"
   ]
  },
  {
   "cell_type": "code",
   "execution_count": null,
   "metadata": {
    "id": "TWxW_GkVozQz"
   },
   "outputs": [],
   "source": [
    "x1_test = np.zeros((len(X_test), 2048))"
   ]
  },
  {
   "cell_type": "code",
   "execution_count": null,
   "metadata": {
    "id": "lqJGHZ-YyzGk"
   },
   "outputs": [],
   "source": [
    "y1_test = np.array(y_test)"
   ]
  },
  {
   "cell_type": "code",
   "execution_count": null,
   "metadata": {
    "colab": {
     "base_uri": "https://localhost:8080/"
    },
    "executionInfo": {
     "elapsed": 24010,
     "status": "ok",
     "timestamp": 1747150358787,
     "user": {
      "displayName": "Татьяна Бушуева",
      "userId": "14369899420098124992"
     },
     "user_tz": -180
    },
    "id": "nk7DHtNvotc7",
    "outputId": "a5e00150-b345-4cdb-f0e7-5081d680422f"
   },
   "outputs": [],
   "source": [
    "for ind, sent in enumerate(tqdm(X_test)):\n",
    "   x1_test[ind] =  get_embeddings(sent)"
   ]
  },
  {
   "cell_type": "markdown",
   "metadata": {
    "id": "ConXW8fQ8FbB"
   },
   "source": [
    "## LogisticRegression"
   ]
  },
  {
   "cell_type": "code",
   "execution_count": null,
   "metadata": {
    "colab": {
     "base_uri": "https://localhost:8080/",
     "height": 80
    },
    "executionInfo": {
     "elapsed": 16189,
     "status": "ok",
     "timestamp": 1747151209199,
     "user": {
      "displayName": "Татьяна Бушуева",
      "userId": "14369899420098124992"
     },
     "user_tz": -180
    },
    "id": "4LJIjGxl0rNY",
    "outputId": "9594c19c-57fd-4a75-a3e7-f2e04a3fd4ff"
   },
   "outputs": [],
   "source": [
    "logistic_reg = LogisticRegression(max_iter=2000)\n",
    "logistic_reg.fit(x1, y1)"
   ]
  },
  {
   "cell_type": "code",
   "execution_count": null,
   "metadata": {
    "id": "M9WAEF8boqwi"
   },
   "outputs": [],
   "source": [
    "pred = logistic_reg.predict(x1_test)"
   ]
  },
  {
   "cell_type": "code",
   "execution_count": null,
   "metadata": {
    "colab": {
     "base_uri": "https://localhost:8080/"
    },
    "executionInfo": {
     "elapsed": 34,
     "status": "ok",
     "timestamp": 1747151209243,
     "user": {
      "displayName": "Татьяна Бушуева",
      "userId": "14369899420098124992"
     },
     "user_tz": -180
    },
    "id": "DtVicPz-05Lp",
    "outputId": "338e0204-dd86-4fe1-b742-db0e50db7f10"
   },
   "outputs": [],
   "source": [
    "print(\"Accuracy for Logistic Regression:\", accuracy_score(y1_test, pred))\n",
    "print(\"F1 score for Logistic Regression:\", f1_score(y1_test, pred, average='weighted'))\n",
    "print(\"Balanced accuracy for Logistic Regression:\",balanced_accuracy_score(y1_test,pred))"
   ]
  },
  {
   "cell_type": "code",
   "execution_count": null,
   "metadata": {
    "colab": {
     "base_uri": "https://localhost:8080/",
     "height": 607
    },
    "executionInfo": {
     "elapsed": 234,
     "status": "ok",
     "timestamp": 1747151267202,
     "user": {
      "displayName": "Татьяна Бушуева",
      "userId": "14369899420098124992"
     },
     "user_tz": -180
    },
    "id": "Ww6aEwmoU_aO",
    "outputId": "0e163c28-2d45-46fe-c317-fd39542807bd"
   },
   "outputs": [],
   "source": [
    "conf_matrix(y_test, pred)"
   ]
  },
  {
   "cell_type": "code",
   "execution_count": null,
   "metadata": {
    "colab": {
     "base_uri": "https://localhost:8080/",
     "height": 359
    },
    "executionInfo": {
     "elapsed": 49,
     "status": "ok",
     "timestamp": 1747151278527,
     "user": {
      "displayName": "Татьяна Бушуева",
      "userId": "14369899420098124992"
     },
     "user_tz": -180
    },
    "id": "-GF7y7kNVKix",
    "outputId": "445c172a-08f1-4d9f-976d-4e7c10266e70"
   },
   "outputs": [],
   "source": [
    "get_metrics_per_class(y_test, pred)"
   ]
  },
  {
   "cell_type": "markdown",
   "metadata": {
    "id": "XDcSiUYL7_3z"
   },
   "source": [
    "## XGB Boosting"
   ]
  },
  {
   "cell_type": "code",
   "execution_count": null,
   "metadata": {
    "id": "pQNYfUWl6_Aq"
   },
   "outputs": [],
   "source": [
    "def objective(trial):\n",
    "    params = {\n",
    "        \"objective\": \"multi:softmax\",\n",
    "        \"num_class\": 9,\n",
    "        \"eval_metric\": \"mlogloss\",\n",
    "        \"learning_rate\": trial.suggest_loguniform(\"learning_rate\", 0.00001, 0.3),\n",
    "        \"max_depth\": trial.suggest_int(\"max_depth\", 3, 100),\n",
    "        \"n_estimators\": trial.suggest_int(\"n_estimators\", 50, 1000),\n",
    "        \"subsample\": trial.suggest_float(\"subsample\", 0.5, 1.0),\n",
    "        \"colsample_bytree\": trial.suggest_float(\"colsample_bytree\", 0.05, 1.0)\n",
    "    }\n",
    "\n",
    "    model = XGBClassifier(**params)\n",
    "    model.fit(x1, y1)\n",
    "\n",
    "    y_pred = model.predict(x1_test)\n",
    "    return f1_score(y1_test, y_pred, average='weighted')\n",
    "\n",
    "# Запуск оптимизации\n",
    "study = optuna.create_study(direction=\"maximize\")  # Ищем max f1\n",
    "study.optimize(objective, n_trials=50)\n",
    "\n",
    "# Лучшие параметры\n",
    "print(\"Лучшие параметры:\", study.best_params)"
   ]
  },
  {
   "cell_type": "code",
   "execution_count": null,
   "metadata": {
    "colab": {
     "base_uri": "https://localhost:8080/"
    },
    "executionInfo": {
     "elapsed": 165123,
     "status": "ok",
     "timestamp": 1747151453492,
     "user": {
      "displayName": "Татьяна Бушуева",
      "userId": "14369899420098124992"
     },
     "user_tz": -180
    },
    "id": "28kTYM275RuL",
    "outputId": "0ccaf876-18eb-4845-8589-d62e0bad1828"
   },
   "outputs": [],
   "source": [
    "xgb = XGBClassifier(objective=\"multi:softmax\", num_class=9, eval_metric=\"mlogloss\", learning_rate = 0.15340579087649192, max_depth = 28, n_estimators = 788, subsample = 0.5355661444792579, colsample_bytree =  0.8338931922625114)\n",
    "xgb.fit(x1, y1)\n",
    "\n",
    "# Предсказания и оценка\n",
    "y_pred = xgb.predict(x1_test)\n",
    "print(\"Accuracy for XGB:\", accuracy_score(y1_test, y_pred))\n",
    "print(\"F1 score for XGB:\",f1_score(y_test, y_pred, average='weighted'))\n",
    "print(\"Balanced accuracy for XGB:\", balanced_accuracy_score(y_test,y_pred))"
   ]
  },
  {
   "cell_type": "code",
   "execution_count": null,
   "metadata": {
    "colab": {
     "base_uri": "https://localhost:8080/",
     "height": 607
    },
    "executionInfo": {
     "elapsed": 207,
     "status": "ok",
     "timestamp": 1747151715529,
     "user": {
      "displayName": "Татьяна Бушуева",
      "userId": "14369899420098124992"
     },
     "user_tz": -180
    },
    "id": "LXTxQl7XVS-i",
    "outputId": "24b79fad-44fe-43b3-d606-0bdd7c782503"
   },
   "outputs": [],
   "source": [
    "conf_matrix(y_test, y_pred)"
   ]
  },
  {
   "cell_type": "code",
   "execution_count": null,
   "metadata": {
    "colab": {
     "base_uri": "https://localhost:8080/",
     "height": 359
    },
    "executionInfo": {
     "elapsed": 19,
     "status": "ok",
     "timestamp": 1747151711944,
     "user": {
      "displayName": "Татьяна Бушуева",
      "userId": "14369899420098124992"
     },
     "user_tz": -180
    },
    "id": "eSu1tEHMVTlB",
    "outputId": "15751f6e-254d-4f3a-ecfc-0b527bc576a2"
   },
   "outputs": [],
   "source": [
    "get_metrics_per_class(y_test, y_pred)"
   ]
  }
 ],
 "metadata": {
  "accelerator": "GPU",
  "colab": {
   "authorship_tag": "ABX9TyPLnFAzEW6sZSPUTeNtWG/G",
   "gpuType": "A100",
   "machine_shape": "hm",
   "mount_file_id": "12J9oIaEZLCHQfYwSsfpVqLkl3kat6pe5",
   "provenance": []
  },
  "kernelspec": {
   "display_name": "Python 3",
   "name": "python3"
  },
  "language_info": {
   "name": "python"
  }
 },
 "nbformat": 4,
 "nbformat_minor": 0
}
