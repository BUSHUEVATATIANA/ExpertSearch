{
 "cells": [
  {
   "cell_type": "code",
   "execution_count": null,
   "metadata": {
    "id": "cu8JEgOw44k1"
   },
   "outputs": [],
   "source": [
    "import re\n",
    "import string\n",
    "import pandas as pd\n",
    "import numpy as np\n",
    "import emoji\n",
    "from sklearn.model_selection import train_test_split\n",
    "import evaluate\n",
    "import transformers\n",
    "import torch\n",
    "import matplotlib.pyplot as plt\n",
    "from sklearn.metrics import f1_score\n",
    "from sklearn.metrics import confusion_matrix\n",
    "from transformers import EarlyStoppingCallback\n",
    "from peft import LoraConfig, get_peft_model\n",
    "import os\n",
    "\n",
    "from torch.utils.data import Dataset, DataLoader\n",
    "from datasets import load_dataset\n",
    "from transformers import DataCollatorWithPadding\n",
    "from transformers import (\n",
    "    AutoTokenizer,\n",
    "    TrainingArguments,\n",
    "    Trainer,\n",
    "    AutoTokenizer, AutoModelForSequenceClassification\n",
    ")"
   ]
  },
  {
   "cell_type": "code",
   "execution_count": null,
   "metadata": {
    "id": "3KxvsO5aK0JO"
   },
   "outputs": [],
   "source": [
    "np.random.seed(0)"
   ]
  },
  {
   "cell_type": "code",
   "execution_count": null,
   "metadata": {
    "id": "eDkcnyWHK2vW"
   },
   "outputs": [],
   "source": [
    "data_train = pd.read_csv('/content/drive/MyDrive/Znatno_personal/Отчетность ВКР/Артефакты/Parsing_avito/Model for benchmark/data/train - train (3).csv')"
   ]
  },
  {
   "cell_type": "code",
   "execution_count": null,
   "metadata": {
    "id": "SWYTEdMV8B4s"
   },
   "outputs": [],
   "source": [
    "data_test = pd.read_csv('/content/drive/MyDrive/Znatno_personal/Отчетность ВКР/Артефакты/Parsing_avito/Model for benchmark/data/test_data.csv')"
   ]
  },
  {
   "cell_type": "code",
   "execution_count": null,
   "metadata": {
    "id": "ZZHB24s88JBv"
   },
   "outputs": [],
   "source": [
    "X = data_train['message.text']\n",
    "y = data_train['Оценка']\n",
    "X_test = data_test['message.text']\n",
    "y_test = data_test['Оценка']"
   ]
  },
  {
   "cell_type": "markdown",
   "metadata": {},
   "source": [
    "# Предобработка"
   ]
  },
  {
   "cell_type": "code",
   "execution_count": null,
   "metadata": {
    "id": "gg8sMpT58RZq"
   },
   "outputs": [],
   "source": [
    "def convert_emojis_to_words(text):\n",
    "\n",
    "    # Convert emojis to words\n",
    "    text = emoji.replace_emoji(text, replace=\" \")\n",
    "\n",
    "    # Remove the : from the words and replace _ with space\n",
    "    text = text.replace(\"_\", \" \")\n",
    "\n",
    "    return text"
   ]
  },
  {
   "cell_type": "code",
   "execution_count": null,
   "metadata": {
    "id": "s31qlnnFaB88"
   },
   "outputs": [],
   "source": [
    "symbols_pattern = re.compile(pattern = \"[\"\n",
    "    \"@_!#$%^&*()<>?/\\|}{~√•—\"\n",
    "                       \"]+\", flags = re.UNICODE) #спецсимволы\n",
    "# двойные пробелы\n",
    "space_pattern = re.compile('\\s+')"
   ]
  },
  {
   "cell_type": "code",
   "execution_count": null,
   "metadata": {
    "id": "HY9cVIi5aKT1"
   },
   "outputs": [],
   "source": [
    "def clear_text(text):\n",
    "    \"\"\" Функция удаления спецсимволов\"\"\"\n",
    "    # удаление спецсимволов и emoji\n",
    "    pre = symbols_pattern.sub(r'',text)\n",
    "    pre = convert_emojis_to_words(pre)\n",
    "    pre = re.sub(r'http\\S+', '', pre)\n",
    "\n",
    "    return space_pattern.sub(' ', pre)"
   ]
  },
  {
   "cell_type": "code",
   "execution_count": null,
   "metadata": {
    "id": "LSONz1GIaNZu"
   },
   "outputs": [],
   "source": [
    "def preprocess_text(text):\n",
    "    \"\"\" Финальная функция для обработки \"\"\"\n",
    "    # srip + lower + punctuation\n",
    "    sentence = (\n",
    "        ''.join([x for x in str(text).strip().lower()])\n",
    "    )\n",
    "\n",
    "    return clear_text(sentence)"
   ]
  },
  {
   "cell_type": "code",
   "execution_count": null,
   "metadata": {
    "id": "NlTaLpR5aRv5"
   },
   "outputs": [],
   "source": [
    "X = X.apply(preprocess_text)"
   ]
  },
  {
   "cell_type": "code",
   "execution_count": null,
   "metadata": {
    "id": "Ffv8WOpmRgXK"
   },
   "outputs": [],
   "source": [
    "X_test = X_test.apply(preprocess_text)"
   ]
  },
  {
   "cell_type": "code",
   "execution_count": null,
   "metadata": {
    "id": "N3HeIk5kLWdF"
   },
   "outputs": [],
   "source": [
    "X_train, X_val, y_train, y_val = train_test_split(X, y,test_size=0.2, random_state = 42)"
   ]
  },
  {
   "cell_type": "markdown",
   "metadata": {},
   "source": [
    "# Загрузка базовой модели"
   ]
  },
  {
   "cell_type": "code",
   "execution_count": null,
   "metadata": {
    "colab": {
     "base_uri": "https://localhost:8080/"
    },
    "executionInfo": {
     "elapsed": 539,
     "status": "ok",
     "timestamp": 1747652561500,
     "user": {
      "displayName": "Татьяна Бушуева",
      "userId": "14369899420098124992"
     },
     "user_tz": -180
    },
    "id": "aZ0geLjotnP8",
    "outputId": "462696a5-9835-452b-8da9-988e8525b93d"
   },
   "outputs": [],
   "source": [
    "tokenizer = AutoTokenizer.from_pretrained(\"DeepPavlov/rubert-base-cased\")\n",
    "model = AutoModelForSequenceClassification.from_pretrained(\"DeepPavlov/rubert-base-cased\", num_labels = 9)"
   ]
  },
  {
   "cell_type": "code",
   "execution_count": null,
   "metadata": {
    "colab": {
     "base_uri": "https://localhost:8080/"
    },
    "executionInfo": {
     "elapsed": 4,
     "status": "ok",
     "timestamp": 1747646693877,
     "user": {
      "displayName": "Татьяна Бушуева",
      "userId": "14369899420098124992"
     },
     "user_tz": -180
    },
    "id": "6kvrAeHtLag8",
    "outputId": "b040c824-98f0-4ff4-cfc2-009e3e70c237"
   },
   "outputs": [],
   "source": [
    "tokenizer.add_special_tokens({'pad_token': '[SEP]'})"
   ]
  },
  {
   "cell_type": "code",
   "execution_count": null,
   "metadata": {
    "colab": {
     "base_uri": "https://localhost:8080/"
    },
    "executionInfo": {
     "elapsed": 5,
     "status": "ok",
     "timestamp": 1747646694527,
     "user": {
      "displayName": "Татьяна Бушуева",
      "userId": "14369899420098124992"
     },
     "user_tz": -180
    },
    "id": "c_6a8Y2lTLMk",
    "outputId": "d6dc41dc-e64d-452c-e457-1898bf891581"
   },
   "outputs": [],
   "source": [
    "model.resize_token_embeddings(len(tokenizer))"
   ]
  },
  {
   "cell_type": "code",
   "execution_count": null,
   "metadata": {
    "id": "-Z4l1eHZGGI1"
   },
   "outputs": [],
   "source": [
    "model.config.pad_token_id = tokenizer.pad_token_id"
   ]
  },
  {
   "cell_type": "code",
   "execution_count": null,
   "metadata": {
    "id": "66e9ownjLthJ"
   },
   "outputs": [],
   "source": [
    "class CustomDataset(Dataset):\n",
    "    def __init__(self, X, y, tokenizer):\n",
    "        super().__init__()\n",
    "        self.X = X\n",
    "        self.y = y\n",
    "        self.tokenizer = tokenizer\n",
    "\n",
    "    def __len__(self):\n",
    "        return len(self.X)\n",
    "    def __getitem__(self, idx):\n",
    "        text = self.X.iloc[idx]\n",
    "        #text = self.text.iloc[idx]\n",
    "        label = self.y.iloc[idx]\n",
    "        output = self.tokenizer(\n",
    "            text,\n",
    "            max_length=512,\n",
    "            padding='max_length',\n",
    "            truncation=True\n",
    "            #return_tensors=\"pt\"\n",
    "        )\n",
    "\n",
    "        #one_hot_labels = torch.nn.functional.one_hot(label - 1, num_classes=10)\n",
    "        output[\"label\"]= torch.tensor(label)\n",
    "        #output[\"label\"] =\n",
    "        return output"
   ]
  },
  {
   "cell_type": "code",
   "execution_count": null,
   "metadata": {
    "id": "3wDWMGSncDYJ"
   },
   "outputs": [],
   "source": [
    "tokenized_train = CustomDataset(X_train, y_train, tokenizer)\n",
    "tokenized_test = CustomDataset(X_test, y_test, tokenizer)"
   ]
  },
  {
   "cell_type": "code",
   "execution_count": null,
   "metadata": {
    "id": "9cPG95GILv-8"
   },
   "outputs": [],
   "source": [
    "from transformers import DataCollatorWithPadding\n",
    "\n",
    "# ... (rest of your code) ...\n",
    "\n",
    "# Replace default_data_collator with DataCollatorWithPadding\n",
    "data_collator = DataCollatorWithPadding(tokenizer=tokenizer)"
   ]
  },
  {
   "cell_type": "code",
   "execution_count": null,
   "metadata": {
    "id": "gwk4YEOrYdqW"
   },
   "outputs": [],
   "source": [
    "train_dataloader = DataLoader(\n",
    "    CustomDataset(\n",
    "        X = X_train,\n",
    "        y = y_train,\n",
    "        tokenizer = tokenizer),\n",
    "    collate_fn=data_collator,\n",
    "    batch_size=2,\n",
    "    shuffle=True\n",
    ")"
   ]
  },
  {
   "cell_type": "code",
   "execution_count": null,
   "metadata": {
    "colab": {
     "base_uri": "https://localhost:8080/"
    },
    "executionInfo": {
     "elapsed": 20,
     "status": "ok",
     "timestamp": 1747642969555,
     "user": {
      "displayName": "Татьяна Бушуева",
      "userId": "14369899420098124992"
     },
     "user_tz": -180
    },
    "id": "oGGppO_xYihT",
    "outputId": "7b05f545-e795-48c7-f726-638f876b26be"
   },
   "outputs": [],
   "source": [
    "next(iter(train_dataloader))"
   ]
  },
  {
   "cell_type": "code",
   "execution_count": null,
   "metadata": {
    "id": "RZfoDd7_LyVd"
   },
   "outputs": [],
   "source": [
    "f1_metric = evaluate.load(\"f1\")\n",
    "accuracy_metric = evaluate.load(\"accuracy\")\n",
    "one_balance_accuracy = evaluate.load(\"accuracy\")"
   ]
  },
  {
   "cell_type": "code",
   "execution_count": null,
   "metadata": {
    "id": "HY_Y0HpOqGQu"
   },
   "outputs": [],
   "source": [
    "os.environ['CUDA_LAUNCH_BLOCKING'] = '1'\n",
    "os.environ['TORCH_USE_CUDA_DSA'] = '1'"
   ]
  },
  {
   "cell_type": "code",
   "execution_count": null,
   "metadata": {
    "id": "ja3Zky2B67GH"
   },
   "outputs": [],
   "source": [
    "def compute_metrics(eval_pred):\n",
    "    logits, labels = eval_pred\n",
    "    logits = torch.from_numpy(logits)\n",
    "    labels = torch.from_numpy(labels)\n",
    "    if torch.isnan(logits).any() or torch.isinf(logits).any():\n",
    "        print(\"Warning: NaN or inf values detected in logits.\")\n",
    "    predictions = np.argmax(logits, axis=-1)\n",
    "    global f1_metric, accuracy_metric\n",
    "    f1 = f1_metric.compute(predictions=predictions, references=labels,\n",
    "      average='weighted')['f1']\n",
    "    accuracy = accuracy_metric.compute(predictions=predictions, references=labels)['accuracy']\n",
    "    one_balance_accuracy\n",
    "    return {\"accuracy\": accuracy, \"f1\":f1}\n"
   ]
  },
  {
   "cell_type": "markdown",
   "metadata": {
    "id": "R_Na_4WiSUJG"
   },
   "source": [
    "# Обучение c LoRA"
   ]
  },
  {
   "cell_type": "code",
   "execution_count": null,
   "metadata": {
    "colab": {
     "base_uri": "https://localhost:8080/"
    },
    "executionInfo": {
     "elapsed": 26,
     "status": "ok",
     "timestamp": 1747643349228,
     "user": {
      "displayName": "Татьяна Бушуева",
      "userId": "14369899420098124992"
     },
     "user_tz": -180
    },
    "id": "rYIOpfvJ7bCI",
    "outputId": "3c55862e-a93d-4fcf-de49-2eea85f81bec"
   },
   "outputs": [],
   "source": [
    "training_args = TrainingArguments(\n",
    "    output_dir=\"//content/drive/MyDrive/finetuning_rubert_LoRA3/\",\n",
    "    per_device_train_batch_size= 64,\n",
    "    per_device_eval_batch_size=64,\n",
    "    eval_accumulation_steps=100,\n",
    "    learning_rate=1e-3,\n",
    "\t  num_train_epochs=25,\n",
    "    gradient_accumulation_steps=2, # Accumulate gradients over 2 steps\n",
    "\t  warmup_ratio=0.1,\n",
    "    weight_decay=0.01,\n",
    "    bf16=True, # bfloat16 training\n",
    "    logging_strategy=\"steps\",\n",
    "    logging_steps=20,\n",
    "    evaluation_strategy=\"steps\",\n",
    "    save_strategy=\"steps\",\n",
    "    save_total_limit=2,\n",
    "    optim=\"adamw_torch\",\n",
    "    load_best_model_at_end=True,\n",
    "    metric_for_best_model=\"accuracy\")\n",
    "    #report_to=\"tensorb\")"
   ]
  },
  {
   "cell_type": "code",
   "execution_count": null,
   "metadata": {
    "colab": {
     "base_uri": "https://localhost:8080/"
    },
    "executionInfo": {
     "elapsed": 46,
     "status": "ok",
     "timestamp": 1747642970878,
     "user": {
      "displayName": "Татьяна Бушуева",
      "userId": "14369899420098124992"
     },
     "user_tz": -180
    },
    "id": "swTkxj5DMAP1",
    "outputId": "175426f7-378f-46e5-ffd9-ada6272570b6"
   },
   "outputs": [],
   "source": [
    "peft_config = LoraConfig(\n",
    "    r=16,  # Rank of the LoRA update matrices\n",
    "    lora_alpha=16,  # Scaling factor for the LoRA update matrices\n",
    "    lora_dropout=0.5,  # Dropout probability for the LoRA update matrices\n",
    "    bias=\"lora_only\",\n",
    "    modules_to_save=[\"decode_head\"],# Whether to apply bias to the LoRA update matrices\n",
    "    task_type=\"SEQ_CLS\" ) # Task type for sequence classification\n",
    "\n",
    "\n",
    "model = get_peft_model(model, peft_config)\n",
    "model.print_trainable_parameters()"
   ]
  },
  {
   "cell_type": "code",
   "execution_count": null,
   "metadata": {
    "id": "MbRhmgH3MCT3"
   },
   "outputs": [],
   "source": [
    "trainer = Trainer(\n",
    "    model,\n",
    "    args=training_args,\n",
    "    train_dataset=CustomDataset(X_train, y_train, tokenizer=tokenizer),  # Use the Dataset object\n",
    "    eval_dataset=CustomDataset(X_val, y_val, tokenizer=tokenizer),  # Use the Dataset object\n",
    "    compute_metrics=compute_metrics,\n",
    "    data_collator=data_collator,\n",
    "    callbacks=[EarlyStoppingCallback(2, 0.0)]\n",
    ")"
   ]
  },
  {
   "cell_type": "code",
   "execution_count": null,
   "metadata": {
    "id": "kWrmVXFPp0Il"
   },
   "outputs": [],
   "source": [
    "torch.cuda.empty_cache()"
   ]
  },
  {
   "cell_type": "code",
   "execution_count": null,
   "metadata": {
    "colab": {
     "base_uri": "https://localhost:8080/",
     "height": 925
    },
    "executionInfo": {
     "elapsed": 374025,
     "status": "ok",
     "timestamp": 1747643729274,
     "user": {
      "displayName": "Татьяна Бушуева",
      "userId": "14369899420098124992"
     },
     "user_tz": -180
    },
    "id": "68Vp4J3xME37",
    "outputId": "485dd128-69ec-4c72-bdd3-07a55e041fcb"
   },
   "outputs": [],
   "source": [
    "trainer.train()"
   ]
  },
  {
   "cell_type": "code",
   "execution_count": null,
   "metadata": {
    "id": "9FuRiBUjGMJt"
   },
   "outputs": [],
   "source": [
    "model_id = \"//content/drive/MyDrive/finetuning_rubert_LoRA3/deepPavlov_with_lora\"\n",
    "model.save_pretrained(model_id)"
   ]
  },
  {
   "cell_type": "code",
   "execution_count": null,
   "metadata": {
    "id": "iC4HUvKDJGvv"
   },
   "outputs": [],
   "source": [
    "test_dataset=CustomDataset(X_test, y_test, tokenizer=tokenizer)"
   ]
  },
  {
   "cell_type": "code",
   "execution_count": null,
   "metadata": {
    "colab": {
     "base_uri": "https://localhost:8080/",
     "height": 17
    },
    "executionInfo": {
     "elapsed": 1771,
     "status": "ok",
     "timestamp": 1747643771850,
     "user": {
      "displayName": "Татьяна Бушуева",
      "userId": "14369899420098124992"
     },
     "user_tz": -180
    },
    "id": "XlzMllgFHIKB",
    "outputId": "848749af-243c-4de0-b282-7706aa24ef3b"
   },
   "outputs": [],
   "source": [
    "test = trainer.predict(test_dataset)"
   ]
  },
  {
   "cell_type": "code",
   "execution_count": null,
   "metadata": {
    "id": "Amy5DLzcDvzm"
   },
   "outputs": [],
   "source": [
    "y_pred = np.argmax(test[0],axis=1)"
   ]
  },
  {
   "cell_type": "code",
   "execution_count": null,
   "metadata": {
    "colab": {
     "base_uri": "https://localhost:8080/"
    },
    "executionInfo": {
     "elapsed": 4,
     "status": "ok",
     "timestamp": 1747643773655,
     "user": {
      "displayName": "Татьяна Бушуева",
      "userId": "14369899420098124992"
     },
     "user_tz": -180
    },
    "id": "OpwezP1aJarC",
    "outputId": "97239109-8da0-4a58-ceeb-665b0fe9c360"
   },
   "outputs": [],
   "source": [
    "print(test[2])"
   ]
  },
  {
   "cell_type": "code",
   "execution_count": null,
   "metadata": {
    "colab": {
     "base_uri": "https://localhost:8080/",
     "height": 607
    },
    "executionInfo": {
     "elapsed": 233,
     "status": "ok",
     "timestamp": 1747643776432,
     "user": {
      "displayName": "Татьяна Бушуева",
      "userId": "14369899420098124992"
     },
     "user_tz": -180
    },
    "id": "BhIlnF6PJY1u",
    "outputId": "fa783c48-5f2d-454d-95e5-9b742518fb51"
   },
   "outputs": [],
   "source": [
    "cm = confusion_matrix(y_test, y_pred, labels=np.unique(y_test))\n",
    "\n",
    "fig, ax = plt.subplots(figsize=(6,6))\n",
    "im = ax.imshow(cm, interpolation='nearest', aspect='auto')\n",
    "unique_labels = np.unique(y_test).astype(int)\n",
    "ax.set_xticks(range(9))\n",
    "ax.set_yticks(range(9))\n",
    "ax.set_xticklabels(unique_labels, rotation=45)\n",
    "ax.set_yticklabels(unique_labels)\n",
    "ax.set_ylabel('Истинный класс')\n",
    "ax.set_xlabel('Предсказанный класс')\n",
    "fig.colorbar(im, ax=ax)\n",
    "plt.tight_layout()\n",
    "plt.show()"
   ]
  },
  {
   "cell_type": "code",
   "execution_count": null,
   "metadata": {
    "colab": {
     "base_uri": "https://localhost:8080/"
    },
    "executionInfo": {
     "elapsed": 17,
     "status": "ok",
     "timestamp": 1747643779383,
     "user": {
      "displayName": "Татьяна Бушуева",
      "userId": "14369899420098124992"
     },
     "user_tz": -180
    },
    "id": "kMlF2FtRCmbi",
    "outputId": "2b2bdd9b-e27b-49c7-e2a9-e9b46391c200"
   },
   "outputs": [],
   "source": [
    "# Сначала получим список всех классов\n",
    "classes = np.unique(y_test)\n",
    "\n",
    "# 1) F1-score по классам\n",
    "f1_per_class = f1_score(y_test, y_pred, labels=classes, average=None, zero_division=0)\n",
    "\n",
    "# 2) «Точность по классу» как доля правильно предсказанных среди всех примеров этого класса\n",
    "#    (этот показатель в мультиклассе эквивалентен recall для данного класса)\n",
    "accuracy_per_class = np.array([\n",
    "    np.mean(y_pred[y_test == cls] == cls)\n",
    "    for cls in classes\n",
    "])\n",
    "\n",
    "# 3) Собираем всё в DataFrame\n",
    "df = pd.DataFrame({\n",
    "    'class': classes.astype(str),\n",
    "    'accuracy': accuracy_per_class,\n",
    "    'f1_score': f1_per_class\n",
    "}).set_index('class')\n",
    "\n",
    "print(df)\n"
   ]
  },
  {
   "cell_type": "markdown",
   "metadata": {
    "id": "MpP6ZkLoSn9H"
   },
   "source": [
    "# Частичное обучение"
   ]
  },
  {
   "cell_type": "code",
   "execution_count": null,
   "metadata": {
    "colab": {
     "base_uri": "https://localhost:8080/"
    },
    "executionInfo": {
     "elapsed": 12,
     "status": "ok",
     "timestamp": 1747652603234,
     "user": {
      "displayName": "Татьяна Бушуева",
      "userId": "14369899420098124992"
     },
     "user_tz": -180
    },
    "id": "De63L4TZsHQU",
    "outputId": "3467fd6f-4ac7-4102-a03b-96b05fb36e91"
   },
   "outputs": [],
   "source": [
    "for name, param in model.bert.named_parameters():\n",
    "  print(name)\n",
    "  if 'encoder.layer.' in name:\n",
    "      layer_num = int(name.split('.')[2])\n",
    "      if layer_num >= (model.config.num_hidden_layers - 2):\n",
    "          param.requires_grad = True\n",
    "      else:\n",
    "          param.requires_grad = False"
   ]
  },
  {
   "cell_type": "code",
   "execution_count": null,
   "metadata": {
    "colab": {
     "base_uri": "https://localhost:8080/"
    },
    "executionInfo": {
     "elapsed": 47,
     "status": "ok",
     "timestamp": 1747652654285,
     "user": {
      "displayName": "Татьяна Бушуева",
      "userId": "14369899420098124992"
     },
     "user_tz": -180
    },
    "id": "rgsbyguwsQUg",
    "outputId": "d3eb82ff-1564-4a5c-c829-ec912758d5c6"
   },
   "outputs": [],
   "source": [
    "training_args1 = TrainingArguments(\n",
    "    output_dir=\"checkpoints/\",\n",
    "    per_device_train_batch_size=64,\n",
    "    per_device_eval_batch_size=64,\n",
    "    eval_accumulation_steps=20,\n",
    "    learning_rate=1e-4,\n",
    "\t  num_train_epochs=11,\n",
    "    logging_strategy=\"steps\",\n",
    "    logging_steps=100,\n",
    "    evaluation_strategy=\"steps\",\n",
    "    save_strategy=\"steps\",\n",
    "    save_total_limit=2,\n",
    "    load_best_model_at_end=True,\n",
    "    metric_for_best_model=\"f1\",\n",
    "    report_to=\"tensorboard\",\n",
    ")"
   ]
  },
  {
   "cell_type": "code",
   "execution_count": null,
   "metadata": {
    "id": "DKko0ZkQsIok"
   },
   "outputs": [],
   "source": [
    "trainer = Trainer(\n",
    "    model=model,\n",
    "    args=training_args1,\n",
    "    train_dataset=CustomDataset(X_train, y_train, tokenizer=tokenizer),\n",
    "    eval_dataset=CustomDataset(X_val, y_val, tokenizer=tokenizer),\n",
    "    compute_metrics=compute_metrics,\n",
    ")"
   ]
  },
  {
   "cell_type": "code",
   "execution_count": null,
   "metadata": {
    "colab": {
     "base_uri": "https://localhost:8080/",
     "height": 235
    },
    "executionInfo": {
     "elapsed": 434772,
     "status": "ok",
     "timestamp": 1747653091702,
     "user": {
      "displayName": "Татьяна Бушуева",
      "userId": "14369899420098124992"
     },
     "user_tz": -180
    },
    "id": "7Sl6002lsW1v",
    "outputId": "6d9b7b8d-1437-4648-8281-e027b6e16455"
   },
   "outputs": [],
   "source": [
    "trainer.train()"
   ]
  },
  {
   "cell_type": "code",
   "execution_count": null,
   "metadata": {
    "colab": {
     "base_uri": "https://localhost:8080/",
     "height": 504
    },
    "executionInfo": {
     "elapsed": 214,
     "status": "ok",
     "timestamp": 1747655366665,
     "user": {
      "displayName": "Татьяна Бушуева",
      "userId": "14369899420098124992"
     },
     "user_tz": -180
    },
    "id": "p81UlLpcyoA_",
    "outputId": "7db42d7b-0f6a-43a3-a31d-8d9aacc49769"
   },
   "outputs": [],
   "source": [
    "# Извлекаем историю логирования\n",
    "log_history = trainer.state.log_history\n",
    "\n",
    "# Списки для тренировочной и валидационной потерь и соответствующих шагов\n",
    "train_steps, train_losses = [], []\n",
    "eval_steps, eval_losses = [], []\n",
    "\n",
    "for entry in log_history:\n",
    "    # Тренировочная потеря\n",
    "    if \"loss\" in entry:\n",
    "        # Используем шаг обучения, если он есть, иначе порядковый номер\n",
    "        train_steps.append(entry.get(\"step\", len(train_steps) + 1))\n",
    "        train_losses.append(entry[\"loss\"])\n",
    "    # Валидационная потеря\n",
    "    if \"eval_loss\" in entry:\n",
    "        eval_steps.append(entry.get(\"step\", len(eval_steps) + 1))\n",
    "        eval_losses.append(entry[\"eval_loss\"])\n",
    "\n",
    "# Построение графика\n",
    "plt.figure(figsize=(10, 5))\n",
    "plt.plot(train_steps, train_losses, marker=\"o\", label=\"Training Loss\")\n",
    "plt.plot(eval_steps, eval_losses, marker=\"o\", label=\"Validation Loss\")\n",
    "plt.xlabel(\"Шаг обучения\")\n",
    "plt.ylabel(\"Потеря\")\n",
    "plt.title(\"График тренировочной и валидационной потери\")\n",
    "plt.legend()\n",
    "plt.grid(True)\n",
    "plt.show()\n",
    "plt.savefig('mistral_train_val.png')"
   ]
  },
  {
   "cell_type": "code",
   "execution_count": null,
   "metadata": {
    "id": "XXcAkhAPshVc"
   },
   "outputs": [],
   "source": [
    "test_dataset1 = CustomDataset(X_test, y_test, tokenizer=tokenizer)"
   ]
  },
  {
   "cell_type": "code",
   "execution_count": null,
   "metadata": {
    "colab": {
     "base_uri": "https://localhost:8080/",
     "height": 17
    },
    "executionInfo": {
     "elapsed": 4798,
     "status": "ok",
     "timestamp": 1747655377057,
     "user": {
      "displayName": "Татьяна Бушуева",
      "userId": "14369899420098124992"
     },
     "user_tz": -180
    },
    "id": "WzsHsuh-s-2K",
    "outputId": "88d1242e-7812-495d-903b-4494d8bc5079"
   },
   "outputs": [],
   "source": [
    "test1 = trainer.predict(test_dataset1)"
   ]
  },
  {
   "cell_type": "code",
   "execution_count": null,
   "metadata": {
    "id": "EYoH4Y6PtDU1"
   },
   "outputs": [],
   "source": [
    "y_pred1 = np.argmax(test1[0],axis=1)"
   ]
  },
  {
   "cell_type": "code",
   "execution_count": null,
   "metadata": {
    "colab": {
     "base_uri": "https://localhost:8080/"
    },
    "executionInfo": {
     "elapsed": 5,
     "status": "ok",
     "timestamp": 1747655377072,
     "user": {
      "displayName": "Татьяна Бушуева",
      "userId": "14369899420098124992"
     },
     "user_tz": -180
    },
    "id": "iPkkWQaGtFww",
    "outputId": "ad303a47-5f19-4a02-aafc-ace69567ae99"
   },
   "outputs": [],
   "source": [
    "print(test1[2])"
   ]
  },
  {
   "cell_type": "code",
   "execution_count": null,
   "metadata": {
    "colab": {
     "base_uri": "https://localhost:8080/"
    },
    "executionInfo": {
     "elapsed": 18,
     "status": "ok",
     "timestamp": 1747655456562,
     "user": {
      "displayName": "Татьяна Бушуева",
      "userId": "14369899420098124992"
     },
     "user_tz": -180
    },
    "id": "CWDzk4MRtJ-n",
    "outputId": "6db05759-41bc-4fa4-96f8-0667b9f08d01"
   },
   "outputs": [],
   "source": [
    "classes = np.unique(y_test)\n",
    "\n",
    "# 1) F1-score по классам\n",
    "f1_per_class = f1_score(y_test, y_pred1, labels=classes, average=None, zero_division=0)\n",
    "\n",
    "# 2) «Точность по классу» как доля правильно предсказанных среди всех примеров этого класса\n",
    "#    (этот показатель в мультиклассе эквивалентен recall для данного класса)\n",
    "accuracy_per_class = np.array([\n",
    "    np.mean(y_pred1[y_test == cls] == cls)\n",
    "    for cls in classes\n",
    "])\n",
    "\n",
    "# 3) Собираем всё в DataFrame\n",
    "df = pd.DataFrame({\n",
    "    'class': classes.astype(str),\n",
    "    'accuracy': accuracy_per_class,\n",
    "    'f1_score': f1_per_class\n",
    "}).set_index('class')\n",
    "\n",
    "print(df)"
   ]
  }
 ],
 "metadata": {
  "accelerator": "GPU",
  "colab": {
   "authorship_tag": "ABX9TyOlt7cKbgrgZO8aN+g9Rw14",
   "gpuType": "A100",
   "machine_shape": "hm",
   "mount_file_id": "1LKswSpUPTNO8Itsb7au6-WhQjykWzuLD",
   "provenance": []
  },
  "kernelspec": {
   "display_name": "Python 3",
   "name": "python3"
  },
  "language_info": {
   "name": "python"
  }
 },
 "nbformat": 4,
 "nbformat_minor": 0
}
