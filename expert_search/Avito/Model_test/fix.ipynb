{
 "cells": [
  {
   "cell_type": "code",
   "execution_count": 10,
   "metadata": {},
   "outputs": [],
   "source": [
    "import nbformat\n",
    "\n",
    "# 1) Считываем\n",
    "nb = nbformat.read(\"/Users/admin/Documents/GitHub/znatno/expert_search/Model_test/ Decisition head + DeepPavlov.ipynb\", as_version=nbformat.NO_CONVERT)\n",
    "\n",
    "# 2) Если есть metadata.widgets — проходимся по каждому и ставим пустой state\n",
    "widgets = nb.metadata.get(\"widgets\")\n",
    "if widgets:\n",
    "    for wid, info in widgets.items():\n",
    "        if \"state\" not in info:\n",
    "            info[\"state\"] = {}\n",
    "\n",
    "# 3) Записываем обратно\n",
    "nbformat.write(nb, \"/Users/admin/Documents/GitHub/znatno/expert_search/Model_test/ Decisition head + DeepPavlov.ipynb\")"
   ]
  },
  {
   "cell_type": "code",
   "execution_count": null,
   "metadata": {},
   "outputs": [],
   "source": []
  }
 ],
 "metadata": {
  "kernelspec": {
   "display_name": "base",
   "language": "python",
   "name": "python3"
  },
  "language_info": {
   "codemirror_mode": {
    "name": "ipython",
    "version": 3
   },
   "file_extension": ".py",
   "mimetype": "text/x-python",
   "name": "python",
   "nbconvert_exporter": "python",
   "pygments_lexer": "ipython3",
   "version": "3.11.8"
  }
 },
 "nbformat": 4,
 "nbformat_minor": 2
}
