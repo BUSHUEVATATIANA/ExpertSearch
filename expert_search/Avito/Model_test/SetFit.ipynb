{
 "cells": [
  {
   "cell_type": "code",
   "execution_count": null,
   "metadata": {
    "colab": {
     "base_uri": "https://localhost:8080/"
    },
    "executionInfo": {
     "elapsed": 2730,
     "status": "ok",
     "timestamp": 1747975880265,
     "user": {
      "displayName": "Татьяна Бушуева",
      "userId": "14369899420098124992"
     },
     "user_tz": -180
    },
    "id": "bFFAlJ_urnGj",
    "outputId": "6310790d-d5ac-44c4-a6cd-3105613b15f7"
   },
   "outputs": [],
   "source": [
    "!pip install emoji"
   ]
  },
  {
   "cell_type": "code",
   "execution_count": null,
   "metadata": {
    "colab": {
     "base_uri": "https://localhost:8080/",
     "height": 843
    },
    "executionInfo": {
     "elapsed": 4120,
     "status": "ok",
     "timestamp": 1747975884387,
     "user": {
      "displayName": "Татьяна Бушуева",
      "userId": "14369899420098124992"
     },
     "user_tz": -180
    },
    "id": "Q9QKtUcskVha",
    "outputId": "673c9e44-9e73-4cd0-d7dd-ba3738b0a0ad"
   },
   "outputs": [],
   "source": [
    "!pip install --upgrade --force-reinstall requests"
   ]
  },
  {
   "cell_type": "code",
   "execution_count": null,
   "metadata": {
    "colab": {
     "base_uri": "https://localhost:8080/",
     "height": 1000
    },
    "executionInfo": {
     "elapsed": 61959,
     "status": "ok",
     "timestamp": 1747975977012,
     "user": {
      "displayName": "Татьяна Бушуева",
      "userId": "14369899420098124992"
     },
     "user_tz": -180
    },
    "id": "eO4wuPS-yrWM",
    "outputId": "2fc83393-68b1-4d71-c29b-5898e2d62ddf"
   },
   "outputs": [],
   "source": [
    "!pip install setfit"
   ]
  },
  {
   "cell_type": "code",
   "execution_count": null,
   "metadata": {
    "executionInfo": {
     "elapsed": 17115,
     "status": "ok",
     "timestamp": 1747976003238,
     "user": {
      "displayName": "Татьяна Бушуева",
      "userId": "14369899420098124992"
     },
     "user_tz": -180
    },
    "id": "f1FmB9n6yoUp"
   },
   "outputs": [],
   "source": [
    "from sklearn.metrics import accuracy_score, f1_score\n",
    "import numpy as np\n",
    "import emoji\n",
    "from datasets import Dataset, DatasetDict\n",
    "import re\n",
    "import string\n",
    "import pandas as pd\n",
    "from sklearn.model_selection import train_test_split\n",
    "from setfit import SetFitModel, Trainer, TrainingArguments, sample_dataset\n",
    "from sentence_transformers.losses import CosineSimilarityLoss"
   ]
  },
  {
   "cell_type": "code",
   "execution_count": null,
   "metadata": {
    "executionInfo": {
     "elapsed": 67,
     "status": "ok",
     "timestamp": 1747976013283,
     "user": {
      "displayName": "Татьяна Бушуева",
      "userId": "14369899420098124992"
     },
     "user_tz": -180
    },
    "id": "vpFcy9V7qVBp"
   },
   "outputs": [],
   "source": [
    "df = pd.read_csv('/content/drive/MyDrive/Znatno_personal/Отчетность ВКР/Артефакты/Parsing_avito/my_data22.csv')"
   ]
  },
  {
   "cell_type": "code",
   "execution_count": null,
   "metadata": {
    "executionInfo": {
     "elapsed": 29,
     "status": "ok",
     "timestamp": 1747976013314,
     "user": {
      "displayName": "Татьяна Бушуева",
      "userId": "14369899420098124992"
     },
     "user_tz": -180
    },
    "id": "9H9mLqRiMxNl"
   },
   "outputs": [],
   "source": [
    "df = df.drop('Unnamed: 0', axis=1)"
   ]
  },
  {
   "cell_type": "code",
   "execution_count": null,
   "metadata": {
    "executionInfo": {
     "elapsed": 13,
     "status": "ok",
     "timestamp": 1747976013328,
     "user": {
      "displayName": "Татьяна Бушуева",
      "userId": "14369899420098124992"
     },
     "user_tz": -180
    },
    "id": "KsQ5eOzPrfG1"
   },
   "outputs": [],
   "source": [
    "def convert_emojis_to_words(text):\n",
    "\n",
    "    # Convert emojis to words\n",
    "    text = emoji.replace_emoji(text, replace=\"\")\n",
    "\n",
    "    # Remove the : from the words and replace _ with space\n",
    "    text = text.replace(\"_\", \" \")\n",
    "\n",
    "    return text"
   ]
  },
  {
   "cell_type": "code",
   "execution_count": null,
   "metadata": {
    "colab": {
     "base_uri": "https://localhost:8080/"
    },
    "executionInfo": {
     "elapsed": 23,
     "status": "ok",
     "timestamp": 1747976013352,
     "user": {
      "displayName": "Татьяна Бушуева",
      "userId": "14369899420098124992"
     },
     "user_tz": -180
    },
    "id": "FDusgUqNr6AO",
    "outputId": "813d5e2b-371c-494d-d508-29c35efebb40"
   },
   "outputs": [],
   "source": [
    "symbols_pattern = re.compile(pattern = \"[\"\n",
    "    \"@_!#$%^&*()<>?/\\|}{~√•—\"\n",
    "                       \"]+\", flags = re.UNICODE) #спецсимволы\n",
    "# двойные пробелы\n",
    "space_pattern = re.compile('\\s+')"
   ]
  },
  {
   "cell_type": "code",
   "execution_count": null,
   "metadata": {
    "executionInfo": {
     "elapsed": 15,
     "status": "ok",
     "timestamp": 1747976013392,
     "user": {
      "displayName": "Татьяна Бушуева",
      "userId": "14369899420098124992"
     },
     "user_tz": -180
    },
    "id": "RYf5RaZtr_Q5"
   },
   "outputs": [],
   "source": [
    "def clear_text(text):\n",
    "    \"\"\" Функция удаления спецсимволов\"\"\"\n",
    "    # удаление спецсимволов и emoji\n",
    "    pre = symbols_pattern.sub(r'',text)\n",
    "    pre = convert_emojis_to_words(pre)\n",
    "\n",
    "    return space_pattern.sub(' ', pre)"
   ]
  },
  {
   "cell_type": "code",
   "execution_count": null,
   "metadata": {
    "executionInfo": {
     "elapsed": 21,
     "status": "ok",
     "timestamp": 1747976013420,
     "user": {
      "displayName": "Татьяна Бушуева",
      "userId": "14369899420098124992"
     },
     "user_tz": -180
    },
    "id": "IIZeTQMlsASx"
   },
   "outputs": [],
   "source": [
    "def preprocess_text(text):\n",
    "    \"\"\" Финальная функция для обработки \"\"\"\n",
    "    # srip + lower + punctuation\n",
    "    sentence = (\n",
    "        ''.join([x for x in str(text).strip().lower()])\n",
    "    )\n",
    "\n",
    "    return clear_text(sentence)"
   ]
  },
  {
   "cell_type": "code",
   "execution_count": null,
   "metadata": {
    "executionInfo": {
     "elapsed": 1,
     "status": "ok",
     "timestamp": 1747976013429,
     "user": {
      "displayName": "Татьяна Бушуева",
      "userId": "14369899420098124992"
     },
     "user_tz": -180
    },
    "id": "HD-2KcKxsCwG"
   },
   "outputs": [],
   "source": [
    "df = df.dropna()"
   ]
  },
  {
   "cell_type": "code",
   "execution_count": null,
   "metadata": {
    "executionInfo": {
     "elapsed": 214,
     "status": "ok",
     "timestamp": 1747976013659,
     "user": {
      "displayName": "Татьяна Бушуева",
      "userId": "14369899420098124992"
     },
     "user_tz": -180
    },
    "id": "JZ1MLQsQsJUn"
   },
   "outputs": [],
   "source": [
    "df = df.drop_duplicates()"
   ]
  },
  {
   "cell_type": "code",
   "execution_count": null,
   "metadata": {
    "executionInfo": {
     "elapsed": 18,
     "status": "ok",
     "timestamp": 1747976013700,
     "user": {
      "displayName": "Татьяна Бушуева",
      "userId": "14369899420098124992"
     },
     "user_tz": -180
    },
    "id": "RXDvVxdLsw-Z"
   },
   "outputs": [],
   "source": [
    "df = df.reset_index(drop=True)"
   ]
  },
  {
   "cell_type": "code",
   "execution_count": null,
   "metadata": {
    "colab": {
     "base_uri": "https://localhost:8080/",
     "height": 808
    },
    "executionInfo": {
     "elapsed": 586,
     "status": "ok",
     "timestamp": 1747976014287,
     "user": {
      "displayName": "Татьяна Бушуева",
      "userId": "14369899420098124992"
     },
     "user_tz": -180
    },
    "id": "WkKMh-mjtCJs",
    "outputId": "787dbc85-c8dc-400a-b8a9-580774084546"
   },
   "outputs": [],
   "source": [
    "df"
   ]
  },
  {
   "cell_type": "code",
   "execution_count": null,
   "metadata": {
    "colab": {
     "base_uri": "https://localhost:8080/",
     "height": 429
    },
    "executionInfo": {
     "elapsed": 23,
     "status": "ok",
     "timestamp": 1747976014309,
     "user": {
      "displayName": "Татьяна Бушуева",
      "userId": "14369899420098124992"
     },
     "user_tz": -180
    },
    "id": "snAPpRdmw8ny",
    "outputId": "acbc8ed6-4abb-4c9f-e4dc-254ad532c64b"
   },
   "outputs": [],
   "source": [
    "df['Оценка'].value_counts()"
   ]
  },
  {
   "cell_type": "code",
   "execution_count": null,
   "metadata": {
    "executionInfo": {
     "elapsed": 8,
     "status": "ok",
     "timestamp": 1747976014318,
     "user": {
      "displayName": "Татьяна Бушуева",
      "userId": "14369899420098124992"
     },
     "user_tz": -180
    },
    "id": "qpn2ad2NxPoO"
   },
   "outputs": [],
   "source": [
    "df['Оценка'] = df['Оценка'].apply(lambda x: 9 if x > 9 else x)"
   ]
  },
  {
   "cell_type": "code",
   "execution_count": null,
   "metadata": {
    "executionInfo": {
     "elapsed": 1,
     "status": "ok",
     "timestamp": 1747976014323,
     "user": {
      "displayName": "Татьяна Бушуева",
      "userId": "14369899420098124992"
     },
     "user_tz": -180
    },
    "id": "HWSUaEuRxiys"
   },
   "outputs": [],
   "source": [
    "df['Оценка'] = df['Оценка'] - 1"
   ]
  },
  {
   "cell_type": "code",
   "execution_count": null,
   "metadata": {
    "executionInfo": {
     "elapsed": 2,
     "status": "ok",
     "timestamp": 1747976014334,
     "user": {
      "displayName": "Татьяна Бушуева",
      "userId": "14369899420098124992"
     },
     "user_tz": -180
    },
    "id": "0t9KXCTujvtE"
   },
   "outputs": [],
   "source": [
    "df['info'] = df['О себе'].astype(str) + ' ' + 'Обязанности: ' +  df['Обязанности'].astype(str)+ ' ' + 'Компания: ' + df['Компания'].astype(str) + ' ' + 'Учебные заведения: ' + df['Учебные заведения'].astype(str) + ' ' + 'Стаж работы: ' + df['Стаж работы'].astype(str) + ' ' + 'Образование: ' + df['Образование'].astype(str)"
   ]
  },
  {
   "cell_type": "code",
   "execution_count": null,
   "metadata": {
    "executionInfo": {
     "elapsed": 2,
     "status": "ok",
     "timestamp": 1747976014345,
     "user": {
      "displayName": "Татьяна Бушуева",
      "userId": "14369899420098124992"
     },
     "user_tz": -180
    },
    "id": "yRrS3sSA0oyP"
   },
   "outputs": [],
   "source": [
    "df['info'] = df['info'].apply(preprocess_text)"
   ]
  },
  {
   "cell_type": "code",
   "execution_count": null,
   "metadata": {
    "executionInfo": {
     "elapsed": 0,
     "status": "ok",
     "timestamp": 1747976014349,
     "user": {
      "displayName": "Татьяна Бушуева",
      "userId": "14369899420098124992"
     },
     "user_tz": -180
    },
    "id": "2UIeiHdTxrlu"
   },
   "outputs": [],
   "source": [
    "df, df_test = train_test_split(df, test_size=0.1, random_state=42, stratify = df['Оценка'])"
   ]
  },
  {
   "cell_type": "code",
   "execution_count": null,
   "metadata": {
    "executionInfo": {
     "elapsed": 10,
     "status": "ok",
     "timestamp": 1747976014370,
     "user": {
      "displayName": "Татьяна Бушуева",
      "userId": "14369899420098124992"
     },
     "user_tz": -180
    },
    "id": "42mIFiul0NjQ"
   },
   "outputs": [],
   "source": [
    "df_train, df_eval = train_test_split(df, test_size=0.1, random_state=42, stratify = df['Оценка'])"
   ]
  },
  {
   "cell_type": "code",
   "execution_count": null,
   "metadata": {
    "executionInfo": {
     "elapsed": 4,
     "status": "ok",
     "timestamp": 1747976014381,
     "user": {
      "displayName": "Татьяна Бушуева",
      "userId": "14369899420098124992"
     },
     "user_tz": -180
    },
    "id": "6pgLmaX6Emhc"
   },
   "outputs": [],
   "source": [
    "x_test = df_test['info']\n",
    "y_test = df_test['Оценка']"
   ]
  },
  {
   "cell_type": "code",
   "execution_count": null,
   "metadata": {
    "colab": {
     "base_uri": "https://localhost:8080/",
     "height": 397
    },
    "executionInfo": {
     "elapsed": 16,
     "status": "ok",
     "timestamp": 1747976014398,
     "user": {
      "displayName": "Татьяна Бушуева",
      "userId": "14369899420098124992"
     },
     "user_tz": -180
    },
    "id": "D-NrourUyPYF",
    "outputId": "64e2acc7-df3f-4103-fb70-7f71e03c848c"
   },
   "outputs": [],
   "source": [
    "df_train['Оценка'].value_counts()"
   ]
  },
  {
   "cell_type": "code",
   "execution_count": null,
   "metadata": {
    "executionInfo": {
     "elapsed": 13,
     "status": "ok",
     "timestamp": 1747976014412,
     "user": {
      "displayName": "Татьяна Бушуева",
      "userId": "14369899420098124992"
     },
     "user_tz": -180
    },
    "id": "zYVDw5bcCnM3"
   },
   "outputs": [],
   "source": [
    "train_dataset = Dataset.from_pandas(df_train)\n",
    "eval_dataset = Dataset.from_pandas(df_eval)\n",
    "test_dataset = Dataset.from_pandas(df_test)"
   ]
  },
  {
   "cell_type": "code",
   "execution_count": null,
   "metadata": {
    "executionInfo": {
     "elapsed": 2,
     "status": "ok",
     "timestamp": 1747976014413,
     "user": {
      "displayName": "Татьяна Бушуева",
      "userId": "14369899420098124992"
     },
     "user_tz": -180
    },
    "id": "Naxw-LriB0OZ"
   },
   "outputs": [],
   "source": [
    "# Simulate the few-shot regime by sampling 64 examples per class\n",
    "train_dataset = sample_dataset(train_dataset, label_column=\"Оценка\", num_samples=64)"
   ]
  },
  {
   "cell_type": "code",
   "execution_count": null,
   "metadata": {
    "colab": {
     "base_uri": "https://localhost:8080/",
     "height": 510,
     "referenced_widgets": [
      "7d0160eb418e411ba71e3d73bc383076",
      "f6c1e868613d4960891e5009eee06ed5",
      "71dabdfbbec942bf967ec2147f892e19",
      "f2ffaf7c6b51491a8c50be50a2493c91",
      "37479429306d409592e4d35f0b7127a5",
      "76317ce2be05483997031477f2a978b6",
      "39ea62ee7aed451a94fbb44853b7b1b2",
      "50b9e9373ffd4c61a5aa1a8cb458f99d",
      "ab4620b514af4e0fa3caaf0480ea6372",
      "3e76b5a98c294d3f8d8b099159922f1c",
      "7470310affe744dd9a027eb2db65983d",
      "4ff213c1226447cbab329b3c9f544e88",
      "7640d1e7bdb44c25aba45491a7cbd302",
      "9cc09bccde424edd80c20018219527cf",
      "ed6458090e84439fbf7c07af7f409819",
      "be32b3ff418545e7bfd1a33ab312cab1",
      "85f14003710c48b7a8385d3dfe0ac0e9",
      "8c670a3fd7554a6ea44383b885482455",
      "aff6d24ef839452bacdaf375798bf626",
      "bc8360ebe6fc4b7a89cd0b9940542ca4",
      "842d68f829174c5a996a18fb3d286c60",
      "a53db18003214717998a56be2661b3c5",
      "2d1ee1a058344c6797fd884c0cc8dcf8",
      "a7b3cf1a365f47ea91699bb85abdadd4",
      "8b6428bb423141cba921abba61ad972c",
      "44dcd7d72cd24d558824a2cdc617cb58",
      "e7448d47cae04c40bd5412502533c8e9",
      "451f1c52b0844269a1ee5d18d296dc95",
      "b9641c2bd3ef456bae8dc94e2eb7b42a",
      "4f7b2a2502fa43d8af1a64bdecc4322a",
      "026ecab0348b48ba8f18dc3e1db0f9b0",
      "65facbe4d31f470996973a35de38a5ba",
      "90e11b2fc9614088905bfce48008f11c",
      "bdd8ed914639452699c85c8534a604f6",
      "9ab6a060a70a47c29380e2d21f64937b",
      "12750347f5284a3f9ed44407d92f8004",
      "6422f32c34ec40c88125bf98f9be4d43",
      "b713c2687e824a37a541506439de0b3c",
      "b4b9b4d358d8464b9b8b1c7560f5279c",
      "5aa13aff6cb14dfc8e684de5d12b4f4c",
      "a61b0ee1dff847aa8649d71f12a27236",
      "820ee19a7902460184f4a3f22b43adee",
      "8eb102a4ccff414a8bd594599eb32ea0",
      "7e87b0341cc44ec3aedd10cf6c905f88",
      "c8e390d865ec42c69415f5af85d01b63",
      "cd21585132414858bcf23486c411eafd",
      "a9a50f46aed14d78afaa2a5be28f8c16",
      "09e2081e609045399a44916815de2c51",
      "65f1d13c95bc4428ab55bcc9404d673b",
      "8e5f718145944616ae2de42f577c5c3b",
      "3e4b1dd6539948a6ac38239d300b2c3c",
      "77c8720c4ce345bf9e7b6c7f1a671acc",
      "522bcfe68b8249fc8b54aabd64fbcd0b",
      "3ac9b983b1134f93a2da5a13eb8c9c58",
      "39dcafb15bcd45e8a222a8670962d2ba",
      "5accf9e0134642cdb7049150f9a420fb",
      "6431fb51dafb4a50b640f4dbf55cdb4e",
      "f700bda90bf34954bcfdf65c37862d53",
      "2e832a81ec6742e789b946ea45571c1c",
      "0e718253e29a45e98e8560dcfbae3229",
      "d40dd6b10cf44900b80b6dc6bfa2fff8",
      "bf88139df43f4521b0460d66da0d4933",
      "d821343f81864446a41f23a19270dd14",
      "891fc6d377b84fb69b385361877ba1d3",
      "c30e09e5dd834d5ca8bec8e78d6e76e3",
      "4c7272256d91418dac7a076c956cf304",
      "82d8589102ad4554ab3067b92c8d2958",
      "6555b7f652c4465c9f0b376ab3112d33",
      "18f28b84ac1c4c43af72acd7d40d515a",
      "0e903d8b333648d68f2c1e8b27e0d60c",
      "7b75b00c5ba848aea53fc4361cfab8b8",
      "170b354078e14233b537a283bce26149",
      "bbe03113d9cd4f8a8c95ad821449a711",
      "1f3b5f97898047c18a902c29ca30d473",
      "b3f97743752e4a32935fd118c217541c",
      "3ca6d2b7ddd3490482e89a845f38b938",
      "c351a15b923a4c8ca53bb125b3087d04",
      "16d47c545f91479bb8d1dc9f764ca88c",
      "5bfa9b89804541e3a286b45e72eae77e",
      "afa1abaff4534141ac8f369417b97659",
      "be17c3b22be54ce087c02e30a6afc3ec",
      "54fa940b7e1747a08f70c7a9d2696490",
      "6c4d3ce80b144c8991e699eb048e5c03",
      "079a2ee9f47049c4a92eb9f3ab265113",
      "f516249420df43418a0616f8dbd84008",
      "e942933e707740599ed7e28108f25133",
      "7dcdceff55814b96a4f31011a29bee4d",
      "bf92dc6ad9fe487c8f5da0a2ba933b74",
      "c38766504fef4b318e0f359e04e78ad4",
      "c7aec50a29c04da7a7f4e32a60fb31d7",
      "9d7f2618e4464973ba48c7fc09da0bec",
      "7dcb25dba3a74fb1ae87112663c07a20",
      "5366f2a0ebcb47679aa86cf2d2ecda64",
      "5fb8287475f343a6ad9659a0ecd534b3",
      "dadc6af4beec4a7a8c378c657fc6e0ab",
      "4f935eb30b6847bbbcdf658e7e18242e",
      "c009d2c8ba4349489f1d19fc9dcdc815",
      "a5193d5de2fa422c9e9c67176c8f2413",
      "5127ffc204174729a6b75bfb86d63703",
      "35974453a87f4c49b90ff14465ab3dbb",
      "5b9911320042417cbf601a504f596372",
      "b8fe71f40d7449c58ee1acced352b62d",
      "9900664eaa834e93aa3748a43c5e145a",
      "fc145e4b3d464d41ac3dce4c6d6819f8",
      "2ad642abfe3b463cbd534c581d858b37",
      "d9779b31d825448c8a46f02733f8a5d5",
      "1ee51c32e1ab4644b6a4baafccfbd014",
      "8e9e951fd1cd44aeb4e00f823f24bba8",
      "98d817a19d344874929db77158e6631c",
      "51181072617a44b7b6f1ce57a8f240bc",
      "c174255d2e8b4af8938067c200de4e55",
      "885de19379284327b00983124391d611",
      "683521c459c545519c27189f8da3cbd4",
      "67536b1ebcce4f16b687b227f4901b45",
      "84cb75fa63814530b58cf97c0f770871",
      "ebfe33045d4e4366973a4af2b681deb1",
      "ce3b931bcf104aceb29cc90376b80d4b",
      "c9b420f2d1ff4ce08e76ce22833d9ebe",
      "f2a7789387cd4f6ca9d780b86113da35",
      "10e7a4784e8b4523b759f447a7fa2e6e",
      "be0d6fea2512459c9a504c3ac745bb08"
     ]
    },
    "executionInfo": {
     "elapsed": 13871,
     "status": "ok",
     "timestamp": 1747976028285,
     "user": {
      "displayName": "Татьяна Бушуева",
      "userId": "14369899420098124992"
     },
     "user_tz": -180
    },
    "id": "7nO2JCE_zvip",
    "outputId": "cf3b2ae3-9556-4a57-b788-633748d65aea"
   },
   "outputs": [],
   "source": [
    "# Load a SetFit model from Hub\n",
    "num_classes = 9\n",
    "model = SetFitModel.from_pretrained(\n",
    "    \"intfloat/multilingual-e5-large-instruct\",\n",
    "     labels = [0,1,2,3,4,5,6,7,8]\n",
    ")\n"
   ]
  },
  {
   "cell_type": "code",
   "execution_count": null,
   "metadata": {
    "colab": {
     "base_uri": "https://localhost:8080/"
    },
    "executionInfo": {
     "elapsed": 49,
     "status": "ok",
     "timestamp": 1747976028336,
     "user": {
      "displayName": "Татьяна Бушуева",
      "userId": "14369899420098124992"
     },
     "user_tz": -180
    },
    "id": "GXPZj48k94o5",
    "outputId": "bc12ef78-a276-43c2-db7c-0ddd5460134b"
   },
   "outputs": [],
   "source": [
    "args = TrainingArguments(\n",
    "    #output_dir=\"//content/drive/MyDrive/SetFit2/\",\n",
    "    batch_size=16,\n",
    "    num_epochs=2,\n",
    "    body_learning_rate = 1e-7,\n",
    "    use_amp = True,\n",
    "    eval_strategy=\"steps\",\n",
    "    save_strategy=\"steps\",\n",
    "    logging_strategy=\"steps\",\n",
    "    logging_steps=500,\n",
    "    evaluation_strategy=\"steps\",\n",
    "    #logging_dir = \"//content/drive/MyDrive/SetFit/logs\",\n",
    "    report_to = \"tensorboard\",\n",
    ")"
   ]
  },
  {
   "cell_type": "code",
   "execution_count": null,
   "metadata": {
    "colab": {
     "base_uri": "https://localhost:8080/",
     "height": 84,
     "referenced_widgets": [
      "d539de12283d4f15a95ce1269378546a",
      "f8a7611ac0584a1e91b6eeafea7d9a65",
      "2e11dea2868f4a26a4c58f51e2d17663",
      "02a21f4e4b544d438f878e3d27d46c8b",
      "eaec1415a9c24152999da2776d9188bf",
      "b580e798194c434e8385bc5befab9483",
      "92cdd0f699bc4ba4ac60486e20d8b3b4",
      "ad5027b8a1c34049bbad884b0f269270",
      "ee22b78c609340ad8b467d6d1c2d8ac2",
      "2d797ab3e9d64161b61561ed4b10fad4",
      "750d443c7e9a42b987722171290fad68"
     ]
    },
    "executionInfo": {
     "elapsed": 302,
     "status": "ok",
     "timestamp": 1747976028648,
     "user": {
      "displayName": "Татьяна Бушуева",
      "userId": "14369899420098124992"
     },
     "user_tz": -180
    },
    "id": "FPaMz989_3W7",
    "outputId": "886bc597-fa31-4449-ed00-51ad458bfe6e"
   },
   "outputs": [],
   "source": [
    "trainer = Trainer(\n",
    "    model=model,\n",
    "    args=args,\n",
    "    train_dataset=train_dataset,\n",
    "    eval_dataset=eval_dataset,\n",
    "    metric=\"accuracy\",\n",
    "    column_mapping={\"info\": \"text\", \"Оценка\": \"label\"}  # Map dataset columns to text/label expected by trainer\n",
    ")"
   ]
  },
  {
   "cell_type": "code",
   "execution_count": null,
   "metadata": {
    "colab": {
     "base_uri": "https://localhost:8080/",
     "height": 1000
    },
    "executionInfo": {
     "elapsed": 11559042,
     "status": "ok",
     "timestamp": 1748039018348,
     "user": {
      "displayName": "Татьяна Бушуева",
      "userId": "14369899420098124992"
     },
     "user_tz": -180
    },
    "id": "AL-H3N5iA6NS",
    "outputId": "f83caea4-8a7e-458e-cb8e-d273ae8b682f"
   },
   "outputs": [],
   "source": [
    "trainer.train()"
   ]
  },
  {
   "cell_type": "code",
   "execution_count": null,
   "metadata": {
    "colab": {
     "base_uri": "https://localhost:8080/",
     "height": 84,
     "referenced_widgets": [
      "b00bb48e4ffc4ed5bf6af52447cacb2f",
      "71c3f9cd06f84f04ac7dde9bd6127093",
      "d79ca0dfcc7e4955b494028b5bd54bac",
      "63de9e5f206943ec9e9f67cd01ea077e",
      "ddfa1d5f4a6d41eda90c76399118d012",
      "0f871e6966ae459fb1db38c9384ce863",
      "135e01933ee84907b8cd437058f7480d",
      "8a535c6a4d8f4821b39eee51a419ca65",
      "a39ec71ab5e04f15938c79c525b69cd1",
      "8765de14060843f7abfae0e0410a7b25",
      "710159b0b2b643e8a5a1b27f4cea17e0"
     ]
    },
    "executionInfo": {
     "elapsed": 1939,
     "status": "ok",
     "timestamp": 1748039020296,
     "user": {
      "displayName": "Татьяна Бушуева",
      "userId": "14369899420098124992"
     },
     "user_tz": -180
    },
    "id": "0dJtQMg1AnRZ",
    "outputId": "bcb642b1-9508-4783-e10d-a8fc1e80950d"
   },
   "outputs": [],
   "source": [
    "metrics = trainer.evaluate()\n",
    "metrics"
   ]
  },
  {
   "cell_type": "code",
   "execution_count": null,
   "metadata": {
    "executionInfo": {
     "elapsed": 1101,
     "status": "ok",
     "timestamp": 1748039021399,
     "user": {
      "displayName": "Татьяна Бушуева",
      "userId": "14369899420098124992"
     },
     "user_tz": -180
    },
    "id": "2_-lpF_TEajR"
   },
   "outputs": [],
   "source": [
    "pred = model.predict(test_dataset['info'])"
   ]
  },
  {
   "cell_type": "code",
   "execution_count": null,
   "metadata": {
    "colab": {
     "base_uri": "https://localhost:8080/"
    },
    "executionInfo": {
     "elapsed": 28,
     "status": "ok",
     "timestamp": 1748039021434,
     "user": {
      "displayName": "Татьяна Бушуева",
      "userId": "14369899420098124992"
     },
     "user_tz": -180
    },
    "id": "Ubd0enwkEw_v",
    "outputId": "9bc83d5c-53e5-447f-edf7-6202714a8ae0"
   },
   "outputs": [],
   "source": [
    "print('Accuracy:', accuracy_score(test_dataset['Оценка'], pred))\n",
    "print('F1 score:', f1_score(test_dataset['Оценка'], pred, average='weighted'))"
   ]
  },
  {
   "cell_type": "code",
   "execution_count": null,
   "metadata": {
    "id": "p7Yk9pUGHNOn"
   },
   "outputs": [],
   "source": [
    "classes = np.unique(test_dataset['Оценка'])\n",
    "y_test = np.array(test_dataset['Оценка'])\n",
    "y_pred = np.array(pred)\n",
    "\n",
    "# 1) F1-score по классам\n",
    "f1_per_class = f1_score(y_test, y_pred, labels=classes, average=None, zero_division=0)\n",
    "\n",
    "# 2) «Точность по классу» как доля правильно предсказанных среди всех примеров этого класса\n",
    "#    (этот показатель в мультиклассе эквивалентен recall для данного класса)\n",
    "accuracy_per_class = np.array([\n",
    "    np.mean(y_pred[y_test == cls] == cls)\n",
    "    for cls in classes\n",
    "])\n",
    "\n",
    "# 3) Собираем всё в DataFrame\n",
    "df = pd.DataFrame({\n",
    "    'class': classes.astype(str),\n",
    "    'accuracy': accuracy_per_class,\n",
    "    'f1_score': f1_per_class\n",
    "}).set_index('class')\n",
    "\n",
    "print(df)"
   ]
  }
 ],
 "metadata": {
  "accelerator": "GPU",
  "colab": {
   "authorship_tag": "ABX9TyNXT6vxVz/v7QLyOLYb9C1q",
   "gpuType": "A100",
   "machine_shape": "hm",
   "mount_file_id": "1zoffDe2MJtliWe91Imq3Gk0bSg4uJ-Nj",
   "provenance": []
  },
  "kernelspec": {
   "display_name": "Python 3",
   "name": "python3"
  },
  "language_info": {
   "name": "python"
  }
 },
 "nbformat": 4,
 "nbformat_minor": 0
}
