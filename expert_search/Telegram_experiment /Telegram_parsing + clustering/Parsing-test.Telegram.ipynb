{
 "cells": [
  {
   "cell_type": "code",
   "execution_count": 1,
   "id": "bfab2762",
   "metadata": {},
   "outputs": [],
   "source": [
    "import pandas as pd\n",
    "import numpy as np\n",
    "from telethon import TelegramClient\n",
    "import csv"
   ]
  },
  {
   "cell_type": "code",
   "execution_count": 43,
   "id": "7a513bcf",
   "metadata": {},
   "outputs": [],
   "source": [
    "api_id = your_api_id\n",
    "api_hash = 'your_api_hash'\n",
    "phone = 'your_number_phone'\n",
    "\n",
    "client = TelegramClient(phone, api_id, api_hash)\n"
   ]
  },
  {
   "cell_type": "code",
   "execution_count": 48,
   "id": "eff1de22",
   "metadata": {},
   "outputs": [],
   "source": [
    "#Соединение с API\n",
    "try:\n",
    "    await client.connect()\n",
    "except OSError:\n",
    "    print('Failed to connect')"
   ]
  },
  {
   "cell_type": "code",
   "execution_count": 49,
   "id": "f9ef78a0",
   "metadata": {},
   "outputs": [],
   "source": [
    "#Название каналов для парсинга\n",
    "chat_name = 'LOVEPODOLOGY Педикюр/Подология/обучение'\n",
    "chat_name1 = 'КЛУБ РОСКОШНЫХ'\n",
    "chat_flood = 'РИВ ГОШ Admin'\n",
    "telegram_channel = 'Роскошь бутиков'\n",
    "telegram_channel1 = \"don't touch my face\"\n",
    "telegram_channel2 = 'Надо брать'\n",
    "telegram_channel3 = 'KOSMETOS'\n",
    "telegram_channel4 = 'Золотое Яблоко'\n",
    "chat_name2 = 'Berni girl'"
   ]
  },
  {
   "cell_type": "code",
   "execution_count": 52,
   "id": "dc5c717d",
   "metadata": {},
   "outputs": [
    {
     "name": "stdout",
     "output_type": "stream",
     "text": [
      "-1001105621931: TVARI_PO_PARE 🖤\n",
      "-1001429590454: КОНТЕКСТ\n",
      "     234375163: Ирина\n",
      "-1001120972650: Косметолога.нет\n",
      "-1002469458616: МФТИ осень 2024\n",
      "   -4059667908: ZNATNO team chat\n",
      "-1002134293727: ПММО 2024 – ЦК МФТИ_весенний набор\n",
      "-1002125958829: Центральный район\n",
      "-1001230524240: Нестыдные квартиры | Петербург\n",
      "-1001909598727: Чат Косметологов России | Косметологи чат | Чат косметологов\n",
      "-1001720833502: Data Secrets\n",
      "-1002173789044: ЦК МФТИ: Хакатон осень 2024\n",
      "-1001150855655: gonzo-обзоры ML статей\n",
      "-1001945617889: КЛУБ РОСКОШНЫХ\n",
      "-1001973008789: Науки о данных МФТИ-2023\n",
      "     784542938: Полина\n",
      "   -4556547461: ФОТОСЕТ 21.10\n",
      "-1002450375623: СС_Znatno/Андрей Богатырь\n",
      "-1002213724241: mine dandelion wine\n",
      "    2049879540: М. М.\n",
      "     486920418: T B\n",
      "-1001350899337: LOVEPODOLOGY Педикюр/Подология/обучение\n",
      "    1014325703: Jb\n",
      "    5889307435: Бонусная система Mecca\n",
      "    1120984265: Любовь\n",
      "   -4559971116: хакатон, физтешный курс, mipt dudes\n",
      "-1002100701673: ЦК МФТИ_Весенний набор 2024\n",
      "    1264790614: Dina 🇬🇧🇺🇸 | English Teacher\n",
      "    1962436045: Анастасия Solvery\n",
      "    1725512119: Solvery Friendly Bot\n",
      "    6141330717: solvery_bot\n",
      "    5226559104: ✊hitvpnbot\n",
      "-1001442556844: Frutidimare\n",
      "     159461233: Убийца Улиц\n",
      "-1002086909358: ТехКоманда Znatno\n",
      "-1001717775755: Berni girl\n",
      "-1001679122486: Бьюти чат: косметологи, дерматологи\n",
      "    1985737506: Кошелёк\n",
      "     712198630: Ekaterina Kiseleva\n",
      "    5483932582: Шарти Бот\n",
      "    5158479391: Анастасия Щукова\n",
      "     325575131: Panda\n",
      "    1720251669: Nathan\n",
      "    7155090824: Mentor in Tech Bot\n",
      "     926385157: Натали Васькова 🕷️\n",
      "-1001638349566: Кривоносова 🕷️\n",
      "    1022428698: Юрий Самойлов\n",
      "     382753478: Vladislav Dizhenin\n",
      "    7345922287: Гриша Желебончик ❤️\n",
      "    6987970239: Ultima Yandex Concierge\n",
      "    5141519932: Olya\n",
      "-1002175253959: fakeoff\n",
      "     466959765: NaparahBot\n",
      "     114910611: Илона\n",
      "        777000: Telegram\n",
      "      44819791: Tima Sergeev\n",
      "    1799770555: Помощник ЕИРЦ СПб\n",
      "    1456447155: Ната\n",
      "     658992228: Ros\n",
      "     776810163: Artem Prisiazhniuk\n",
      "     222522915: Савелий\n",
      "     270616040: Артем Пайтон\n",
      "    5777206289: Istvan Simon\n",
      "    5056848334: M\n",
      "    -735711998: New privat room\n",
      "    5170789417: Anton S. Купить рекламу 💵\n",
      "   -4228187488: Практика_2 команда new\n",
      "     241152612: Антон\n",
      "-1001878418988: Ул.Фурштатская СПБ\n",
      "   -4134802701: Style Assist\n",
      "      94640771: Zky Abdurashitov\n",
      "   -4216390221: Команда new (проектный практикум DS)\n",
      "     345493219: Natalia Petrova\n",
      "    5791898232: Dmitry Pelik\n",
      "-1002030879647: Solvery |Татьяна / Игорь| Data Engineering\n",
      "     713005655: Кристина Цымлянская\n",
      "-1001752455549: МФТИ 2023 | Науки о данных\n",
      "    6885844327: Яндекс ID\n",
      "     953905218: Ленка\n",
      "     542034104: L S R\n",
      "    1327993560: hitvpn_support\n",
      "    6638817837: Менеджер\n",
      "     379676838: Служба доставки CDEK\n",
      "     364542631: F222\n",
      "    5139470068: Aster café\n",
      "   -4039042206: Методология НИ\n",
      "-1002038814366: Команда 25\n",
      "      55458512: Honey Honey\n",
      "     754034719: Назаров Михаил\n",
      "      93372553: BotFather\n",
      "     655392203: \n",
      "     416048814: Загир\n",
      "   -4015957878: Презентация по английскому 12.12\n",
      "   -4089409449: Хакатон 2023\n",
      "     131509617: ALEKSEI\n",
      "     350954985: Lena\n",
      "     660799732: Вероника\n",
      "    6276842634: Olga Medvedeva\n",
      "     664529995: Макс Пахолюк\n",
      "    -947708974: Науки о данных МФТИ-2023\n",
      "    1453944029: YULIAWAVE BRAND\n",
      "    5088176967: Olgs Medvedeva\n",
      "    1139619924: Самокат: Поддержка по заказам\n",
      "    1112792857: \n",
      "-1001812433587: NEW YEAR CHALLENGE\n",
      "    1293675882: Мои подписки | Paywall\n",
      "     320318181: Ву\n",
      "    6195334710: 5\n",
      "     329991574: Ali Baba\n",
      "    -888301595: фотосет 29.11.22\n",
      "    5937962572: Риелтор\n",
      "    5691795748: Такси\n",
      "-1001810053868: ИНФО: booty challenge 🍑\n",
      "     652010392: Екатерина Войтехович\n",
      "    5728052334: \n",
      "-1001853984683: booty challenge ADVANCED 😎\n",
      "-1001546923800: INFO: марафон STAY HEALTHY\n",
      "    5507363723: \n",
      "     201588851: Eugenia\n",
      "    5591581935: Александр\n",
      "    5489413740: Надежла\n",
      "    5556765737: Оля\n",
      "    1125196538: Кристинка\n",
      "    5488217113: Veronika\n",
      "     497108150: Танцы\n",
      "     698866158: B\n",
      "    5126742074: \n",
      "    5208792383: Marc\n",
      "    5184888220: Артур Сантехник\n",
      "-1001687062101: Fashion Champagne\n",
      "-1001703658088: INFO: BE ACTIVE 2.0\n",
      "    5118777813: Лена\n",
      "    5225704563: Влад Реал\n",
      "-1001503695563: Общение. Марафон «Красивые ягодицы»\n",
      "    1490241373: Valeria\n",
      "    5267981436: Пндрей\n",
      "-1001648766494: Съемка 26.02 БОДИАРТ\n",
      "    5272259715: Васиф\n",
      "    -772613726: Съемка 26.02 БОДИАРТ\n",
      "     300846284: Злой человек\n",
      "    5155677840: Континент Пак\n",
      "    5045157737: Ми\n",
      "    5066620718: \n",
      "     294202667: Иван Жемчугов\n",
      "    2102223778: Алнди\n",
      "     988194565: \n",
      "    -528998629: Хеллоуин съемка 9.10\n",
      "    1234669906: LSD Clothing\n",
      "    1940666211: \n",
      "    1964851613: \n",
      "    1968076710: Тамара Московски\n",
      "    1113679819: \n",
      "    1940106730: Ж\n",
      "    1922721596: \n",
      "    -581156032: Съёмка 19.07\n",
      "     947324752: Vera Pak\n",
      "    1259271684: \n",
      "    1775132646: Jim Hutchison\n",
      "    1884722757: Вера Петровна\n",
      "    1740914365: Ангелина\n",
      "    1833789089: Лена Бар\n",
      "     343496377: Юля Кан\n",
      "     662222659: Наташа\n",
      "    1796251723: Федор\n",
      "    1766687860: \n",
      "     758508100: Эрик\n",
      "    1634496824: Поставщик\n",
      "     578314794: Гнрол\n",
      "    1489299014: Алия\n",
      "     595280457: Аслиддин Кучкаров\n",
      "    1589524119: Андрей Трис Фуд\n",
      "    1530763206: Регина Клен\n",
      "    1458312956: Настя В\n",
      "    -453810692: Тайная вечеря\n",
      "     305426608: Яндекс.Еда\n",
      "    1203309271: тина\n",
      "-1001349549623: OMG CLUB\n",
      "    1363967218: Денис Владимирович\n",
      "    1349893075: Катя Касса\n",
      "    1279785442: 1\n",
      "    -434610163: )))\n",
      "    1036414835: Ширинахон АББОСБЕК Салмонбек Адажониси.\n",
      "    1021124948: \n",
      "    1082989688: \n",
      "    1087148029: Пиво\n",
      "    1374016516: \n",
      "    1166426874: Татьяна Те Русал\n",
      "    1283891682: \n",
      "    1259662009: \n",
      "    1263460074: \n",
      "    1072737781: \n",
      "     843213475: \n",
      "    1097657126: \n",
      "     938836903: \n",
      "    1098583986: \n",
      "    1034779514: \n",
      "    1058922306: Лиза Стажер\n",
      "     954479275: \n",
      "     404917149: \n",
      "     819925644: Марина)\n",
      "     921460471: Мария Емельянова\n",
      "     909559818: Катя Офик\n",
      "-1001448332530: Вместе 🙌🏻\n",
      "     896057802: 3\n",
      "     946835004: \n",
      "     778876719: \n",
      "    -352059317: 🖤\n",
      "     989589664: \n",
      "     961897195: Стасон\n",
      "     911938654: Рол\n",
      "     748040594: Лиза\n",
      "     764865200: Федор\n",
      "     897642805: Тарьяна\n",
      "     884282550: \n",
      "     849807174: \n",
      "     721859018: \n",
      "     886824718: \n",
      "     772835562: Тренинг Менеджер\n",
      "     764634849: \n",
      "     541392323: Хеля\n"
     ]
    }
   ],
   "source": [
    "#Список доступных\n",
    "async for dialog in client.iter_dialogs():\n",
    "    print('{:>14}: {}'.format(dialog.id, dialog.title))"
   ]
  },
  {
   "cell_type": "markdown",
   "id": "a72b4d56",
   "metadata": {},
   "source": [
    "# Парсинг участников из телеграм-чатов"
   ]
  },
  {
   "cell_type": "code",
   "execution_count": 7,
   "id": "03efd5e7",
   "metadata": {},
   "outputs": [
    {
     "name": "stdout",
     "output_type": "stream",
     "text": [
      "Парсинг участников группы успешно выполнен.\n"
     ]
    }
   ],
   "source": [
    "with open(\"membersChat.csv\",\"w\",encoding='UTF-8') as f:\n",
    "    writer = csv.writer(f,delimiter=\",\",lineterminator=\"\\n\")\n",
    "    writer.writerow(['username','name'])\n",
    "    for user in users:\n",
    "        if user.username is not None:\n",
    "            if user.username:\n",
    "                   username= user.username\n",
    "            else:\n",
    "                   username= \"\"\n",
    "            if user.first_name:\n",
    "                first_name= user.first_name\n",
    "            else:\n",
    "                first_name= \"\"\n",
    "            if user.last_name:\n",
    "                last_name= user.last_name\n",
    "            else:\n",
    "                last_name= \"\"\n",
    "            name= (first_name + ' ' + last_name).strip()\n",
    "            writer.writerow([username,name])\n",
    "\n",
    "print('Парсинг участников группы успешно выполнен.')"
   ]
  },
  {
   "cell_type": "markdown",
   "id": "334b434e",
   "metadata": {},
   "source": [
    "# Парсинг сообщений в телеграм чатах"
   ]
  },
  {
   "cell_type": "code",
   "execution_count": 17,
   "id": "cfce6e5a",
   "metadata": {},
   "outputs": [
    {
     "name": "stdout",
     "output_type": "stream",
     "text": [
      "Парсинг сообщений группы успешно выполнен.\n"
     ]
    }
   ],
   "source": [
    "with open(\"chat_msg.csv\", \"w+\", encoding=\"UTF-8\") as f:\n",
    "    writer = csv.writer(f, delimiter=\",\", lineterminator=\"\\n\")\n",
    "    writer.writerow([\"message_id\",\"message_text\"])\n",
    "    async for message in client.iter_messages(chat_name, search='рекомендую'):\n",
    "        writer.writerow([message.id, message.text])     \n",
    "print(\"Парсинг сообщений группы успешно выполнен.\")"
   ]
  },
  {
   "cell_type": "code",
   "execution_count": 9,
   "id": "3c6ae013",
   "metadata": {},
   "outputs": [
    {
     "name": "stdout",
     "output_type": "stream",
     "text": [
      "Парсинг сообщений группы успешно выполнен.\n"
     ]
    }
   ],
   "source": [
    "with open(\"chat_msg.csv\", \"w+\", newline='', encoding=\"UTF-8\") as f:\n",
    "    writer = csv.writer(f, delimiter=\",\", lineterminator=\"\\n\")\n",
    "    writer.writerow([\"message_id\",\"message_text\"])\n",
    "    async for message in client.iter_messages(chat_name, search='советую'):\n",
    "        writer.writerow([message.id, message.text])     \n",
    "print(\"Парсинг сообщений группы успешно выполнен.\")"
   ]
  },
  {
   "cell_type": "code",
   "execution_count": 38,
   "id": "6f1ea8a4",
   "metadata": {},
   "outputs": [
    {
     "name": "stdout",
     "output_type": "stream",
     "text": [
      "Парсинг сообщений группы успешно выполнен.\n"
     ]
    }
   ],
   "source": [
    "with open(\"chat_flood.csv\", \"w+\", newline='', encoding=\"UTF-8\") as f:\n",
    "    writer = csv.writer(f, delimiter=\",\", lineterminator=\"\\n\")\n",
    "    writer.writerow([\"message_id\",\"message_text\"])\n",
    "    async for message in client.iter_messages(chat_flood, limit = 800):\n",
    "        writer.writerow([message.id, message.text])     \n",
    "print(\"Парсинг сообщений группы успешно выполнен.\")"
   ]
  },
  {
   "cell_type": "code",
   "execution_count": 12,
   "id": "970b4df5",
   "metadata": {},
   "outputs": [
    {
     "data": {
      "text/plain": [
       "(878, 2)"
      ]
     },
     "execution_count": 12,
     "metadata": {},
     "output_type": "execute_result"
    }
   ],
   "source": [
    "chat1 = pd.read_csv('chat_msg.csv')\n",
    "chat1.shape"
   ]
  },
  {
   "cell_type": "code",
   "execution_count": 38,
   "id": "50644ed7",
   "metadata": {},
   "outputs": [
    {
     "data": {
      "text/html": [
       "<div>\n",
       "<style scoped>\n",
       "    .dataframe tbody tr th:only-of-type {\n",
       "        vertical-align: middle;\n",
       "    }\n",
       "\n",
       "    .dataframe tbody tr th {\n",
       "        vertical-align: top;\n",
       "    }\n",
       "\n",
       "    .dataframe thead th {\n",
       "        text-align: right;\n",
       "    }\n",
       "</style>\n",
       "<table border=\"1\" class=\"dataframe\">\n",
       "  <thead>\n",
       "    <tr style=\"text-align: right;\">\n",
       "      <th></th>\n",
       "      <th>message_id</th>\n",
       "      <th>message_text</th>\n",
       "    </tr>\n",
       "  </thead>\n",
       "  <tbody>\n",
       "    <tr>\n",
       "      <th>0</th>\n",
       "      <td>1739319</td>\n",
       "      <td>А что за сыворотка в ролике?</td>\n",
       "    </tr>\n",
       "    <tr>\n",
       "      <th>1</th>\n",
       "      <td>1739318</td>\n",
       "      <td>5 минимум</td>\n",
       "    </tr>\n",
       "    <tr>\n",
       "      <th>2</th>\n",
       "      <td>1739317</td>\n",
       "      <td>Есте лаудер</td>\n",
       "    </tr>\n",
       "    <tr>\n",
       "      <th>3</th>\n",
       "      <td>1739316</td>\n",
       "      <td>Много</td>\n",
       "    </tr>\n",
       "    <tr>\n",
       "      <th>4</th>\n",
       "      <td>1739315</td>\n",
       "      <td>Настроение просто великолепное!\\nСкоро отпуск,...</td>\n",
       "    </tr>\n",
       "    <tr>\n",
       "      <th>...</th>\n",
       "      <td>...</td>\n",
       "      <td>...</td>\n",
       "    </tr>\n",
       "    <tr>\n",
       "      <th>795</th>\n",
       "      <td>1738514</td>\n",
       "      <td>Givenchy Mister light</td>\n",
       "    </tr>\n",
       "    <tr>\n",
       "      <th>796</th>\n",
       "      <td>1738513</td>\n",
       "      <td>2</td>\n",
       "    </tr>\n",
       "    <tr>\n",
       "      <th>797</th>\n",
       "      <td>1738512</td>\n",
       "      <td>The Saem</td>\n",
       "    </tr>\n",
       "    <tr>\n",
       "      <th>798</th>\n",
       "      <td>1738511</td>\n",
       "      <td>Самый лучший консилер для меня полноценный сон...</td>\n",
       "    </tr>\n",
       "    <tr>\n",
       "      <th>799</th>\n",
       "      <td>1738510</td>\n",
       "      <td>12</td>\n",
       "    </tr>\n",
       "  </tbody>\n",
       "</table>\n",
       "<p>800 rows × 2 columns</p>\n",
       "</div>"
      ],
      "text/plain": [
       "     message_id                                       message_text\n",
       "0       1739319                       А что за сыворотка в ролике?\n",
       "1       1739318                                          5 минимум\n",
       "2       1739317                                        Есте лаудер\n",
       "3       1739316                                              Много\n",
       "4       1739315  Настроение просто великолепное!\\nСкоро отпуск,...\n",
       "..          ...                                                ...\n",
       "795     1738514                              Givenchy Mister light\n",
       "796     1738513                                                  2\n",
       "797     1738512                                           The Saem\n",
       "798     1738511  Самый лучший консилер для меня полноценный сон...\n",
       "799     1738510                                                 12\n",
       "\n",
       "[800 rows x 2 columns]"
      ]
     },
     "execution_count": 38,
     "metadata": {},
     "output_type": "execute_result"
    }
   ],
   "source": [
    "floods = pd.read_csv('chat_flood.csv')"
   ]
  },
  {
   "cell_type": "code",
   "execution_count": 39,
   "id": "21f28468",
   "metadata": {},
   "outputs": [
    {
     "data": {
      "text/plain": [
       "(810, 2)"
      ]
     },
     "execution_count": 39,
     "metadata": {},
     "output_type": "execute_result"
    }
   ],
   "source": [
    "#Оставим сообщения длинее 200 символов\n",
    "chat = chats.dropna()\n",
    "chat = chats[chats['message_text'].str.len() > 200]\n",
    "chat.shape"
   ]
  },
  {
   "cell_type": "code",
   "execution_count": 41,
   "id": "d460060b",
   "metadata": {},
   "outputs": [],
   "source": [
    "chat.to_csv('messages.csv')"
   ]
  },
  {
   "cell_type": "markdown",
   "id": "34cf0ff6",
   "metadata": {},
   "source": [
    "# Посты в телеграм - каналах"
   ]
  },
  {
   "cell_type": "code",
   "execution_count": 53,
   "id": "8b182091",
   "metadata": {},
   "outputs": [
    {
     "name": "stdout",
     "output_type": "stream",
     "text": [
      "Парсинг сообщений группы успешно выполнен.\n"
     ]
    }
   ],
   "source": [
    "with open(\"КЛУБ РОСКОШНЫХ.csv\", \"w+\", newline='', encoding=\"UTF-8\") as f:\n",
    "    writer = csv.writer(f, delimiter=\",\", lineterminator=\"\\n\")\n",
    "    writer.writerow([\"message_id\",\"message_text\"])\n",
    "    async for message in client.iter_messages(chat_name1):\n",
    "        writer.writerow([message.id, message.text])     \n",
    "print(\"Парсинг сообщений группы успешно выполнен.\")"
   ]
  },
  {
   "cell_type": "code",
   "execution_count": null,
   "id": "ece7ce0c",
   "metadata": {},
   "outputs": [],
   "source": [
    "df = pd.read"
   ]
  },
  {
   "cell_type": "code",
   "execution_count": 40,
   "id": "82181f50",
   "metadata": {},
   "outputs": [
    {
     "name": "stdout",
     "output_type": "stream",
     "text": [
      "Парсинг сообщений группы успешно выполнен.\n"
     ]
    }
   ],
   "source": [
    "w = {'эксперт': ['эксперт', 'преподаватель', 'курс', 'автор курса' , 'судья чемпионата','рекомендую', 'советую', 'опыт работы','меня зовут']}\n",
    "with open(\"test.csv\", \"w+\", newline='', encoding=\"UTF-8\") as f:\n",
    "    writer = csv.writer(f, delimiter=\",\", lineterminator=\"\\n\")\n",
    "    writer.writerow([\"message_id\",\"message_text\"])\n",
    "    async for message in client.iter_messages(chat_name2, search= 'Рекоменду'):\n",
    "            writer.writerow([message.id, message.text])     \n",
    "print(\"Парсинг сообщений группы успешно выполнен.\")"
   ]
  },
  {
   "cell_type": "code",
   "execution_count": 9,
   "id": "303a2871",
   "metadata": {},
   "outputs": [
    {
     "name": "stdout",
     "output_type": "stream",
     "text": [
      "Парсинг сообщений группы успешно выполнен.\n"
     ]
    }
   ],
   "source": [
    "with open(\"telegram_channel.csv\", \"w+\", newline='', encoding=\"UTF-8\") as f:\n",
    "    writer = csv.writer(f, delimiter=\",\", lineterminator=\"\\n\")\n",
    "    writer.writerow([\"message_id\",\"message_text\"])\n",
    "    async for message in client.iter_messages(telegram_channel2):\n",
    "        writer.writerow([message.id, message.text])     \n",
    "print(\"Парсинг сообщений группы успешно выполнен.\")"
   ]
  },
  {
   "cell_type": "code",
   "execution_count": 28,
   "id": "11a433cd",
   "metadata": {},
   "outputs": [
    {
     "name": "stdout",
     "output_type": "stream",
     "text": [
      "Парсинг сообщений группы успешно выполнен.\n"
     ]
    }
   ],
   "source": [
    "with open(\"telegram_channel.csv\", \"w+\", newline='', encoding=\"UTF-8\") as f:\n",
    "    writer = csv.writer(f, delimiter=\",\", lineterminator=\"\\n\")\n",
    "    writer.writerow([\"message_id\",\"message_text\"])\n",
    "    async for message in client.iter_messages(telegram_channel3):\n",
    "        writer.writerow([message.id, message.text])     \n",
    "print(\"Парсинг сообщений группы успешно выполнен.\")"
   ]
  },
  {
   "cell_type": "code",
   "execution_count": 29,
   "id": "0803571e",
   "metadata": {},
   "outputs": [],
   "source": [
    "channels = pd.read_csv('telegram_channel.csv')"
   ]
  },
  {
   "cell_type": "code",
   "execution_count": 30,
   "id": "7fcfac63",
   "metadata": {},
   "outputs": [],
   "source": [
    "telegram_channel = channels.dropna()"
   ]
  },
  {
   "cell_type": "code",
   "execution_count": 31,
   "id": "345cafc3",
   "metadata": {},
   "outputs": [
    {
     "data": {
      "text/plain": [
       "(2452, 2)"
      ]
     },
     "execution_count": 31,
     "metadata": {},
     "output_type": "execute_result"
    }
   ],
   "source": [
    "#Оставим посты длинее 200 символов\n",
    "telegram_posts = telegram_channel[telegram_channel['message_text'].str.len() > 200]\n",
    "telegram_posts.shape"
   ]
  },
  {
   "cell_type": "code",
   "execution_count": 32,
   "id": "bc368fd0",
   "metadata": {},
   "outputs": [],
   "source": [
    "telegram_posts.to_csv('telegram_posts.csv')"
   ]
  },
  {
   "cell_type": "code",
   "execution_count": 41,
   "id": "72db19cb",
   "metadata": {},
   "outputs": [
    {
     "data": {
      "text/plain": [
       "<Future pending cb=[shield.<locals>._outer_done_callback() at /Users/admin/anaconda3/lib/python3.11/asyncio/tasks.py:908]>"
      ]
     },
     "execution_count": 41,
     "metadata": {},
     "output_type": "execute_result"
    }
   ],
   "source": [
    "client.disconnect()"
   ]
  }
 ],
 "metadata": {
  "kernelspec": {
   "display_name": "Python 3 (ipykernel)",
   "language": "python",
   "name": "python3"
  },
  "language_info": {
   "codemirror_mode": {
    "name": "ipython",
    "version": 3
   },
   "file_extension": ".py",
   "mimetype": "text/x-python",
   "name": "python",
   "nbconvert_exporter": "python",
   "pygments_lexer": "ipython3",
   "version": "3.11.8"
  }
 },
 "nbformat": 4,
 "nbformat_minor": 5
}
